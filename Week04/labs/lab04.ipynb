{
 "cells": [
  {
   "cell_type": "markdown",
   "id": "a39e1fe8",
   "metadata": {
    "id": "Av5g6G0kOd0o"
   },
   "source": [
    "# Lab"
   ]
  },
  {
   "cell_type": "markdown",
   "id": "e5a82da2",
   "metadata": {
    "id": "R12lK4GoPCpv"
   },
   "source": [
    "Using the flights dataframe answer the following questions"
   ]
  },
  {
   "cell_type": "markdown",
   "id": "afe78a67",
   "metadata": {
    "id": "UvXkVk7Iji0l"
   },
   "source": [
    "1. When do the first and last flights leave each day?\n",
    "\n",
    "2. When there is a missing value in `dep_time` then this is an indication of canceled flight. Find the number of cancelled flights for each (`carrier`, `origin`) combination.\n",
    "\n",
    "3. Which carrier has the worst `dep_delay`s? \n",
    "\n",
    "4. Which plane (`tailnum`) has the worst on-time record?\n",
    "\n",
    "5. For each plane, count the number of flights before the first delay of greater than 1 hour."
   ]
  },
  {
   "cell_type": "code",
   "execution_count": null,
   "id": "a963c799",
   "metadata": {},
   "outputs": [],
   "source": [
    "import pandas as pd\n",
    "url = 'https://raw.githubusercontent.com/msaricaumbc/DS_data/master/nyc_flights.csv'\n",
    "\n",
    "flights = pd.read_csv(url)"
   ]
  }
 ],
 "metadata": {
  "kernelspec": {
   "display_name": "Python 3",
   "language": "python",
   "name": "python3"
  },
  "language_info": {
   "codemirror_mode": {
    "name": "ipython",
    "version": 3
   },
   "file_extension": ".py",
   "mimetype": "text/x-python",
   "name": "python",
   "nbconvert_exporter": "python",
   "pygments_lexer": "ipython3",
   "version": "3.8.8"
  },
  "toc": {
   "base_numbering": 1,
   "nav_menu": {},
   "number_sections": true,
   "sideBar": true,
   "skip_h1_title": false,
   "title_cell": "Table of Contents",
   "title_sidebar": "Contents",
   "toc_cell": false,
   "toc_position": {},
   "toc_section_display": true,
   "toc_window_display": false
  }
 },
 "nbformat": 4,
 "nbformat_minor": 5
}
