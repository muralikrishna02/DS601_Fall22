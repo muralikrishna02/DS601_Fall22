{
 "cells": [
  {
   "cell_type": "markdown",
   "id": "495b7faf",
   "metadata": {},
   "source": [
    "# Part-IV\n",
    "\n",
    "## Lab Part1\n",
    "\n",
    "Please choose appropriate graph and visualize the followings with correct/appropriate labels\n",
    "\n",
    "* Height only\n",
    "* Points only\n",
    "* Height vs Points"
   ]
  },
  {
   "cell_type": "code",
   "execution_count": 1,
   "id": "9c15011b",
   "metadata": {},
   "outputs": [],
   "source": [
    "import pandas as pd\n",
    "\n",
    "nba_players = pd.read_csv('https://raw.githubusercontent.com/msaricaumbc/DS_data/master/all_seasons.csv', index_col = 0)\n",
    "\n",
    "height = nba_players['player_height']\n",
    "points = nba_players['pts']"
   ]
  },
  {
   "cell_type": "code",
   "execution_count": null,
   "id": "13ca1c1c",
   "metadata": {},
   "outputs": [],
   "source": [
    "import matplotlib.pyplot as plt\n"
   ]
  },
  {
   "cell_type": "code",
   "execution_count": null,
   "id": "cd545a6a",
   "metadata": {},
   "outputs": [],
   "source": []
  },
  {
   "cell_type": "code",
   "execution_count": null,
   "id": "6edc2399",
   "metadata": {},
   "outputs": [],
   "source": []
  },
  {
   "cell_type": "code",
   "execution_count": null,
   "id": "efd12fbe",
   "metadata": {},
   "outputs": [],
   "source": []
  },
  {
   "cell_type": "code",
   "execution_count": null,
   "id": "10e3c73c",
   "metadata": {},
   "outputs": [],
   "source": []
  },
  {
   "cell_type": "markdown",
   "id": "dfb290f9",
   "metadata": {},
   "source": [
    "## Lab Part2\n",
    "Please visualize year vs score with correct/appropriate labels"
   ]
  },
  {
   "cell_type": "code",
   "execution_count": 20,
   "id": "47e84bf3",
   "metadata": {},
   "outputs": [],
   "source": [
    "bowling_data = pd.read_csv(\"https://raw.githubusercontent.com/msaricaumbc/DS_data/master/bowling_stats.csv\",\n",
    "                            header=None,\n",
    "                            names=['year','city','state','count1','count2'])\n",
    "def merge_columns(row):\n",
    "    if pd.isna(row['count2']):\n",
    "        return row['count1']\n",
    "    else:\n",
    "        return row['count1']*1000+row['count2']\n",
    "    \n",
    "bowling_data['total']=bowling_data.apply(merge_columns,axis=1)\n",
    "\n",
    "year = bowling_data['year']\n",
    "score = bowling_data['total']"
   ]
  },
  {
   "cell_type": "code",
   "execution_count": null,
   "id": "a7de6537",
   "metadata": {},
   "outputs": [],
   "source": []
  }
 ],
 "metadata": {
  "kernelspec": {
   "display_name": "Python 3",
   "language": "python",
   "name": "python3"
  },
  "language_info": {
   "codemirror_mode": {
    "name": "ipython",
    "version": 3
   },
   "file_extension": ".py",
   "mimetype": "text/x-python",
   "name": "python",
   "nbconvert_exporter": "python",
   "pygments_lexer": "ipython3",
   "version": "3.8.8"
  },
  "toc": {
   "base_numbering": 1,
   "nav_menu": {},
   "number_sections": true,
   "sideBar": true,
   "skip_h1_title": false,
   "title_cell": "Table of Contents",
   "title_sidebar": "Contents",
   "toc_cell": false,
   "toc_position": {},
   "toc_section_display": true,
   "toc_window_display": false
  }
 },
 "nbformat": 4,
 "nbformat_minor": 5
}
