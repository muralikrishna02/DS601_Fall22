{
  "cells": [
    {
      "cell_type": "markdown",
      "metadata": {
        "id": "425024c2"
      },
      "source": [
        "## Homework 2\n",
        "\n",
        "Please complete the functions below. These functions are for to simulate a fair and a biased die. \n",
        "\n",
        "The biased die has probabilities {0.20, 0.10, 0.15, 0.15, 0.15, 0.25}.\n",
        "\n",
        "Create 2 visualizations that shows outcomes of multiple rolls of a fair die and biased die. \n",
        "* Visualization for fair die\n",
        "* Visualization for biased die\n",
        "\n",
        "Repeat the process programatically and take the mean to create a new list. This list will be used to compare means of biased & unbiased dice. \n",
        "* Create a historgram showing means of biased & unbiased die\n",
        "\n",
        "* Use subcharts\n",
        "* All visualizations must have appropriate titles.\n",
        "* There are 3 visualization and expected format is \n",
        "```\n",
        " [V1] [V2]\n",
        " [   V3  ]\n",
        " ```"
      ],
      "id": "425024c2"
    },
    {
      "cell_type": "code",
      "execution_count": null,
      "metadata": {
        "id": "7078d18a"
      },
      "outputs": [],
      "source": [
        "import random \n",
        "import matplotlib.pyplot as plt\n",
        "\n",
        "trial_count = 500\n",
        "\n",
        "def fair_die_simulations(trials):\n",
        "    \"\"\"\n",
        "    returns an array of randomly numbers between 1 and 6. \n",
        "    \"\"\"\n",
        "    options = [1,2,3,4,5,6]\n",
        "    simulations = []\n",
        "    for i in range(0,trials):\n",
        "      simulations.append(random.choice(options))\n",
        "    return simulations"
      ],
      "id": "7078d18a"
    },
    {
      "cell_type": "code",
      "execution_count": null,
      "metadata": {
        "id": "5a02e11e"
      },
      "outputs": [],
      "source": [
        "def biased_die_simulations(trials, weights=[0.25, 0.15, 0.15, 0.15, 0.15, 0.15]):\n",
        "    \"\"\"\n",
        "    returns an array of randomly numbers between 1 and 6 with the probabilty of assosiated weight. \n",
        "    for instance: for weights: [0.25, 0.15, 0.15, 0.15, 0.15, 0.15]\n",
        "    1 has 0.25 change to be selected, 2 has 0.15 chance and so on...\n",
        "    \"\"\"\n",
        "    \n",
        "    options = [1,2,3,4,5,6]\n",
        "    simulations = []\n",
        "    weight1 = weights[0]\n",
        "    weight2 = weights[0] + weights[1]\n",
        "    weight3 = weights[0] + weights[1] + weights[2]\n",
        "    weight4 = weights[0] + weights[1] + weights[2] + weights[3]\n",
        "    weight5 = weights[0] + weights[1] + weights[2] + weights[3] + weights[4]\n",
        "    \n",
        "    # Creating for loop for number of trials\n",
        "    for i in range(0, trials):\n",
        "        die_roll = random.random()\n",
        "        if 0 <= die_roll <= weight1:\n",
        "            # Appending value \"1\" to simulations list if die_roll output is between (0,0.25) in this case\n",
        "            simulations.append(options[0])\n",
        "        elif weight1 < die_roll <= weight2:\n",
        "            # Appending value \"2\" to simulations list if die_roll output is between (0.25,0.4) in this case and so on..\n",
        "            simulations.append(options[1])\n",
        "        elif weight2 < die_roll <= weight3:\n",
        "            simulations.append(options[2])\n",
        "        elif weight3 < die_roll <= weight4:\n",
        "            simulations.append(options[3])\n",
        "        elif weight4 < die_roll <= weight5:\n",
        "            simulations.append(options[4])\n",
        "        else:\n",
        "            simulations.append(options[5])\n",
        "    return simulations"
      ],
      "id": "5a02e11e"
    },
    {
      "cell_type": "code",
      "execution_count": null,
      "metadata": {
        "id": "d209b72c"
      },
      "outputs": [],
      "source": [
        "# Creating two separate lists for both biased and unbiased die\n",
        "biased_mean_list = []\n",
        "unbiased_mean_list = []\n",
        "# Creating for loop for number of trials for mean\n",
        "for i in range(0,trial_count):\n",
        "    fair = fair_die_simulations(trial_count)\n",
        "    biased = biased_die_simulations(trial_count)\n",
        "    # calculating fair die mean value for each iteration\n",
        "    fair_average = sum(fair)/len(fair)\n",
        "    # appending mean values to unbiased list\n",
        "    unbiased_mean_list.append(fair_average)\n",
        "    # calcuting biased die mean value for each iteration\n",
        "    biased_average = sum(biased)/len(biased)\n",
        "    # appending mean values to biased list\n",
        "    biased_mean_list.append(biased_average)"
      ],
      "id": "d209b72c"
    },
    {
      "cell_type": "code",
      "execution_count": null,
      "metadata": {
        "colab": {
          "base_uri": "https://localhost:8080/",
          "height": 585
        },
        "id": "820b8321",
        "outputId": "9b2da43a-03cd-4e26-c50a-6743834e5db3"
      },
      "outputs": [
        {
          "output_type": "display_data",
          "data": {
            "text/plain": [
              "<Figure size 720x576 with 3 Axes>"
            ],
            "image/png": "[encoded data removed]"
          },
          "metadata": {
            "needs_background": "light"
          }
        }
      ],
      "source": [
        "# Plotting histogram sub-plots for fair, biased and comparision of mean values for fair & biased\n",
        "plt.figure(figsize=(10,8))\n",
        "# subplot of fair die\n",
        "plt.subplot(2,2,1)\n",
        "plt.hist(fair_die_simulations(trial_count),6,color='b',edgecolor='k',alpha=0.5)\n",
        "plt.title(\"Fair Die Chart\")\n",
        "plt.xlabel(\"Die Numbers\")\n",
        "plt.ylabel(\"No. of outcomes\")\n",
        "\n",
        "# subplot of biased die\n",
        "plt.subplot(2,2,2)\n",
        "plt.hist(biased_die_simulations(trial_count), 6,color='r',edgecolor='k',alpha=0.5)\n",
        "plt.title(\"Biased Die Chart\")\n",
        "plt.xlabel(\"Die Numbers\")\n",
        "plt.ylabel(\"No. of outcomes\")\n",
        "\n",
        "# subplot for means comaprision for fair and biased die\n",
        "plt.subplot(2,2,(3,4))\n",
        "plt.hist(unbiased_mean_list, edgecolor='k', label= \"unbiased\")\n",
        "plt.hist(biased_mean_list,edgecolor='k', label= \"biased\")\n",
        "plt.title(\"Comparision of Fair and Biased Die\")\n",
        "plt.xlabel(\"Mean\")\n",
        "plt.ylabel(\"No. of outcomes of mean\")\n",
        "plt.legend(loc='upper right')\n",
        "plt.tight_layout()\n",
        "plt.show()"
      ],
      "id": "820b8321"
    },
    {
      "cell_type": "code",
      "execution_count": null,
      "metadata": {
        "id": "f0801fad"
      },
      "outputs": [],
      "source": [],
      "id": "f0801fad"
    },
    {
      "cell_type": "code",
      "execution_count": null,
      "metadata": {
        "id": "1b6705b2"
      },
      "outputs": [],
      "source": [],
      "id": "1b6705b2"
    },
    {
      "cell_type": "code",
      "execution_count": null,
      "metadata": {
        "id": "cb5bcbb9"
      },
      "outputs": [],
      "source": [],
      "id": "cb5bcbb9"
    },
    {
      "cell_type": "code",
      "execution_count": null,
      "metadata": {
        "id": "5bb897fa"
      },
      "outputs": [],
      "source": [],
      "id": "5bb897fa"
    }
  ],
  "metadata": {
    "colab": {
      "provenance": [],
      "collapsed_sections": []
    },
    "kernelspec": {
      "display_name": "Python 3",
      "language": "python",
      "name": "python3"
    },
    "language_info": {
      "codemirror_mode": {
        "name": "ipython",
        "version": 3
      },
      "file_extension": ".py",
      "mimetype": "text/x-python",
      "name": "python",
      "nbconvert_exporter": "python",
      "pygments_lexer": "ipython3",
      "version": "3.8.8"
    },
    "toc": {
      "base_numbering": 1,
      "nav_menu": {},
      "number_sections": true,
      "sideBar": true,
      "skip_h1_title": false,
      "title_cell": "Table of Contents",
      "title_sidebar": "Contents",
      "toc_cell": false,
      "toc_position": {},
      "toc_section_display": true,
      "toc_window_display": false
    }
  },
  "nbformat": 4,
  "nbformat_minor": 5
}