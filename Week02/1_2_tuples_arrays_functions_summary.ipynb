{
 "cells": [
  {
   "cell_type": "markdown",
   "metadata": {
    "id": "OgkUzqOH2sGN"
   },
   "source": [
    "## Tuples\n",
    "\n",
    "Value pairs"
   ]
  },
  {
   "cell_type": "code",
   "execution_count": 1,
   "metadata": {
    "colab": {
     "base_uri": "https://localhost:8080/"
    },
    "id": "i6RyLVcg2ylx",
    "outputId": "829d25db-f4f1-4823-a3db-cf0610302384"
   },
   "outputs": [
    {
     "data": {
      "text/plain": [
       "(True, 'hello')"
      ]
     },
     "execution_count": 1,
     "metadata": {},
     "output_type": "execute_result"
    }
   ],
   "source": [
    "(True, 'hello')"
   ]
  },
  {
   "cell_type": "code",
   "execution_count": 2,
   "metadata": {
    "colab": {
     "base_uri": "https://localhost:8080/"
    },
    "id": "5UR1HSdL3I6D",
    "outputId": "4e691b87-6da8-4177-ee45-77ffe1439bc6"
   },
   "outputs": [
    {
     "data": {
      "text/plain": [
       "(1, 10)"
      ]
     },
     "execution_count": 2,
     "metadata": {},
     "output_type": "execute_result"
    }
   ],
   "source": [
    "1, 10"
   ]
  },
  {
   "cell_type": "code",
   "execution_count": 3,
   "metadata": {
    "colab": {
     "base_uri": "https://localhost:8080/"
    },
    "id": "FszgE8Y53UQ0",
    "outputId": "65f404a4-2063-4170-9963-4e047d110e96"
   },
   "outputs": [
    {
     "name": "stdout",
     "output_type": "stream",
     "text": [
      "20 30\n"
     ]
    }
   ],
   "source": [
    "x, y = 20, 30\n",
    "print (x, y)"
   ]
  },
  {
   "cell_type": "code",
   "execution_count": 5,
   "metadata": {},
   "outputs": [],
   "source": [
    "def get_sum(a,b): \n",
    "    result = a+b\n",
    "    \n",
    "#     print(result)\n",
    "    return result\n",
    "#     return None\n",
    "\n",
    "sum_value = get_sum(5, 2)"
   ]
  },
  {
   "cell_type": "code",
   "execution_count": 6,
   "metadata": {},
   "outputs": [
    {
     "data": {
      "text/plain": [
       "7"
      ]
     },
     "execution_count": 6,
     "metadata": {},
     "output_type": "execute_result"
    }
   ],
   "source": [
    "sum_value"
   ]
  },
  {
   "cell_type": "code",
   "execution_count": 7,
   "metadata": {
    "colab": {
     "base_uri": "https://localhost:8080/"
    },
    "id": "lbLETQo93Zfo",
    "outputId": "34fe58ce-d424-4748-c431-75a4b635224b"
   },
   "outputs": [
    {
     "name": "stdout",
     "output_type": "stream",
     "text": [
      "score:  92\n",
      "letter grade A\n"
     ]
    }
   ],
   "source": [
    "def get_score(hw, midterm, final):\n",
    "  # ..\n",
    "  return (92, 'A')\n",
    "\n",
    "score, letter_grade = get_score(100, 80, 90)\n",
    "\n",
    "print ('score: ', score)\n",
    "print ('letter grade', letter_grade)"
   ]
  },
  {
   "cell_type": "markdown",
   "metadata": {
    "id": "cC10Vy0Q4JOD"
   },
   "source": [
    "## Lists"
   ]
  },
  {
   "cell_type": "markdown",
   "metadata": {
    "id": "U6ZTmGGd4QBd"
   },
   "source": [
    "Collection of stuff / mutable"
   ]
  },
  {
   "cell_type": "code",
   "execution_count": 8,
   "metadata": {
    "colab": {
     "base_uri": "https://localhost:8080/"
    },
    "id": "Gc3D-LrC4K9h",
    "outputId": "ae2de954-33b0-410e-8f85-c8e4f3fae33f"
   },
   "outputs": [
    {
     "data": {
      "text/plain": [
       "[1, 2, 3]"
      ]
     },
     "execution_count": 8,
     "metadata": {},
     "output_type": "execute_result"
    }
   ],
   "source": [
    "[1,2,3]"
   ]
  },
  {
   "cell_type": "code",
   "execution_count": 13,
   "metadata": {
    "colab": {
     "base_uri": "https://localhost:8080/"
    },
    "id": "yn37esFj5G7X",
    "outputId": "294b13fd-99d0-4ee5-a55f-b58b0d6d783d"
   },
   "outputs": [],
   "source": [
    "arr = [1, 'joe', None]\n",
    "arr\n",
    "\n",
    "arr.append('jack')"
   ]
  },
  {
   "cell_type": "code",
   "execution_count": 14,
   "metadata": {},
   "outputs": [
    {
     "data": {
      "text/plain": [
       "[1, 'joe', None, 'jack']"
      ]
     },
     "execution_count": 14,
     "metadata": {},
     "output_type": "execute_result"
    }
   ],
   "source": [
    "arr"
   ]
  },
  {
   "cell_type": "code",
   "execution_count": 15,
   "metadata": {},
   "outputs": [
    {
     "data": {
      "text/plain": [
       "[1, 'joe', None, 'jack', 5, 6]"
      ]
     },
     "execution_count": 15,
     "metadata": {},
     "output_type": "execute_result"
    }
   ],
   "source": [
    "arr2 = [5,6]\n",
    "\n",
    "# arr.append(arr2)\n",
    "# arr\n",
    "\n",
    "arr.extend(arr2)\n",
    "arr"
   ]
  },
  {
   "cell_type": "code",
   "execution_count": 16,
   "metadata": {
    "colab": {
     "base_uri": "https://localhost:8080/"
    },
    "id": "GKxt9-2d5Wjr",
    "outputId": "d9fc2690-7363-4b9b-9622-c0959ba1a816"
   },
   "outputs": [
    {
     "name": "stdout",
     "output_type": "stream",
     "text": [
      "1 : <class 'int'>\n",
      "joe : <class 'str'>\n",
      "None : <class 'NoneType'>\n",
      "jack : <class 'str'>\n",
      "5 : <class 'int'>\n",
      "6 : <class 'int'>\n"
     ]
    }
   ],
   "source": [
    "for i in arr:\n",
    "    print(i, ':', type(i))"
   ]
  },
  {
   "cell_type": "code",
   "execution_count": 17,
   "metadata": {},
   "outputs": [],
   "source": [
    "state_names = [\"Alaska\", \"Alabama\", \"Arkansas\", \"American Samoa\", \"Arizona\", \"California\", \"Colorado\", \"Connecticut\", \"District \", \"of Columbia\", \"Delaware\", \"Florida\", \"Georgia\", \"Guam\", \"Hawaii\", \"Iowa\", \"Idaho\", \"Illinois\", \"Indiana\", \"Kansas\", \"Kentucky\", \"Louisiana\", \"Massachusetts\", \"Maryland\", \"Maine\", \"Michigan\", \"Minnesota\", \"Missouri\", \"Mississippi\", \"Montana\", \"North Carolina\", \"North Dakota\", \"Nebraska\", \"New Hampshire\", \"New Jersey\", \"New Mexico\", \"Nevada\", \"New York\", \"Ohio\", \"Oklahoma\", \"Oregon\", \"Pennsylvania\", \"Puerto Rico\", \"Rhode Island\", \"South Carolina\", \"South Dakota\", \"Tennessee\", \"Texas\", \"Utah\", \"Virginia\", \"Virgin Islands\", \"Vermont\", \"Washington\", \"Wisconsin\", \"West Virginia\", \"Wyoming\"]"
   ]
  },
  {
   "cell_type": "code",
   "execution_count": 18,
   "metadata": {},
   "outputs": [
    {
     "data": {
      "text/plain": [
       "'Alaska'"
      ]
     },
     "execution_count": 18,
     "metadata": {},
     "output_type": "execute_result"
    }
   ],
   "source": [
    "state_names[0]"
   ]
  },
  {
   "cell_type": "code",
   "execution_count": 19,
   "metadata": {},
   "outputs": [
    {
     "data": {
      "text/plain": [
       "'Wyoming'"
      ]
     },
     "execution_count": 19,
     "metadata": {},
     "output_type": "execute_result"
    }
   ],
   "source": [
    "state_names[-1]"
   ]
  },
  {
   "cell_type": "code",
   "execution_count": 20,
   "metadata": {},
   "outputs": [
    {
     "data": {
      "text/plain": [
       "56"
      ]
     },
     "execution_count": 20,
     "metadata": {},
     "output_type": "execute_result"
    }
   ],
   "source": [
    "len(state_names)"
   ]
  },
  {
   "cell_type": "code",
   "execution_count": 23,
   "metadata": {},
   "outputs": [],
   "source": [
    "number = list(range(100))\n",
    "# number"
   ]
  },
  {
   "cell_type": "code",
   "execution_count": 24,
   "metadata": {},
   "outputs": [
    {
     "data": {
      "text/plain": [
       "[0, 1, 2, 3, 4, 5, 6, 7, 8, 9]"
      ]
     },
     "execution_count": 24,
     "metadata": {},
     "output_type": "execute_result"
    }
   ],
   "source": [
    "number[0:10]"
   ]
  },
  {
   "cell_type": "code",
   "execution_count": 25,
   "metadata": {},
   "outputs": [
    {
     "data": {
      "text/plain": [
       "[0, 1, 2, 3, 4, 5, 6, 7, 8, 9]"
      ]
     },
     "execution_count": 25,
     "metadata": {},
     "output_type": "execute_result"
    }
   ],
   "source": [
    "number[ :10]"
   ]
  },
  {
   "cell_type": "code",
   "execution_count": 26,
   "metadata": {},
   "outputs": [
    {
     "data": {
      "text/plain": [
       "[10, 11, 12, 13, 14]"
      ]
     },
     "execution_count": 26,
     "metadata": {},
     "output_type": "execute_result"
    }
   ],
   "source": [
    "number[10: 15]"
   ]
  },
  {
   "cell_type": "code",
   "execution_count": 27,
   "metadata": {},
   "outputs": [
    {
     "data": {
      "text/plain": [
       "[10,\n",
       " 12,\n",
       " 14,\n",
       " 16,\n",
       " 18,\n",
       " 20,\n",
       " 22,\n",
       " 24,\n",
       " 26,\n",
       " 28,\n",
       " 30,\n",
       " 32,\n",
       " 34,\n",
       " 36,\n",
       " 38,\n",
       " 40,\n",
       " 42,\n",
       " 44,\n",
       " 46,\n",
       " 48,\n",
       " 50,\n",
       " 52,\n",
       " 54,\n",
       " 56,\n",
       " 58,\n",
       " 60,\n",
       " 62,\n",
       " 64,\n",
       " 66,\n",
       " 68]"
      ]
     },
     "execution_count": 27,
     "metadata": {},
     "output_type": "execute_result"
    }
   ],
   "source": [
    "number[10: 70: 2]"
   ]
  },
  {
   "cell_type": "code",
   "execution_count": 28,
   "metadata": {},
   "outputs": [
    {
     "data": {
      "text/plain": [
       "[90, 91, 92, 93, 94, 95, 96, 97, 98, 99]"
      ]
     },
     "execution_count": 28,
     "metadata": {},
     "output_type": "execute_result"
    }
   ],
   "source": [
    "number[90:]"
   ]
  },
  {
   "cell_type": "code",
   "execution_count": 29,
   "metadata": {},
   "outputs": [
    {
     "data": {
      "text/plain": [
       "[90, 91, 92, 93, 94, 95, 96, 97, 98, 99]"
      ]
     },
     "execution_count": 29,
     "metadata": {},
     "output_type": "execute_result"
    }
   ],
   "source": [
    "number[-10:]"
   ]
  },
  {
   "cell_type": "code",
   "execution_count": 31,
   "metadata": {},
   "outputs": [
    {
     "data": {
      "text/plain": [
       "[99, 98, 97, 96, 95, 94, 93, 92, 91, 90]"
      ]
     },
     "execution_count": 31,
     "metadata": {},
     "output_type": "execute_result"
    }
   ],
   "source": [
    "number[::-1][:10]"
   ]
  },
  {
   "cell_type": "code",
   "execution_count": 32,
   "metadata": {},
   "outputs": [
    {
     "data": {
      "text/plain": [
       "'20210203'"
      ]
     },
     "execution_count": 32,
     "metadata": {},
     "output_type": "execute_result"
    }
   ],
   "source": [
    "rec = '20210203MEHMET      SARICA        '\n",
    "\n",
    "rec[:8]"
   ]
  },
  {
   "cell_type": "code",
   "execution_count": 33,
   "metadata": {},
   "outputs": [
    {
     "data": {
      "text/plain": [
       "'MEHMET '"
      ]
     },
     "execution_count": 33,
     "metadata": {},
     "output_type": "execute_result"
    }
   ],
   "source": [
    "rec[8:15]"
   ]
  },
  {
   "cell_type": "markdown",
   "metadata": {
    "id": "D7S34uocFi44"
   },
   "source": [
    "## Functions\n",
    "\n",
    "can be defined anywhere"
   ]
  },
  {
   "cell_type": "code",
   "execution_count": 38,
   "metadata": {
    "colab": {
     "base_uri": "https://localhost:8080/"
    },
    "id": "xM0lGGZHKvag",
    "outputId": "486c4d82-7fba-4cfb-9096-c343c5c9a9cc"
   },
   "outputs": [
    {
     "name": "stdout",
     "output_type": "stream",
     "text": [
      "before function definition\n",
      "after function definition\n"
     ]
    }
   ],
   "source": [
    "print ('before function definition')\n",
    "\n",
    "def some_function():\n",
    "    print('in function')\n",
    "    \n",
    "some_function()\n",
    "\n",
    "print ('after function definition')\n"
   ]
  },
  {
   "cell_type": "code",
   "execution_count": 37,
   "metadata": {},
   "outputs": [],
   "source": [
    "# globals()"
   ]
  },
  {
   "cell_type": "code",
   "execution_count": 35,
   "metadata": {
    "colab": {
     "base_uri": "https://localhost:8080/"
    },
    "id": "AyDlzrlbLvuG",
    "outputId": "ec122224-4843-4bf4-d5bb-8e181784862e"
   },
   "outputs": [
    {
     "name": "stdout",
     "output_type": "stream",
     "text": [
      "in function\n",
      "in function\n"
     ]
    }
   ],
   "source": [
    "some_function()\n",
    "some_function()"
   ]
  },
  {
   "cell_type": "markdown",
   "metadata": {
    "id": "uMpIMu2DGS0Z"
   },
   "source": [
    "Lexical scoping: \n",
    "\n",
    "variables defined outside are available inside the function but variables defined inside the functions are not available outside."
   ]
  },
  {
   "cell_type": "code",
   "execution_count": 39,
   "metadata": {
    "colab": {
     "base_uri": "https://localhost:8080/"
    },
    "id": "FXri_FpTL9of",
    "outputId": "a8c2dee9-b987-45bd-c545-09ce3512c7e9"
   },
   "outputs": [
    {
     "name": "stdout",
     "output_type": "stream",
     "text": [
      "before function definition 5\n",
      "in function 5\n",
      "after function definition 5\n"
     ]
    }
   ],
   "source": [
    "x = 5\n",
    "\n",
    "print ('before function definition', x)\n",
    "\n",
    "def some_function():\n",
    "    print('in function', x)\n",
    "\n",
    "some_function()\n",
    "\n",
    "print ('after function definition', x)\n"
   ]
  },
  {
   "cell_type": "code",
   "execution_count": 40,
   "metadata": {
    "colab": {
     "base_uri": "https://localhost:8080/",
     "height": 198
    },
    "id": "TvrgDrn9Q767",
    "outputId": "59452138-b3f4-4598-fd47-d4101427d07a"
   },
   "outputs": [
    {
     "ename": "NameError",
     "evalue": "name 'm' is not defined",
     "output_type": "error",
     "traceback": [
      "\u001b[0;31m---------------------------------------------------------------------------\u001b[0m",
      "\u001b[0;31mNameError\u001b[0m                                 Traceback (most recent call last)",
      "\u001b[0;32m<ipython-input-40-197fc4b97812>\u001b[0m in \u001b[0;36m<module>\u001b[0;34m\u001b[0m\n\u001b[1;32m      3\u001b[0m \u001b[0;34m\u001b[0m\u001b[0m\n\u001b[1;32m      4\u001b[0m \u001b[0msome_function\u001b[0m\u001b[0;34m(\u001b[0m\u001b[0;34m)\u001b[0m\u001b[0;34m\u001b[0m\u001b[0;34m\u001b[0m\u001b[0m\n\u001b[0;32m----> 5\u001b[0;31m \u001b[0mprint\u001b[0m\u001b[0;34m(\u001b[0m\u001b[0mm\u001b[0m\u001b[0;34m)\u001b[0m\u001b[0;34m\u001b[0m\u001b[0;34m\u001b[0m\u001b[0m\n\u001b[0m",
      "\u001b[0;31mNameError\u001b[0m: name 'm' is not defined"
     ]
    }
   ],
   "source": [
    "def some_function():\n",
    "    m = 6\n",
    "\n",
    "some_function()\n",
    "print(m)\n"
   ]
  },
  {
   "cell_type": "code",
   "execution_count": 44,
   "metadata": {},
   "outputs": [
    {
     "name": "stdout",
     "output_type": "stream",
     "text": [
      "before function definition 5\n",
      "in function 6\n",
      "after function definition 6\n"
     ]
    }
   ],
   "source": [
    "# x = 5\n",
    "\n",
    "# print ('before function definition', x)\n",
    "\n",
    "# def some_function():\n",
    "#     global x\n",
    "#     x = 6\n",
    "#     print('in function', x)\n",
    "\n",
    "# some_function()\n",
    "\n",
    "# print ('after function definition', x)"
   ]
  },
  {
   "cell_type": "code",
   "execution_count": 45,
   "metadata": {
    "colab": {
     "base_uri": "https://localhost:8080/"
    },
    "id": "iAXFpHg2LWiZ",
    "outputId": "86099dab-9f46-409c-88ac-f93d465a2ad4"
   },
   "outputs": [
    {
     "name": "stdout",
     "output_type": "stream",
     "text": [
      "john doe\n"
     ]
    }
   ],
   "source": [
    "# we can pass arguments\n",
    "\n",
    "def print_person(name, lastname):\n",
    "    print(name, lastname)\n",
    "\n",
    "print_person('john', 'doe')"
   ]
  },
  {
   "cell_type": "code",
   "execution_count": 46,
   "metadata": {
    "colab": {
     "base_uri": "https://localhost:8080/"
    },
    "id": "jAQhqrcAR6Kb",
    "outputId": "62ed84ea-abfd-407e-ad3d-fb4109a5c82b"
   },
   "outputs": [
    {
     "name": "stdout",
     "output_type": "stream",
     "text": [
      "john doe is 25 years old!\n",
      "john doe is 40 years old!\n"
     ]
    }
   ],
   "source": [
    "# we can define parameters with default values\n",
    "def print_person(name, lastname, age=25):\n",
    "    print(f'{name} {lastname} is {age} years old!')\n",
    "#     return None\n",
    "\n",
    "print_person('john', 'doe')\n",
    "print_person('john', 'doe', 40)\n"
   ]
  },
  {
   "cell_type": "code",
   "execution_count": 47,
   "metadata": {
    "colab": {
     "base_uri": "https://localhost:8080/"
    },
    "id": "cHh4RRIdVgV7",
    "outputId": "6ff53fe2-7bf2-49a9-8f47-06ee6f220efc"
   },
   "outputs": [
    {
     "data": {
      "text/plain": [
       "42"
      ]
     },
     "execution_count": 47,
     "metadata": {},
     "output_type": "execute_result"
    }
   ],
   "source": [
    "# we can also return values\n",
    "\n",
    "from datetime import datetime\n",
    "\n",
    "def calculate_age(birth_year):\n",
    "    today = datetime.today()\n",
    "    return today.year - birth_year\n",
    "\n",
    "calculate_age(1980)"
   ]
  },
  {
   "cell_type": "code",
   "execution_count": 48,
   "metadata": {
    "colab": {
     "base_uri": "https://localhost:8080/"
    },
    "id": "BgnXXfDsWL2Y",
    "outputId": "d1d87dec-bac0-4005-eff9-7ededc0feadc"
   },
   "outputs": [
    {
     "name": "stdout",
     "output_type": "stream",
     "text": [
      "jack smith is 72 years old!\n"
     ]
    }
   ],
   "source": [
    "age = calculate_age(1950)\n",
    "print_person('jack', 'smith', age)"
   ]
  },
  {
   "cell_type": "code",
   "execution_count": 51,
   "metadata": {
    "colab": {
     "base_uri": "https://localhost:8080/"
    },
    "id": "xnukfb6XFnmH",
    "outputId": "d0d6131f-0210-483b-c0b3-2d408b2199ab"
   },
   "outputs": [
    {
     "name": "stdout",
     "output_type": "stream",
     "text": [
      "hello\n",
      "None\n"
     ]
    }
   ],
   "source": [
    "# if you don't return anything it will implicitly return None\n",
    "\n",
    "def some_function():\n",
    "    print ('hello')\n",
    "#     return None\n",
    "\n",
    "value = some_function()\n",
    "print(value)"
   ]
  },
  {
   "cell_type": "code",
   "execution_count": null,
   "metadata": {},
   "outputs": [],
   "source": [
    "def some_function(x):\n",
    "    print('in function before changing value', x)\n",
    "    x = 6\n",
    "    print('in function after changing value', x)\n",
    "#     print(locals())\n",
    "\n",
    "x = 5\n",
    "some_function(x)\n",
    "print('after running function', x)"
   ]
  },
  {
   "cell_type": "markdown",
   "metadata": {
    "id": "vrKQCgKJWj5z"
   },
   "source": [
    "Mutable/Immutable"
   ]
  },
  {
   "cell_type": "code",
   "execution_count": 55,
   "metadata": {},
   "outputs": [
    {
     "name": "stdout",
     "output_type": "stream",
     "text": [
      "<class 'list'>\n",
      "<class 'list'>\n",
      "[1, 2, 3, 3]\n"
     ]
    }
   ],
   "source": [
    "arr = [1,2,3]\n",
    "print(type(arr))\n",
    "\n",
    "def arr_function(arr):\n",
    "    arr.append(3)\n",
    "#     arr = 3 \n",
    "\n",
    "# print(arr)\n",
    "\n",
    "# arr = 3\n",
    "arr_function(arr)\n",
    "print(type(arr))\n",
    "print(arr)"
   ]
  },
  {
   "cell_type": "code",
   "execution_count": 58,
   "metadata": {
    "colab": {
     "base_uri": "https://localhost:8080/"
    },
    "id": "Y6ioKB23KfvR",
    "outputId": "20152764-2967-4c0e-9ad2-6775b4abcec0"
   },
   "outputs": [],
   "source": [
    "# x = 'test'\n",
    "# some_function(x)\n",
    "# print('after running function', x)"
   ]
  },
  {
   "cell_type": "code",
   "execution_count": null,
   "metadata": {},
   "outputs": [],
   "source": [
    "# def sum(number1, number2, number3):\n",
    "#     return number1 + number2 + number3\n",
    "\n",
    "# sum(1,2,3)\n",
    "\n",
    "# del sum"
   ]
  },
  {
   "cell_type": "code",
   "execution_count": 59,
   "metadata": {
    "colab": {
     "base_uri": "https://localhost:8080/"
    },
    "id": "4ftCXinZXBSv",
    "outputId": "6d46db91-8f2a-4b59-c597-4cc20e231201"
   },
   "outputs": [
    {
     "name": "stdout",
     "output_type": "stream",
     "text": [
      "before function definition [1, 2, 3]\n",
      "in function ['a', 2, 3]\n",
      "after function definition ['a', 2, 3]\n"
     ]
    }
   ],
   "source": [
    "x = [1,2,3]\n",
    "\n",
    "print ('before function definition', x)\n",
    "\n",
    "def some_function(arr):\n",
    "    arr[0] = 'a'\n",
    "    print('in function', arr)\n",
    "\n",
    "some_function(x)\n",
    "\n",
    "print ('after function definition', x)\n"
   ]
  },
  {
   "cell_type": "code",
   "execution_count": 60,
   "metadata": {
    "colab": {
     "base_uri": "https://localhost:8080/"
    },
    "id": "qSe-oqb5XSpx",
    "outputId": "b42eef69-0018-4cb3-ac84-18c8715ce2ae"
   },
   "outputs": [
    {
     "name": "stdout",
     "output_type": "stream",
     "text": [
      "before function definition {'a': 1, 'b': 2}\n",
      "in function {'a': 1, 'b': 2, 0: 'a'}\n",
      "after function definition {'a': 1, 'b': 2, 0: 'a'}\n"
     ]
    }
   ],
   "source": [
    "x = {\n",
    "    'a': 1,\n",
    "    'b': 2\n",
    "}\n",
    "print ('before function definition', x)\n",
    "\n",
    "def some_function(arr):\n",
    "    arr[0] = 'a'\n",
    "    print('in function', arr)\n",
    "\n",
    "some_function(x)\n",
    "\n",
    "print ('after function definition', x)\n"
   ]
  },
  {
   "cell_type": "markdown",
   "metadata": {
    "id": "SC3ymn6IYoHm"
   },
   "source": [
    "Let's write a function to calculate student homework grades. \n",
    "\n",
    "Code below is fine but anything more complicated than this may lead to `figure 1`"
   ]
  },
  {
   "cell_type": "code",
   "execution_count": 61,
   "metadata": {
    "colab": {
     "base_uri": "https://localhost:8080/"
    },
    "id": "A5kqM4EcaD7l",
    "outputId": "fc2166d4-8442-4850-c3f2-6bd390243f6c"
   },
   "outputs": [
    {
     "name": "stdout",
     "output_type": "stream",
     "text": [
      "Your final grade is 85.71428571428571\n"
     ]
    }
   ],
   "source": [
    "grades = [100, 90, 70, 90, 80, 80, 90]\n",
    "final_grade = sum(grades) / len(grades)\n",
    "print (f'Your final grade is {final_grade}')"
   ]
  },
  {
   "cell_type": "markdown",
   "metadata": {
    "id": "G-RmjXiEahGU"
   },
   "source": [
    "we can change this as the following"
   ]
  },
  {
   "cell_type": "code",
   "execution_count": 62,
   "metadata": {
    "colab": {
     "base_uri": "https://localhost:8080/"
    },
    "id": "afgEKa0BYMQz",
    "outputId": "2cff90d2-f13e-42a2-f1ab-a0240e7df7d0"
   },
   "outputs": [
    {
     "data": {
      "text/plain": [
       "85.71428571428571"
      ]
     },
     "execution_count": 62,
     "metadata": {},
     "output_type": "execute_result"
    }
   ],
   "source": [
    "def get_average(arr):  # generic names because I can use it on any arrays to take the average\n",
    "    return sum(arr) / len(arr)\n",
    "\n",
    "def get_final_homework_score(arr):\n",
    "#     return 100\n",
    "    return get_average(arr)\n",
    "\n",
    "get_final_homework_score([100, 90, 70, 90, 80, 80, 90])"
   ]
  },
  {
   "cell_type": "code",
   "execution_count": 63,
   "metadata": {},
   "outputs": [
    {
     "data": {
      "text/plain": [
       "7.5"
      ]
     },
     "execution_count": 63,
     "metadata": {},
     "output_type": "execute_result"
    }
   ],
   "source": [
    "get_final_homework_score([10,5])"
   ]
  },
  {
   "cell_type": "markdown",
   "metadata": {
    "id": "Pq7FRU-XbNkY"
   },
   "source": [
    "Each function should only perform the functionality it claims that it does. It should be truthful.\n",
    "\n"
   ]
  },
  {
   "cell_type": "code",
   "execution_count": null,
   "metadata": {},
   "outputs": [],
   "source": []
  },
  {
   "cell_type": "code",
   "execution_count": null,
   "metadata": {
    "id": "rI0StyE8boiX"
   },
   "outputs": [],
   "source": [
    "# Example:\n",
    "\n",
    "def load_data(url):\n",
    "    # loads only data\n",
    "    data = None\n",
    "    return data\n",
    "\n",
    "def clean_data(data):\n",
    "    # receives the data\n",
    "    return data # this is cleaned data\n",
    "\n",
    "def get_clean_data(url):\n",
    "    data = load_data(url)\n",
    "    data = clean_data(data)\n",
    "    return data"
   ]
  },
  {
   "cell_type": "markdown",
   "metadata": {
    "id": "q01uKDtlbHzS"
   },
   "source": [
    "Let's continue to our grade calculation. I wanna change how I calculate the results. \n",
    "\n",
    "Now I wanna take the average of first three scores.\n"
   ]
  },
  {
   "cell_type": "code",
   "execution_count": null,
   "metadata": {
    "colab": {
     "base_uri": "https://localhost:8080/"
    },
    "id": "VUMXrknVbDU6",
    "outputId": "e1219efc-c079-4112-9901-e7b05c191818"
   },
   "outputs": [],
   "source": [
    "grades = [100, 100, 100, 90, 80, 80, 90]\n",
    "\n",
    "# the following will work but it's wrong. why??\n",
    "first_three = grades[:3]\n",
    "# print(first_three)\n",
    "final_grade = get_final_homework_score(first_three)\n",
    "print('Final hw score is ', final_grade)"
   ]
  },
  {
   "cell_type": "code",
   "execution_count": null,
   "metadata": {
    "id": "UYSKvAUadZ9u"
   },
   "outputs": [],
   "source": [
    "def get_final_homework_score(arr, method=None):\n",
    "    if method == 'first_3':\n",
    "        first_three = arr[:3]\n",
    "        return get_average(first_three)\n",
    "    else: \n",
    "        return get_average(arr)"
   ]
  },
  {
   "cell_type": "code",
   "execution_count": null,
   "metadata": {
    "colab": {
     "base_uri": "https://localhost:8080/"
    },
    "id": "hvnC4NzefCJk",
    "outputId": "b71bc466-29f3-475f-8db7-d5f9dd858f78"
   },
   "outputs": [],
   "source": [
    "final_grade = get_final_homework_score(grades)\n",
    "print('Final hw score is ', final_grade)"
   ]
  },
  {
   "cell_type": "code",
   "execution_count": null,
   "metadata": {
    "colab": {
     "base_uri": "https://localhost:8080/"
    },
    "id": "GfUHCgEPfKs9",
    "outputId": "b3aea243-76e1-4120-97ba-bee1d38344d7"
   },
   "outputs": [],
   "source": [
    "final_grade = get_final_homework_score(grades, method='average')\n",
    "print('Final hw score is ', final_grade)"
   ]
  },
  {
   "cell_type": "code",
   "execution_count": null,
   "metadata": {
    "colab": {
     "base_uri": "https://localhost:8080/"
    },
    "id": "6xb4mYZcfPZS",
    "outputId": "c460d00f-061c-471a-d8b5-0c8f6062937b"
   },
   "outputs": [],
   "source": [
    "final_grade = get_final_homework_score(grades, method='first_3')\n",
    "print('Final hw score is ', final_grade)"
   ]
  },
  {
   "cell_type": "markdown",
   "metadata": {
    "id": "xoDUQOkIfVB2"
   },
   "source": [
    "What if I keep changing the calcuation method and if I use this function in many places... "
   ]
  },
  {
   "cell_type": "markdown",
   "metadata": {
    "id": "PwwiZA_nfrm5"
   },
   "source": [
    "--"
   ]
  },
  {
   "cell_type": "markdown",
   "metadata": {
    "id": "yfCy7ItcYS7C"
   },
   "source": [
    "Functions are first class citizens! (*Important)"
   ]
  },
  {
   "cell_type": "code",
   "execution_count": null,
   "metadata": {
    "id": "BNIapI2hYXa5"
   },
   "outputs": [],
   "source": [
    "def get_final_homework_score(arr, func=None): # (list) => number\n",
    "    if func == None:\n",
    "        return get_average(arr)\n",
    "    else: \n",
    "        return func(arr)"
   ]
  },
  {
   "cell_type": "code",
   "execution_count": null,
   "metadata": {},
   "outputs": [],
   "source": [
    "grades = [100, 100, 100, 90, 80, 80, 90]\n",
    "\n",
    "get_final_homework_score(grades)"
   ]
  },
  {
   "cell_type": "code",
   "execution_count": null,
   "metadata": {
    "colab": {
     "base_uri": "https://localhost:8080/"
    },
    "id": "08nFkm42Y--L",
    "outputId": "c3ee20c0-4eaa-47bd-8e11-185d827d8188"
   },
   "outputs": [],
   "source": [
    "\n",
    "def average_only_number_greater_than_80(arr):\n",
    "    greater_th_80 = [x for x in arr if x > 80]\n",
    "    average = get_average(greater_th_80)\n",
    "    return average\n",
    "\n",
    "average_only_number_greater_than_80(grades)"
   ]
  },
  {
   "cell_type": "code",
   "execution_count": null,
   "metadata": {
    "colab": {
     "base_uri": "https://localhost:8080/"
    },
    "id": "iqpApBS7gXL1",
    "outputId": "6845d271-ee25-4df5-9334-68f0c5ec8cf2"
   },
   "outputs": [],
   "source": [
    "final_grade = get_final_homework_score(grades, func = average_only_number_greater_than_80)\n",
    "print('Final hw score is ', final_grade)"
   ]
  },
  {
   "cell_type": "code",
   "execution_count": null,
   "metadata": {
    "colab": {
     "base_uri": "https://localhost:8080/"
    },
    "id": "5oA54Pt9hDg4",
    "outputId": "891fa43a-ff6d-4e40-dce1-73c8dea82409"
   },
   "outputs": [],
   "source": [
    "def only_last_two(arr):\n",
    "    return get_average(arr[-2:])\n",
    "\n",
    "final_grade = get_final_homework_score(grades, func = only_last_two)\n",
    "print('Final hw score is ', final_grade)"
   ]
  },
  {
   "cell_type": "code",
   "execution_count": null,
   "metadata": {
    "id": "Zm5cOnimhWPQ"
   },
   "outputs": [],
   "source": [
    "def give_good_score(arr):\n",
    "    return 100\n",
    "\n",
    "final_grade = get_final_homework_score(grades, func = give_good_score)\n",
    "print('Final hw score is ', final_grade)"
   ]
  },
  {
   "cell_type": "code",
   "execution_count": 65,
   "metadata": {},
   "outputs": [],
   "source": [
    "def download(url, print_func=None):\n",
    "    for i in range(0, 100):\n",
    "        if print_func == None:\n",
    "            print (f'{i}% completed')\n",
    "        else:\n",
    "            print_func(i)\n",
    "        \n",
    "# download('someurl')"
   ]
  },
  {
   "cell_type": "code",
   "execution_count": 67,
   "metadata": {},
   "outputs": [
    {
     "name": "stdout",
     "output_type": "stream",
     "text": [
      "0% tamamlandi\n",
      "10% tamamlandi\n",
      "20% tamamlandi\n",
      "30% tamamlandi\n",
      "40% tamamlandi\n",
      "50% tamamlandi\n",
      "60% tamamlandi\n",
      "70% tamamlandi\n",
      "80% tamamlandi\n",
      "90% tamamlandi\n"
     ]
    }
   ],
   "source": [
    "def turkish_print(perc):\n",
    "    if perc % 10 == 0:\n",
    "        print(f'{perc}% tamamlandi')\n",
    "    \n",
    "download('some', turkish_print)"
   ]
  },
  {
   "cell_type": "code",
   "execution_count": 68,
   "metadata": {},
   "outputs": [
    {
     "name": "stdout",
     "output_type": "stream",
     "text": [
      "0% complete, your are almost there\n",
      "10% complete, your are almost there\n",
      "20% complete, your are almost there\n",
      "30% complete, your are almost there\n",
      "40% complete, your are almost there\n",
      "half way there.. hang on \n",
      "50% complete, your are almost there\n",
      "60% complete, your are almost there\n",
      "70% complete, your are almost there\n",
      "80% complete, your are almost there\n",
      "90% complete, your are almost there\n"
     ]
    }
   ],
   "source": [
    "def custom_perc(perc):\n",
    "    if perc == 50:\n",
    "        print ('half way there.. hang on ')\n",
    "    if perc % 10 == 0:\n",
    "        print(f'{perc}% complete, your are almost there')\n",
    "        \n",
    "download('adfs', custom_perc)"
   ]
  },
  {
   "cell_type": "code",
   "execution_count": 69,
   "metadata": {},
   "outputs": [],
   "source": [
    "def some_func(*args):\n",
    "    print (args)"
   ]
  },
  {
   "cell_type": "code",
   "execution_count": 70,
   "metadata": {},
   "outputs": [
    {
     "name": "stdout",
     "output_type": "stream",
     "text": [
      "(1, 2, 3)\n"
     ]
    }
   ],
   "source": [
    "some_func(1,2,3)"
   ]
  },
  {
   "cell_type": "code",
   "execution_count": 71,
   "metadata": {},
   "outputs": [],
   "source": [
    "def some_func2(a,b, c, d):\n",
    "    for key, value in kwargs.items():\n",
    "        print(\"{0} = {1}\".format(key, value))"
   ]
  },
  {
   "cell_type": "code",
   "execution_count": 72,
   "metadata": {},
   "outputs": [],
   "source": [
    "# p = {\n",
    "#     'c': 1,\n",
    "#     'd': 2\n",
    "# }"
   ]
  },
  {
   "cell_type": "code",
   "execution_count": 74,
   "metadata": {},
   "outputs": [],
   "source": [
    "# some_func2(a=5, b=3, **p)"
   ]
  },
  {
   "cell_type": "code",
   "execution_count": 78,
   "metadata": {},
   "outputs": [],
   "source": [
    "def approve_everybody(score):\n",
    "    return True\n",
    "\n",
    "def approve_only_greater_50(score):\n",
    "    if score>50:\n",
    "        return True\n",
    "\n",
    "\n",
    "# apprvoal_func input score shoudl return true/false\n",
    "def approve_credit(score, approval_func ):\n",
    "    \n",
    "    if approval_func(score):\n",
    "        print ('approved')\n",
    "    else:\n",
    "        print ('not approved')\n",
    "    "
   ]
  },
  {
   "cell_type": "code",
   "execution_count": 79,
   "metadata": {},
   "outputs": [
    {
     "name": "stdout",
     "output_type": "stream",
     "text": [
      "not approved\n"
     ]
    }
   ],
   "source": [
    "approve_credit(10, approve_only_greater_50)"
   ]
  },
  {
   "cell_type": "code",
   "execution_count": null,
   "metadata": {},
   "outputs": [],
   "source": []
  }
 ],
 "metadata": {
  "colab": {
   "collapsed_sections": [],
   "name": "SomeMoreBasics.ipynb",
   "provenance": []
  },
  "kernelspec": {
   "display_name": "Python 3",
   "language": "python",
   "name": "python3"
  },
  "language_info": {
   "codemirror_mode": {
    "name": "ipython",
    "version": 3
   },
   "file_extension": ".py",
   "mimetype": "text/x-python",
   "name": "python",
   "nbconvert_exporter": "python",
   "pygments_lexer": "ipython3",
   "version": "3.8.8"
  },
  "toc": {
   "base_numbering": 1,
   "nav_menu": {},
   "number_sections": false,
   "sideBar": true,
   "skip_h1_title": false,
   "title_cell": "Table of Contents",
   "title_sidebar": "Contents",
   "toc_cell": false,
   "toc_position": {
    "height": "calc(100% - 180px)",
    "left": "10px",
    "top": "150px",
    "width": "165px"
   },
   "toc_section_display": true,
   "toc_window_display": false
  },
  "varInspector": {
   "cols": {
    "lenName": 16,
    "lenType": 16,
    "lenVar": 40
   },
   "kernels_config": {
    "python": {
     "delete_cmd_postfix": "",
     "delete_cmd_prefix": "del ",
     "library": "var_list.py",
     "varRefreshCmd": "print(var_dic_list())"
    },
    "r": {
     "delete_cmd_postfix": ") ",
     "delete_cmd_prefix": "rm(",
     "library": "var_list.r",
     "varRefreshCmd": "cat(var_dic_list()) "
    }
   },
   "types_to_exclude": [
    "module",
    "function",
    "builtin_function_or_method",
    "instance",
    "_Feature"
   ],
   "window_display": false
  }
 },
 "nbformat": 4,
 "nbformat_minor": 1
}
