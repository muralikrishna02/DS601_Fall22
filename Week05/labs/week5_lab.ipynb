{
 "cells": [
  {
   "cell_type": "markdown",
   "id": "290d42ce",
   "metadata": {},
   "source": [
    "# Week5 - Lab\n"
   ]
  },
  {
   "cell_type": "code",
   "execution_count": null,
   "id": "80d53b88",
   "metadata": {
    "id": "J73nqZQPSe5y"
   },
   "outputs": [],
   "source": [
    "import seaborn as sns\n",
    "import pandas as pd\n",
    "\n",
    "diamonds = sns.load_dataset(\"diamonds\")\n",
    "\n",
    "diamonds.head()"
   ]
  },
  {
   "cell_type": "markdown",
   "id": "0efc0e61",
   "metadata": {
    "id": "UzecQP1svnYY"
   },
   "source": [
    "#### 1.\n",
    "\n",
    "- Plot the scatter plot of price and carat. Add clarity into the plot as hue. \n",
    "\n",
    "- Do you see any pattern? Is it parallel to your expectation?"
   ]
  },
  {
   "cell_type": "code",
   "execution_count": null,
   "id": "d56399a3",
   "metadata": {},
   "outputs": [],
   "source": []
  },
  {
   "cell_type": "markdown",
   "id": "b4cccac5",
   "metadata": {
    "id": "Hwe2DQICyJDf"
   },
   "source": [
    "#### 2.\n",
    "\n",
    "- Consider `clarity` and `color` is there any pattern in their heatmap?"
   ]
  },
  {
   "cell_type": "code",
   "execution_count": null,
   "id": "ca314e74",
   "metadata": {},
   "outputs": [],
   "source": []
  },
  {
   "cell_type": "markdown",
   "id": "d1552975",
   "metadata": {
    "id": "hPW7N7jIz4AK"
   },
   "source": [
    "#### 3.\n",
    "\n",
    "- Use `carat` variable as as the size of the points in scatter plot in which x-axis is the `depth` and `price` on the y-axis."
   ]
  },
  {
   "cell_type": "code",
   "execution_count": null,
   "id": "7caff053",
   "metadata": {},
   "outputs": [],
   "source": []
  }
 ],
 "metadata": {
  "kernelspec": {
   "display_name": "Python 3",
   "language": "python",
   "name": "python3"
  },
  "language_info": {
   "codemirror_mode": {
    "name": "ipython",
    "version": 3
   },
   "file_extension": ".py",
   "mimetype": "text/x-python",
   "name": "python",
   "nbconvert_exporter": "python",
   "pygments_lexer": "ipython3",
   "version": "3.8.8"
  },
  "toc": {
   "base_numbering": 1,
   "nav_menu": {},
   "number_sections": false,
   "sideBar": true,
   "skip_h1_title": false,
   "title_cell": "Table of Contents",
   "title_sidebar": "Contents",
   "toc_cell": false,
   "toc_position": {},
   "toc_section_display": true,
   "toc_window_display": false
  }
 },
 "nbformat": 4,
 "nbformat_minor": 5
}
