{
  "cells": [
    {
      "cell_type": "markdown",
      "metadata": {
        "id": "view-in-github",
        "colab_type": "text"
      },
      "source": [
        "<a href=\"https://colab.research.google.com/github/mlavanyaumbc/DS601_Fall22/blob/main/Week01/homework/HW_01.ipynb\" target=\"_parent\"><img src=\"https://colab.research.google.com/assets/colab-badge.svg\" alt=\"Open In Colab\"/></a>"
      ]
    },
    {
      "cell_type": "markdown",
      "metadata": {
        "id": "hl3pVnDDs6Se"
      },
      "source": [
        "# Rules\n",
        "\n",
        "- We will grade only the answer cells, so make sure that you type your answer inside of the answer cell. \n",
        "\n",
        "- Make sure that your code is working when you restart the kernel. Notebooks are great tools for exploration but we should be very careful as we are writing codes. For more, please check: [Why notebooks suck](https://towardsdatascience.com/5-reasons-why-jupyter-notebooks-suck-4dc201e27086)\n",
        "\n",
        "- Make sure that your results are in the correct format. If we ask you to return a list, your answer should be in a list format. If the question asks you to return a scalar (float, int, etc.) then make sure that your answer is in the correct format.\n",
        "\n",
        "## Homework\n",
        "\n",
        "1. Correct the formatting of markdown cells\n",
        "    * Use appropriate headers\n",
        "1. Finish the coding sections."
      ]
    },
    {
      "cell_type": "markdown",
      "source": [
        "# New Section"
      ],
      "metadata": {
        "id": "f_a-2EAqv3eF"
      }
    },
    {
      "cell_type": "markdown",
      "metadata": {
        "id": "Tur9zoV6qB4I"
      },
      "source": [
        "Question-1\n",
        "\n",
        "Write a Python function to return a **list** of all the numbers from 1 to n which are divisible by 5. `n` will be given as an argument to your function.\n"
      ]
    },
    {
      "cell_type": "code",
      "execution_count": null,
      "metadata": {
        "id": "bBH79NeVs1m1",
        "outputId": "2444792e-4193-44d5-eec7-cf1769225117",
        "colab": {
          "base_uri": "https://localhost:8080/"
        }
      },
      "outputs": [
        {
          "output_type": "stream",
          "name": "stdout",
          "text": [
            "5 10 15 20 25 30 35 40 45 50 55 60 65 70 75 80 85 90 95 100 105 110 115 120\n"
          ]
        }
      ],
      "source": [
        "# Your Answer Cell\n",
        "# you can edit the function below. \n",
        "# Don't change function name and parameter names.\n",
        "# you can define new variables (if needed) inside of the function.\n",
        "\n",
        "def get_numbers_divisible_by_five(given_number):\n",
        "  l=[]\n",
        "  for i in range(1,given_number):\n",
        "    if i%5==0:\n",
        "      l.append(i)\n",
        "  return print(*l)\n",
        "\n",
        "get_numbers_divisible_by_five(121)"
      ]
    },
    {
      "cell_type": "markdown",
      "metadata": {
        "id": "9DpQ6X0io0If"
      },
      "source": [
        "Question-2\n",
        "\n",
        "Write a function that returns the sum of the parameters\n"
      ]
    },
    {
      "cell_type": "code",
      "execution_count": null,
      "metadata": {
        "id": "rmYpunGwp-bq",
        "colab": {
          "base_uri": "https://localhost:8080/"
        },
        "outputId": "2ff957eb-a9bd-428e-c15a-a859e9bd7a3b"
      },
      "outputs": [
        {
          "output_type": "execute_result",
          "data": {
            "text/plain": [
              "8"
            ]
          },
          "metadata": {},
          "execution_count": 33
        }
      ],
      "source": [
        "# Your Answer Cell\n",
        "# you can edit the function below. \n",
        "# Don't change function name and parameter names.\n",
        "# you can define new variables inside of the function.\n",
        "\n",
        "def sum_of_two_numbers(p, q):\n",
        "    S= p+q\n",
        "    return S\n",
        "\n",
        "\n",
        "## your answer above\n",
        "\n",
        "sum_of_two_numbers(3, 5)"
      ]
    },
    {
      "cell_type": "markdown",
      "metadata": {
        "id": "inGr4AOovJhj"
      },
      "source": [
        "Question-3 (Shell & Magic Commands)\n"
      ]
    },
    {
      "cell_type": "markdown",
      "metadata": {
        "id": "54izIMcAwgud"
      },
      "source": [
        "Question-3-a\n",
        "\n",
        "Below print current working directory."
      ]
    },
    {
      "cell_type": "code",
      "execution_count": null,
      "metadata": {
        "id": "0O27azQfvZjv",
        "colab": {
          "base_uri": "https://localhost:8080/"
        },
        "outputId": "b4fd9be3-a8db-40c7-f71e-b161e44853d1"
      },
      "outputs": [
        {
          "output_type": "stream",
          "name": "stdout",
          "text": [
            "/content\n"
          ]
        }
      ],
      "source": [
        "import os\n",
        "currentpath= os.getcwd()\n",
        "print(currentpath)\n",
        "\n",
        "\n"
      ]
    },
    {
      "cell_type": "markdown",
      "metadata": {
        "id": "lDzXCiGnvbMO"
      },
      "source": [
        "Question-3-b\n",
        "\n",
        "Below list all the files and folders in the current working directory."
      ]
    },
    {
      "cell_type": "code",
      "execution_count": null,
      "metadata": {
        "id": "SHnZDzFZwUeB",
        "colab": {
          "base_uri": "https://localhost:8080/"
        },
        "outputId": "9939d3bd-e78a-4244-b578-5ac4e398e2f1"
      },
      "outputs": [
        {
          "output_type": "execute_result",
          "data": {
            "text/plain": [
              "['.config', 'sample_data']"
            ]
          },
          "metadata": {},
          "execution_count": 8
        }
      ],
      "source": [
        "## Answer Cell\n",
        "import os\n",
        "#all_files=os.listdir()\n",
        "#print(all_files)\n",
        "os.listdir()"
      ]
    },
    {
      "cell_type": "markdown",
      "source": [
        "# New Section"
      ],
      "metadata": {
        "id": "uKNTmijYKzhO"
      }
    },
    {
      "cell_type": "markdown",
      "metadata": {
        "id": "OZPKFtqX1Wev"
      },
      "source": [
        "Question-3-c\n",
        "\n",
        "Create 'my_script.py' that prints 'Your First Name-Your Last Name' in the same directory and run this scripy in the cell below."
      ]
    },
    {
      "cell_type": "code",
      "execution_count": null,
      "metadata": {
        "colab": {
          "base_uri": "https://localhost:8080/"
        },
        "outputId": "68b9449e-66d3-408e-b4eb-b86e42721296",
        "id": "3qwK-w2449zE"
      },
      "outputs": [
        {
          "output_type": "stream",
          "name": "stdout",
          "text": [
            "Overwriting my_script.py\n"
          ]
        }
      ],
      "source": [
        "%%writefile \"my_script.py\"\n",
        "print(\"LAVANYA-MAMILLAPALLI\")"
      ]
    },
    {
      "cell_type": "code",
      "source": [
        "%run my_script.py"
      ],
      "metadata": {
        "id": "lBabZdITOpig",
        "colab": {
          "base_uri": "https://localhost:8080/"
        },
        "outputId": "47c8eb44-0dc3-4774-bf6a-a673e2bc4d10"
      },
      "execution_count": null,
      "outputs": [
        {
          "output_type": "stream",
          "name": "stdout",
          "text": [
            "LAVANYA-MAMILLAPALLI\n"
          ]
        }
      ]
    }
  ],
  "metadata": {
    "colab": {
      "collapsed_sections": [],
      "provenance": [],
      "include_colab_link": true
    },
    "kernelspec": {
      "display_name": "Python 3",
      "language": "python",
      "name": "python3"
    },
    "language_info": {
      "codemirror_mode": {
        "name": "ipython",
        "version": 3
      },
      "file_extension": ".py",
      "mimetype": "text/x-python",
      "name": "python",
      "nbconvert_exporter": "python",
      "pygments_lexer": "ipython3",
      "version": "3.8.8"
    },
    "toc": {
      "base_numbering": 1,
      "nav_menu": {},
      "number_sections": false,
      "sideBar": true,
      "skip_h1_title": false,
      "title_cell": "Table of Contents",
      "title_sidebar": "Contents",
      "toc_cell": false,
      "toc_position": {},
      "toc_section_display": true,
      "toc_window_display": true
    }
  },
  "nbformat": 4,
  "nbformat_minor": 0
}