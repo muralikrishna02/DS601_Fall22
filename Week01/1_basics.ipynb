{
 "cells": [
  {
   "cell_type": "markdown",
   "id": "4c76aec1",
   "metadata": {
    "id": "Hxrju0WCEg-9",
    "slideshow": {
     "slide_type": "slide"
    }
   },
   "source": [
    "# Markdown Cells"
   ]
  },
  {
   "cell_type": "markdown",
   "id": "7b6a675b",
   "metadata": {
    "slideshow": {
     "slide_type": "subslide"
    }
   },
   "source": [
    "__Cheatsheet:__ https://ingeh.medium.com/markdown-for-jupyter-notebooks-cheatsheet-386c05aeebed"
   ]
  },
  {
   "cell_type": "markdown",
   "id": "620418b9",
   "metadata": {
    "id": "4Q1Oc_BT6gd-",
    "slideshow": {
     "slide_type": "subslide"
    }
   },
   "source": [
    "```text\n",
    "# Header\n",
    "```"
   ]
  },
  {
   "cell_type": "markdown",
   "id": "1a9e7c29",
   "metadata": {
    "id": "-HfHiuPZ6v-5",
    "slideshow": {
     "slide_type": "subslide"
    }
   },
   "source": [
    "```text\n",
    "\n",
    "## Subtitle \n",
    "\n",
    "```"
   ]
  },
  {
   "cell_type": "markdown",
   "id": "23816061",
   "metadata": {
    "id": "qQoIIygK63Ng",
    "slideshow": {
     "slide_type": "subslide"
    }
   },
   "source": [
    "```text\n",
    "[This is a link](https://github.com/msaricaumbc/DS601_Fall21#weekly-schedule)\n",
    "```"
   ]
  },
  {
   "cell_type": "markdown",
   "id": "e89f67f3",
   "metadata": {
    "id": "ri8z6FtN7WX0",
    "slideshow": {
     "slide_type": "subslide"
    }
   },
   "source": [
    "```text\n",
    "# Header\n",
    "\n",
    "1. Item 1\n",
    "\n",
    "1. Item 2\n",
    "\n",
    "1. Item 3\n",
    "\n",
    "\n",
    "__this is bold typing__\n",
    "\n",
    "_this is italic_\n",
    "\n",
    "- Bullet point 1\n",
    "- Bullet point 2\n",
    "or \n",
    "* Bullet 1 \n",
    "* Bullet 2\n",
    "\n",
    "```"
   ]
  },
  {
   "cell_type": "markdown",
   "id": "4837bece",
   "metadata": {},
   "source": [
    "# Header\n",
    "## subtitle\n",
    "### smaller title\n",
    "#### even smaller \n",
    "\n",
    "[link](http://google.com)\n",
    "\n",
    "1. item1\n",
    "1. item2\n",
    "1. item3\n",
    "\n",
    "__bold text__\n",
    "\n",
    "_italic text_\n",
    "\n",
    "* a \n",
    "* b\n",
    "* c"
   ]
  },
  {
   "cell_type": "markdown",
   "id": "bb9de532",
   "metadata": {
    "id": "_NU0Z0RwDcgG",
    "slideshow": {
     "slide_type": "slide"
    }
   },
   "source": [
    "# Code Cells"
   ]
  },
  {
   "cell_type": "code",
   "execution_count": 1,
   "id": "b5fabc51",
   "metadata": {
    "colab": {
     "base_uri": "https://localhost:8080/"
    },
    "executionInfo": {
     "elapsed": 570,
     "status": "ok",
     "timestamp": 1611702242378,
     "user": {
      "displayName": "umbc Datascience",
      "photoUrl": "",
      "userId": "09040773534935632948"
     },
     "user_tz": 300
    },
    "id": "Iza4-Zyp78dd",
    "outputId": "dab9a3ad-182b-4db4-db01-fb7fb12ce277",
    "slideshow": {
     "slide_type": "subslide"
    }
   },
   "outputs": [
    {
     "name": "stdout",
     "output_type": "stream",
     "text": [
      "Hello DATA 601!\n"
     ]
    }
   ],
   "source": [
    "## This is comment when you are writing code. \n",
    "## Don't use comments for explaining data!\n",
    "\n",
    "print('Hello DATA 601!')"
   ]
  },
  {
   "cell_type": "code",
   "execution_count": 2,
   "id": "bb1c7dfb",
   "metadata": {
    "colab": {
     "base_uri": "https://localhost:8080/"
    },
    "executionInfo": {
     "elapsed": 136,
     "status": "ok",
     "timestamp": 1628615899728,
     "user": {
      "displayName": "Murat Guner",
      "photoUrl": "",
      "userId": "07219518426737849646"
     },
     "user_tz": 240
    },
    "id": "wJI8FkXH5fu9",
    "outputId": "cf7e7343-950a-4f2c-97f4-cd9c1062b50e",
    "slideshow": {
     "slide_type": "subslide"
    }
   },
   "outputs": [
    {
     "data": {
      "text/plain": [
       "35"
      ]
     },
     "execution_count": 2,
     "metadata": {},
     "output_type": "execute_result"
    }
   ],
   "source": [
    "a =5\n",
    "b =7\n",
    "\n",
    "a*b"
   ]
  },
  {
   "cell_type": "code",
   "execution_count": null,
   "id": "0be3d412",
   "metadata": {},
   "outputs": [],
   "source": []
  },
  {
   "cell_type": "markdown",
   "id": "57706914",
   "metadata": {
    "id": "RJiodXESJfVo",
    "slideshow": {
     "slide_type": "subslide"
    }
   },
   "source": [
    "#### For Loops"
   ]
  },
  {
   "cell_type": "code",
   "execution_count": 4,
   "id": "9a1bd889",
   "metadata": {
    "colab": {
     "base_uri": "https://localhost:8080/"
    },
    "executionInfo": {
     "elapsed": 108,
     "status": "ok",
     "timestamp": 1628617414556,
     "user": {
      "displayName": "Murat Guner",
      "photoUrl": "",
      "userId": "07219518426737849646"
     },
     "user_tz": 240
    },
    "id": "Qmvdlc1MJdUf",
    "outputId": "83e00348-b7e6-4ded-9b05-f9eca2a82742",
    "slideshow": {
     "slide_type": "subslide"
    }
   },
   "outputs": [
    {
     "name": "stdout",
     "output_type": "stream",
     "text": [
      "0\n",
      "1\n",
      "2\n",
      "3\n",
      "4\n",
      "5\n",
      "6\n",
      "7\n",
      "8\n",
      "9\n"
     ]
    }
   ],
   "source": [
    "for i in range(10):\n",
    "    print(i)"
   ]
  },
  {
   "cell_type": "markdown",
   "id": "c5087e6f",
   "metadata": {
    "id": "EkCnLbXz1MJB",
    "slideshow": {
     "slide_type": "subslide"
    }
   },
   "source": [
    "#### Naming Conventions\n",
    "\n",
    "https://realpython.com/python-pep8/#naming-styles"
   ]
  },
  {
   "cell_type": "markdown",
   "id": "499f31a0",
   "metadata": {
    "id": "_F3hKW0mKhvl",
    "slideshow": {
     "slide_type": "subslide"
    }
   },
   "source": [
    "#### If statements"
   ]
  },
  {
   "cell_type": "code",
   "execution_count": 5,
   "id": "3d2ebbcf",
   "metadata": {
    "colab": {
     "base_uri": "https://localhost:8080/"
    },
    "executionInfo": {
     "elapsed": 112,
     "status": "ok",
     "timestamp": 1628617532056,
     "user": {
      "displayName": "Murat Guner",
      "photoUrl": "",
      "userId": "07219518426737849646"
     },
     "user_tz": 240
    },
    "id": "SEPR_PVBKlFE",
    "outputId": "8b174e3f-aa29-4ef5-86be-60f4ea45e0b6",
    "scrolled": false,
    "slideshow": {
     "slide_type": "subslide"
    }
   },
   "outputs": [
    {
     "name": "stdout",
     "output_type": "stream",
     "text": [
      "a is correct\n"
     ]
    }
   ],
   "source": [
    "a = 'Data601'\n",
    "\n",
    "if a == 'Data601':\n",
    "    print('a is correct')\n",
    "\n",
    "else:\n",
    "    print('a is not Data601')"
   ]
  },
  {
   "cell_type": "markdown",
   "id": "a336b272",
   "metadata": {
    "id": "Lck9JP9zK4vB",
    "slideshow": {
     "slide_type": "subslide"
    }
   },
   "source": [
    "#### Functions"
   ]
  },
  {
   "cell_type": "code",
   "execution_count": 6,
   "id": "30970f35",
   "metadata": {
    "id": "_fTvP_3NK97l",
    "slideshow": {
     "slide_type": "subslide"
    }
   },
   "outputs": [],
   "source": [
    "def my_multiplication(arg1 = 5, arg2 = 4):\n",
    "  '''\n",
    "  This is my multiplication table.\n",
    "  '''\n",
    "\n",
    "  return arg1 * arg2"
   ]
  },
  {
   "cell_type": "code",
   "execution_count": 7,
   "id": "bcacdce7",
   "metadata": {
    "colab": {
     "base_uri": "https://localhost:8080/"
    },
    "executionInfo": {
     "elapsed": 124,
     "status": "ok",
     "timestamp": 1628618253038,
     "user": {
      "displayName": "Murat Guner",
      "photoUrl": "",
      "userId": "07219518426737849646"
     },
     "user_tz": 240
    },
    "id": "3yQzSnusLocl",
    "outputId": "fcc52645-85f6-469a-c31a-a2c5f310f562",
    "scrolled": true,
    "slideshow": {
     "slide_type": "subslide"
    }
   },
   "outputs": [
    {
     "data": {
      "text/plain": [
       "56"
      ]
     },
     "execution_count": 7,
     "metadata": {},
     "output_type": "execute_result"
    }
   ],
   "source": [
    "my_multiplication(7, 8)"
   ]
  },
  {
   "cell_type": "markdown",
   "id": "99fef1e7",
   "metadata": {
    "id": "xYJTVgaJGgqf"
   },
   "source": [
    "# Other Packages"
   ]
  },
  {
   "cell_type": "code",
   "execution_count": 8,
   "id": "c9c4cecb",
   "metadata": {
    "id": "kQ0MwsLFGkAI"
   },
   "outputs": [],
   "source": [
    "import fuzzywuzzy"
   ]
  },
  {
   "cell_type": "code",
   "execution_count": 9,
   "id": "d86c88d8",
   "metadata": {
    "id": "Ubew2uFSGoga"
   },
   "outputs": [
    {
     "name": "stdout",
     "output_type": "stream",
     "text": [
      "Requirement already satisfied: fuzzywuzzy in /Users/msarica/opt/anaconda3/lib/python3.8/site-packages (0.18.0)\r\n"
     ]
    }
   ],
   "source": [
    "!pip install fuzzywuzzy"
   ]
  },
  {
   "cell_type": "code",
   "execution_count": 10,
   "id": "72355be0",
   "metadata": {
    "colab": {
     "base_uri": "https://localhost:8080/"
    },
    "executionInfo": {
     "elapsed": 135,
     "status": "ok",
     "timestamp": 1628616629960,
     "user": {
      "displayName": "Murat Guner",
      "photoUrl": "",
      "userId": "07219518426737849646"
     },
     "user_tz": 240
    },
    "id": "qHg4XiHzG2Iz",
    "outputId": "0e56e446-147c-407f-d36f-6f883b9de27c",
    "scrolled": true
   },
   "outputs": [
    {
     "name": "stderr",
     "output_type": "stream",
     "text": [
      "/Users/msarica/opt/anaconda3/lib/python3.8/site-packages/fuzzywuzzy/fuzz.py:11: UserWarning: Using slow pure-python SequenceMatcher. Install python-Levenshtein to remove this warning\n",
      "  warnings.warn('Using slow pure-python SequenceMatcher. Install python-Levenshtein to remove this warning')\n"
     ]
    },
    {
     "data": {
      "text/plain": [
       "67"
      ]
     },
     "execution_count": 10,
     "metadata": {},
     "output_type": "execute_result"
    }
   ],
   "source": [
    "from fuzzywuzzy import fuzz\n",
    "\n",
    "fuzz.ratio(\"this is DATA 601\", \"This is data 601!\")\n"
   ]
  },
  {
   "cell_type": "markdown",
   "id": "a4f566a8",
   "metadata": {
    "id": "xftxTr3cQrL_"
   },
   "source": [
    "# Running terminal commands in notebook"
   ]
  },
  {
   "cell_type": "code",
   "execution_count": 11,
   "id": "4a6a29a6",
   "metadata": {
    "colab": {
     "base_uri": "https://localhost:8080/"
    },
    "executionInfo": {
     "elapsed": 452,
     "status": "ok",
     "timestamp": 1611690743033,
     "user": {
      "displayName": "umbc Datascience",
      "photoUrl": "",
      "userId": "09040773534935632948"
     },
     "user_tz": 300
    },
    "id": "UkUwM_lLQOr0",
    "outputId": "a38e2f2c-a48c-43d6-c984-e93854a21531"
   },
   "outputs": [
    {
     "name": "stdout",
     "output_type": "stream",
     "text": [
      "Python 3.8.8\r\n"
     ]
    }
   ],
   "source": [
    "!python --version"
   ]
  },
  {
   "cell_type": "code",
   "execution_count": 12,
   "id": "ca471ba4",
   "metadata": {
    "colab": {
     "base_uri": "https://localhost:8080/"
    },
    "executionInfo": {
     "elapsed": 467,
     "status": "ok",
     "timestamp": 1611690769057,
     "user": {
      "displayName": "umbc Datascience",
      "photoUrl": "",
      "userId": "09040773534935632948"
     },
     "user_tz": 300
    },
    "id": "4ThEz4CcQVIJ",
    "outputId": "29cb5bb3-fe1b-4e2c-c825-46a40cf06e71"
   },
   "outputs": [
    {
     "name": "stdout",
     "output_type": "stream",
     "text": [
      "/Users/msarica/opt/anaconda3/bin/python\r\n"
     ]
    }
   ],
   "source": [
    "!which python"
   ]
  },
  {
   "cell_type": "code",
   "execution_count": 13,
   "id": "5be5d9a7",
   "metadata": {},
   "outputs": [
    {
     "name": "stdout",
     "output_type": "stream",
     "text": [
      "/Users/msarica/Desktop/UMBC/DS601_Fall22/Week01\r\n"
     ]
    }
   ],
   "source": [
    "!pwd"
   ]
  },
  {
   "cell_type": "code",
   "execution_count": 14,
   "id": "47a3d3b1",
   "metadata": {},
   "outputs": [
    {
     "name": "stdout",
     "output_type": "stream",
     "text": [
      "1_basics.ipynb        sample_python_file.py week_01.pptx\r\n",
      "\u001b[34mhomework\u001b[m\u001b[m              week_01.pdf           ~$week_01.pptx\r\n"
     ]
    }
   ],
   "source": [
    "# if windows !dir\n",
    "!ls"
   ]
  },
  {
   "cell_type": "code",
   "execution_count": 15,
   "id": "33f9b5eb",
   "metadata": {},
   "outputs": [],
   "source": [
    "!echo \"yay I created this file from a notebook cell\" > test.txt"
   ]
  },
  {
   "cell_type": "code",
   "execution_count": 16,
   "id": "295ae788",
   "metadata": {},
   "outputs": [
    {
     "name": "stdout",
     "output_type": "stream",
     "text": [
      "1_basics.ipynb        test.txt              ~$week_01.pptx\r\n",
      "\u001b[34mhomework\u001b[m\u001b[m              week_01.pdf\r\n",
      "sample_python_file.py week_01.pptx\r\n"
     ]
    }
   ],
   "source": [
    "!ls"
   ]
  },
  {
   "cell_type": "code",
   "execution_count": 17,
   "id": "af1e29de",
   "metadata": {
    "colab": {
     "base_uri": "https://localhost:8080/"
    },
    "executionInfo": {
     "elapsed": 439,
     "status": "ok",
     "timestamp": 1611702521963,
     "user": {
      "displayName": "umbc Datascience",
      "photoUrl": "",
      "userId": "09040773534935632948"
     },
     "user_tz": 300
    },
    "id": "CI5vUt0sQjUr",
    "outputId": "5933e743-c08b-41ee-9579-f75a12c8495b"
   },
   "outputs": [
    {
     "name": "stdout",
     "output_type": "stream",
     "text": [
      "yay I created this file from a notebook cell\r\n"
     ]
    }
   ],
   "source": [
    "# !type test.txt (if windows)\n",
    "!cat test.txt"
   ]
  },
  {
   "cell_type": "code",
   "execution_count": 18,
   "id": "e561d7ae",
   "metadata": {},
   "outputs": [
    {
     "name": "stdout",
     "output_type": "stream",
     "text": [
      "\r\n",
      "print('This script will print 0 through 9')\r\n",
      "\r\n",
      "x = 10\r\n",
      "\r\n",
      "for i in range(x):\r\n",
      "    print(i)"
     ]
    }
   ],
   "source": [
    "!cat sample_python_file.py"
   ]
  },
  {
   "cell_type": "code",
   "execution_count": 19,
   "id": "851a566f",
   "metadata": {
    "colab": {
     "base_uri": "https://localhost:8080/"
    },
    "executionInfo": {
     "elapsed": 644,
     "status": "ok",
     "timestamp": 1611704758659,
     "user": {
      "displayName": "umbc Datascience",
      "photoUrl": "",
      "userId": "09040773534935632948"
     },
     "user_tz": 300
    },
    "id": "feanJIflFmqW",
    "outputId": "d4fac24f-f619-4b0f-e896-81c7d9624a47",
    "scrolled": true
   },
   "outputs": [
    {
     "name": "stdout",
     "output_type": "stream",
     "text": [
      "This script will print 0 through 9\r\n",
      "0\r\n",
      "1\r\n",
      "2\r\n",
      "3\r\n",
      "4\r\n",
      "5\r\n",
      "6\r\n",
      "7\r\n",
      "8\r\n",
      "9\r\n"
     ]
    }
   ],
   "source": [
    "!python sample_python_file.py"
   ]
  },
  {
   "cell_type": "code",
   "execution_count": 20,
   "id": "57f91d5a",
   "metadata": {},
   "outputs": [
    {
     "name": "stdout",
     "output_type": "stream",
     "text": [
      "/Users/msarica/Desktop/UMBC/DS601_Fall22/Week01\r\n"
     ]
    }
   ],
   "source": [
    "!pwd"
   ]
  },
  {
   "cell_type": "code",
   "execution_count": 21,
   "id": "36f54e68",
   "metadata": {},
   "outputs": [],
   "source": [
    "!cd .."
   ]
  },
  {
   "cell_type": "code",
   "execution_count": 22,
   "id": "23026669",
   "metadata": {},
   "outputs": [
    {
     "name": "stdout",
     "output_type": "stream",
     "text": [
      "/Users/msarica/Desktop/UMBC/DS601_Fall22/Week01\r\n"
     ]
    }
   ],
   "source": [
    "!pwd"
   ]
  },
  {
   "cell_type": "markdown",
   "id": "c89e3a40",
   "metadata": {},
   "source": [
    "# Magic commands\n",
    "https://www.tutorialspoint.com/jupyter/ipython_magic_commands.htm"
   ]
  },
  {
   "cell_type": "code",
   "execution_count": 23,
   "id": "83d96e0b",
   "metadata": {
    "colab": {
     "base_uri": "https://localhost:8080/"
    },
    "executionInfo": {
     "elapsed": 472,
     "status": "ok",
     "timestamp": 1611704897998,
     "user": {
      "displayName": "umbc Datascience",
      "photoUrl": "",
      "userId": "09040773534935632948"
     },
     "user_tz": 300
    },
    "id": "RYZ1yZ84GQTV",
    "outputId": "40b74f60-650c-445c-bed0-f60eb4bdfc5f"
   },
   "outputs": [
    {
     "name": "stdout",
     "output_type": "stream",
     "text": [
      "/Users/msarica/Desktop/UMBC/DS601_Fall22\n"
     ]
    }
   ],
   "source": [
    "%cd .."
   ]
  },
  {
   "cell_type": "code",
   "execution_count": 24,
   "id": "72247e84",
   "metadata": {
    "id": "YLAmDgysF9ob"
   },
   "outputs": [
    {
     "data": {
      "text/plain": [
       "'/Users/msarica/Desktop/UMBC/DS601_Fall22'"
      ]
     },
     "execution_count": 24,
     "metadata": {},
     "output_type": "execute_result"
    }
   ],
   "source": [
    "%pwd"
   ]
  },
  {
   "cell_type": "code",
   "execution_count": 26,
   "id": "4e9d9e81",
   "metadata": {},
   "outputs": [
    {
     "name": "stdout",
     "output_type": "stream",
     "text": [
      "22.5 ns ± 12.6 ns per loop (mean ± std. dev. of 7 runs, 100 loops each)\n"
     ]
    }
   ],
   "source": [
    "%%timeit -n 100\n",
    "x = 3"
   ]
  },
  {
   "cell_type": "code",
   "execution_count": null,
   "id": "84630a03",
   "metadata": {},
   "outputs": [],
   "source": []
  }
 ],
 "metadata": {
  "kernelspec": {
   "display_name": "Python 3",
   "language": "python",
   "name": "python3"
  },
  "language_info": {
   "codemirror_mode": {
    "name": "ipython",
    "version": 3
   },
   "file_extension": ".py",
   "mimetype": "text/x-python",
   "name": "python",
   "nbconvert_exporter": "python",
   "pygments_lexer": "ipython3",
   "version": "3.8.8"
  },
  "toc": {
   "base_numbering": 1,
   "nav_menu": {},
   "number_sections": false,
   "sideBar": true,
   "skip_h1_title": false,
   "title_cell": "Table of Contents",
   "title_sidebar": "Contents",
   "toc_cell": false,
   "toc_position": {},
   "toc_section_display": true,
   "toc_window_display": false
  },
  "vscode": {
   "interpreter": {
    "hash": "397704579725e15f5c7cb49fe5f0341eb7531c82d19f2c29d197e8b64ab5776b"
   }
  }
 },
 "nbformat": 4,
 "nbformat_minor": 5
}
