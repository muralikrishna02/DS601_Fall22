{
  "cells": [
    {
      "cell_type": "markdown",
      "metadata": {
        "id": "hl3pVnDDs6Se"
      },
      "source": [
        "# Rules\n",
        "\n",
        "- We will grade only the answer cells, so make sure that you type your answer inside of the answer cell. \n",
        "\n",
        "- Make sure that your code is working when you restart the kernel. Notebooks are great tools for exploration but we should be very careful as we are writing codes. For more, please check: [Why notebooks suck](https://towardsdatascience.com/5-reasons-why-jupyter-notebooks-suck-4dc201e27086)\n",
        "\n",
        "- Make sure that your results are in the correct format. If we ask you to return a list, your answer should be in a list format. If the question asks you to return a scalar (float, int, etc.) then make sure that your answer is in the correct format.\n",
        "\n",
        "## Homework\n",
        "\n",
        "1. Correct the formatting of markdown cells\n",
        "    * Use appropriate headers\n",
        "1. Finish the coding sections."
      ]
    },
    {
      "cell_type": "markdown",
      "metadata": {
        "id": "Tur9zoV6qB4I"
      },
      "source": [
        "Question-1\n",
        "\n",
        "Write a Python function to return a **list** of all the numbers from 1 to n which are divisible by 5. `n` will be given as an argument to your function.\n"
      ]
    },
    {
      "cell_type": "code",
      "execution_count": 11,
      "metadata": {
        "id": "bBH79NeVs1m1",
        "colab": {
          "base_uri": "https://localhost:8080/"
        },
        "outputId": "c4e3a119-4001-470d-ae09-2f91f7d72768"
      },
      "outputs": [
        {
          "output_type": "execute_result",
          "data": {
            "text/plain": [
              "[0,\n",
              " 5,\n",
              " 10,\n",
              " 15,\n",
              " 20,\n",
              " 25,\n",
              " 30,\n",
              " 35,\n",
              " 40,\n",
              " 45,\n",
              " 50,\n",
              " 55,\n",
              " 60,\n",
              " 65,\n",
              " 70,\n",
              " 75,\n",
              " 80,\n",
              " 85,\n",
              " 90,\n",
              " 95,\n",
              " 100,\n",
              " 105,\n",
              " 110,\n",
              " 115,\n",
              " 120]"
            ]
          },
          "metadata": {},
          "execution_count": 11
        }
      ],
      "source": [
        "# Your Answer Cell\n",
        "# you can edit the function below. \n",
        "# Don't change function name and parameter names.\n",
        "# you can define new variables (if needed) inside of the function.\n",
        "\n",
        "def get_numbers_divisible_by_five(given_number):\n",
        "    lst=[]\n",
        "    for i in range (0,given_number+1):\n",
        "        if (i%5==0):\n",
        "            lst.append(i)\n",
        "    return lst\n",
        "\n",
        "get_numbers_divisible_by_five(121)"
      ]
    },
    {
      "cell_type": "markdown",
      "metadata": {
        "id": "9DpQ6X0io0If"
      },
      "source": [
        "Question-2\n",
        "\n",
        "Write a function that returns the sum of the parameters\n"
      ]
    },
    {
      "cell_type": "code",
      "execution_count": 12,
      "metadata": {
        "id": "rmYpunGwp-bq",
        "colab": {
          "base_uri": "https://localhost:8080/"
        },
        "outputId": "b9b256f6-85eb-45b8-c926-38292eb88c1c"
      },
      "outputs": [
        {
          "output_type": "execute_result",
          "data": {
            "text/plain": [
              "8"
            ]
          },
          "metadata": {},
          "execution_count": 12
        }
      ],
      "source": [
        "# Your Answer Cell\n",
        "# you can edit the function below. \n",
        "# Don't change function name and parameter names.\n",
        "# you can define new variables inside of the function.\n",
        "\n",
        "def sum_of_two_numbers(a, b):\n",
        "\n",
        "    return a+b\n",
        "\n",
        "\n",
        "## your answer above\n",
        "\n",
        "sum_of_two_numbers(3, 5)"
      ]
    },
    {
      "cell_type": "markdown",
      "metadata": {
        "id": "inGr4AOovJhj"
      },
      "source": [
        "Question-3 (Shell & Magic Commands)\n"
      ]
    },
    {
      "cell_type": "markdown",
      "metadata": {
        "id": "54izIMcAwgud"
      },
      "source": [
        "Question-3-a\n",
        "\n",
        "Below print current working directory."
      ]
    },
    {
      "cell_type": "code",
      "execution_count": 13,
      "metadata": {
        "id": "0O27azQfvZjv",
        "colab": {
          "base_uri": "https://localhost:8080/"
        },
        "outputId": "4ab2552f-6ff8-4be7-fb8b-ec2dee2dfcf3"
      },
      "outputs": [
        {
          "output_type": "stream",
          "name": "stdout",
          "text": [
            "/content\n"
          ]
        }
      ],
      "source": [
        "## Answer Cell \n",
        "\n",
        "!pwd\n"
      ]
    },
    {
      "cell_type": "markdown",
      "metadata": {
        "id": "lDzXCiGnvbMO"
      },
      "source": [
        "Question-3-b\n",
        "\n",
        "Below list all the files and folders in the current working directory."
      ]
    },
    {
      "cell_type": "code",
      "execution_count": 14,
      "metadata": {
        "id": "SHnZDzFZwUeB",
        "colab": {
          "base_uri": "https://localhost:8080/"
        },
        "outputId": "d230d961-4822-4572-d387-1ca9b523a1d1"
      },
      "outputs": [
        {
          "output_type": "stream",
          "name": "stdout",
          "text": [
            "sample_data\n"
          ]
        }
      ],
      "source": [
        "## Answer Cell\n",
        "!ls"
      ]
    },
    {
      "cell_type": "markdown",
      "metadata": {
        "id": "OZPKFtqX1Wev"
      },
      "source": [
        "Question-3-c\n",
        "\n",
        "Create 'my_script.py' that prints 'Your First Name-Your Last Name' in the same directory and run this scripy in the cell below."
      ]
    },
    {
      "cell_type": "code",
      "execution_count": null,
      "metadata": {
        "id": "n7i7G_YE1qi0"
      },
      "outputs": [],
      "source": [
        "## Answer Cell\n",
        "\n"
      ]
    }
  ],
  "metadata": {
    "colab": {
      "collapsed_sections": [],
      "provenance": [],
      "toc_visible": true
    },
    "kernelspec": {
      "display_name": "Python 3",
      "language": "python",
      "name": "python3"
    },
    "language_info": {
      "codemirror_mode": {
        "name": "ipython",
        "version": 3
      },
      "file_extension": ".py",
      "mimetype": "text/x-python",
      "name": "python",
      "nbconvert_exporter": "python",
      "pygments_lexer": "ipython3",
      "version": "3.8.8"
    },
    "toc": {
      "base_numbering": 1,
      "nav_menu": {},
      "number_sections": false,
      "sideBar": true,
      "skip_h1_title": false,
      "title_cell": "Table of Contents",
      "title_sidebar": "Contents",
      "toc_cell": false,
      "toc_position": {},
      "toc_section_display": true,
      "toc_window_display": true
    }
  },
  "nbformat": 4,
  "nbformat_minor": 0
}