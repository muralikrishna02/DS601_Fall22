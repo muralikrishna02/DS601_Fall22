{
 "cells": [
  {
   "cell_type": "markdown",
   "id": "6c2655b1",
   "metadata": {},
   "source": [
    "# Lab 3\n",
    "\n",
    "\n",
    "Tasks:\n",
    "\n",
    "By using the flights data find all flights:\n",
    "\n",
    "1. Had an arrival delay of two or more hours.\n",
    "\n",
    "2. Flew to Houston (IAH or HOU)\n",
    "\n",
    "3. Were operated by American, Delta\n",
    "\n",
    "4. How many values are missing in `dep_time`?\n",
    "\n",
    "5. Sort `flight` to find fastest flight.\n",
    "\n",
    "6. Which flights travelled the shortest?"
   ]
  },
  {
   "cell_type": "code",
   "execution_count": 1,
   "id": "d74049fb",
   "metadata": {},
   "outputs": [],
   "source": [
    "import pandas as pd\n",
    "\n",
    "flights = pd.read_csv('https://raw.githubusercontent.com/msaricaumbc/DS_data/master/nyc_flights.csv')"
   ]
  },
  {
   "cell_type": "code",
   "execution_count": null,
   "id": "75bdb2a8",
   "metadata": {},
   "outputs": [],
   "source": []
  }
 ],
 "metadata": {
  "kernelspec": {
   "display_name": "Python 3",
   "language": "python",
   "name": "python3"
  },
  "language_info": {
   "codemirror_mode": {
    "name": "ipython",
    "version": 3
   },
   "file_extension": ".py",
   "mimetype": "text/x-python",
   "name": "python",
   "nbconvert_exporter": "python",
   "pygments_lexer": "ipython3",
   "version": "3.8.8"
  },
  "toc": {
   "base_numbering": 1,
   "nav_menu": {},
   "number_sections": true,
   "sideBar": true,
   "skip_h1_title": false,
   "title_cell": "Table of Contents",
   "title_sidebar": "Contents",
   "toc_cell": false,
   "toc_position": {},
   "toc_section_display": true,
   "toc_window_display": false
  }
 },
 "nbformat": 4,
 "nbformat_minor": 5
}
