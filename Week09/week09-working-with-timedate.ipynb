{
 "cells": [
  {
   "cell_type": "markdown",
   "metadata": {
    "id": "LACcW1a8Fgg7"
   },
   "source": [
    "Most of the content presented in this notebook is inspired by the following content.\n",
    "\n",
    "[Python Data Science Handbook](https://jakevdp.github.io/PythonDataScienceHandbook/03.11-working-with-time-series.html)\n",
    "\n",
    "[Python Pandas Tutorial (Part 10): Working with Dates and Time Series Data](https://www.youtube.com/watch?v=UFuo7EHI8zc&ab_channel=CoreySchafer)"
   ]
  },
  {
   "cell_type": "markdown",
   "metadata": {
    "id": "4yTyLpTwwfxs"
   },
   "source": [
    "__Agenda__\n",
    "\n",
    "- Introduction to modules and libraries to handle time and dates in Python\n",
    "\n",
    "- Introduction to tools available in Pandas library to work with time and dates."
   ]
  },
  {
   "cell_type": "markdown",
   "metadata": {
    "id": "7Z4Yq-IZA0af"
   },
   "source": [
    "# Libraries to work with Time and Dates in Python"
   ]
  },
  {
   "cell_type": "markdown",
   "metadata": {
    "id": "98Y7ybTFA5gF"
   },
   "source": [
    "## Datetime Module"
   ]
  },
  {
   "cell_type": "code",
   "execution_count": 6,
   "metadata": {
    "executionInfo": {
     "elapsed": 3,
     "status": "ok",
     "timestamp": 1635459957602,
     "user": {
      "displayName": "Murat Guner",
      "photoUrl": "https://lh3.googleusercontent.com/a/default-user=s64",
      "userId": "07219518426737849646"
     },
     "user_tz": 240
    },
    "id": "24K989UByebb"
   },
   "outputs": [],
   "source": [
    "## import datetime module\n",
    "\n",
    "from datetime import datetime\n",
    "# import datetime\n"
   ]
  },
  {
   "cell_type": "markdown",
   "metadata": {
    "id": "gTCtQ8A0zhjD"
   },
   "source": [
    "What does it mean to import datetime from datetime? \n",
    "\n",
    "https://github.com/python/cpython/blob/3.10/Lib/datetime.py\n"
   ]
  },
  {
   "cell_type": "code",
   "execution_count": 14,
   "metadata": {
    "executionInfo": {
     "elapsed": 233,
     "status": "ok",
     "timestamp": 1635459997441,
     "user": {
      "displayName": "Murat Guner",
      "photoUrl": "https://lh3.googleusercontent.com/a/default-user=s64",
      "userId": "07219518426737849646"
     },
     "user_tz": 240
    },
    "id": "6dOYfj4eyk7A"
   },
   "outputs": [
    {
     "data": {
      "text/plain": [
       "datetime.datetime(2021, 10, 28, 0, 0)"
      ]
     },
     "execution_count": 14,
     "metadata": {},
     "output_type": "execute_result"
    }
   ],
   "source": [
    "## now we can create a datetime object\n",
    "\n",
    "d = datetime(year = 2021, month = 10, day = 28)\n",
    "# d - datetime(year = 2021, month = 11, day = 28)\n",
    "# dir(d)\n",
    "d"
   ]
  },
  {
   "cell_type": "code",
   "execution_count": 15,
   "metadata": {},
   "outputs": [
    {
     "data": {
      "text/plain": [
       "'2021-10-28'"
      ]
     },
     "execution_count": 15,
     "metadata": {},
     "output_type": "execute_result"
    }
   ],
   "source": [
    "'2021-10-28'"
   ]
  },
  {
   "cell_type": "markdown",
   "metadata": {
    "id": "2rOP60Om0v8u"
   },
   "source": [
    "To check other arguments: https://docs.python.org/3/library/datetime.html#datetime.datetime\n",
    "\n",
    "[Also we might want to talk about `aware` and `naive` object categories](https://docs.python.org/3/library/datetime.html#aware-and-naive-objects)"
   ]
  },
  {
   "cell_type": "markdown",
   "metadata": {
    "id": "4SmCkUDAA-Kb"
   },
   "source": [
    "## Dateutil Library"
   ]
  },
  {
   "cell_type": "code",
   "execution_count": 16,
   "metadata": {
    "executionInfo": {
     "elapsed": 162,
     "status": "ok",
     "timestamp": 1635460102275,
     "user": {
      "displayName": "Murat Guner",
      "photoUrl": "https://lh3.googleusercontent.com/a/default-user=s64",
      "userId": "07219518426737849646"
     },
     "user_tz": 240
    },
    "id": "muRO6T3A0bRI"
   },
   "outputs": [],
   "source": [
    "## we could also use dateutil library to parse time and date\n",
    "## note that dateutil is a third-party library and needs to be installed first.\n",
    "\n",
    "## let's import parser from dateutil\n",
    "\n",
    "from dateutil import parser\n"
   ]
  },
  {
   "cell_type": "markdown",
   "metadata": {
    "id": "imEYWpAT1sIe"
   },
   "source": [
    "[Dateutil - Pypi](https://pypi.org/project/python-dateutil/)"
   ]
  },
  {
   "cell_type": "code",
   "execution_count": 22,
   "metadata": {
    "executionInfo": {
     "elapsed": 158,
     "status": "ok",
     "timestamp": 1635460123757,
     "user": {
      "displayName": "Murat Guner",
      "photoUrl": "https://lh3.googleusercontent.com/a/default-user=s64",
      "userId": "07219518426737849646"
     },
     "user_tz": 240
    },
    "id": "p01sTTWp2AV6"
   },
   "outputs": [
    {
     "data": {
      "text/plain": [
       "datetime.datetime(2022, 8, 4, 0, 0)"
      ]
     },
     "execution_count": 22,
     "metadata": {},
     "output_type": "execute_result"
    }
   ],
   "source": [
    "## parser allow us to convert strings to datetime.datetime objects\n",
    "\n",
    "## parser has a parse method to parse strings\n",
    "\n",
    "parser.parse('4 August 2022')"
   ]
  },
  {
   "cell_type": "markdown",
   "metadata": {
    "id": "TOPkgsSH3tKX"
   },
   "source": [
    "Note that the result is `datetime` object."
   ]
  },
  {
   "cell_type": "code",
   "execution_count": 23,
   "metadata": {
    "id": "YPyOEACc2q9B"
   },
   "outputs": [
    {
     "data": {
      "text/plain": [
       "datetime.datetime(2021, 10, 28, 0, 0)"
      ]
     },
     "execution_count": 23,
     "metadata": {},
     "output_type": "execute_result"
    }
   ],
   "source": [
    "## note that this is pretty robust\n",
    "\n",
    "parser.parse('4th of July 2021')\n",
    "\n",
    "parser.parse('2021, July 4')\n",
    "\n",
    "parser.parse('2021/07/04')\n",
    "\n",
    "parser.parse('28th Oct. 2021')"
   ]
  },
  {
   "cell_type": "markdown",
   "metadata": {
    "id": "onIM8wxU3B7c"
   },
   "source": [
    "__Working with `datetime` object__\n"
   ]
  },
  {
   "cell_type": "code",
   "execution_count": 24,
   "metadata": {
    "executionInfo": {
     "elapsed": 157,
     "status": "ok",
     "timestamp": 1635460160502,
     "user": {
      "displayName": "Murat Guner",
      "photoUrl": "https://lh3.googleusercontent.com/a/default-user=s64",
      "userId": "07219518426737849646"
     },
     "user_tz": 240
    },
    "id": "Y5FdIaz53rpn"
   },
   "outputs": [
    {
     "data": {
      "text/plain": [
       "datetime.datetime(1982, 3, 15, 0, 0)"
      ]
     },
     "execution_count": 24,
     "metadata": {},
     "output_type": "execute_result"
    }
   ],
   "source": [
    "## let's create a datetime object let's say my birthday 03-15-1982\n",
    "\n",
    "my_birthday = datetime(year = 1982, month= 3, day = 15)\n",
    "my_birthday"
   ]
  },
  {
   "cell_type": "code",
   "execution_count": 25,
   "metadata": {
    "executionInfo": {
     "elapsed": 148,
     "status": "ok",
     "timestamp": 1635460166442,
     "user": {
      "displayName": "Murat Guner",
      "photoUrl": "https://lh3.googleusercontent.com/a/default-user=s64",
      "userId": "07219518426737849646"
     },
     "user_tz": 240
    },
    "id": "hCFeOnZY5I2x"
   },
   "outputs": [
    {
     "data": {
      "text/plain": [
       "'Monday'"
      ]
     },
     "execution_count": 25,
     "metadata": {},
     "output_type": "execute_result"
    }
   ],
   "source": [
    "## we can check the day of the week\n",
    "\n",
    "my_birthday.strftime('%A')"
   ]
  },
  {
   "cell_type": "code",
   "execution_count": 27,
   "metadata": {
    "executionInfo": {
     "elapsed": 151,
     "status": "ok",
     "timestamp": 1635460171568,
     "user": {
      "displayName": "Murat Guner",
      "photoUrl": "https://lh3.googleusercontent.com/a/default-user=s64",
      "userId": "07219518426737849646"
     },
     "user_tz": 240
    },
    "id": "VemJBMjW3_bQ"
   },
   "outputs": [
    {
     "data": {
      "text/plain": [
       "\"March 15 '82\""
      ]
     },
     "execution_count": 27,
     "metadata": {},
     "output_type": "execute_result"
    }
   ],
   "source": [
    "## note that using .strftime method we can convert the time into any string format.\n",
    "\n",
    "# my_birthday.strftime('(%a)-%d-%B-%Y')\n",
    "my_birthday.strftime('%B %d \\'%y')"
   ]
  },
  {
   "cell_type": "markdown",
   "metadata": {
    "id": "AzPJSCwg57w9"
   },
   "source": [
    "[Reference to `strfformat` directives](https://docs.python.org/3/library/datetime.html#strftime-and-strptime-behavior)"
   ]
  },
  {
   "cell_type": "code",
   "execution_count": 28,
   "metadata": {},
   "outputs": [
    {
     "data": {
      "text/plain": [
       "'Mon'"
      ]
     },
     "execution_count": 28,
     "metadata": {},
     "output_type": "execute_result"
    }
   ],
   "source": [
    "my_birthday.strftime('%a')"
   ]
  },
  {
   "cell_type": "markdown",
   "metadata": {
    "id": "RUwliQF54wQa"
   },
   "source": [
    "# Numpy `datetime64` type"
   ]
  },
  {
   "cell_type": "markdown",
   "metadata": {
    "id": "ib7p5Z6mjHEU"
   },
   "source": [
    "Why another data type?: Efficient storage and vectorized operations"
   ]
  },
  {
   "cell_type": "code",
   "execution_count": 29,
   "metadata": {
    "id": "sgcp3S7X9mdm"
   },
   "outputs": [],
   "source": [
    "import numpy as np"
   ]
  },
  {
   "cell_type": "code",
   "execution_count": 30,
   "metadata": {
    "executionInfo": {
     "elapsed": 161,
     "status": "ok",
     "timestamp": 1635460275742,
     "user": {
      "displayName": "Murat Guner",
      "photoUrl": "https://lh3.googleusercontent.com/a/default-user=s64",
      "userId": "07219518426737849646"
     },
     "user_tz": 240
    },
    "id": "nKa3XZcJ96Hk"
   },
   "outputs": [
    {
     "data": {
      "text/plain": [
       "array(['2021-10-28'], dtype='datetime64[D]')"
      ]
     },
     "execution_count": 30,
     "metadata": {},
     "output_type": "execute_result"
    }
   ],
   "source": [
    "## note that in the case of working with a lot dates and time \n",
    "## this is the compact way to store data\n",
    "date = np.array(['2021-10-28'], dtype = 'datetime64')\n",
    "## use np.array with dtype argument to create today as np.datetime64 object\n",
    "\n",
    "date\n",
    "# date[0].astype(object).year\n"
   ]
  },
  {
   "cell_type": "markdown",
   "metadata": {
    "id": "ylBPvLjsBE_3"
   },
   "source": [
    "[Numpy - Datetime Documentation](https://numpy.org/doc/stable/reference/arrays.datetime.html)"
   ]
  },
  {
   "cell_type": "code",
   "execution_count": 35,
   "metadata": {
    "executionInfo": {
     "elapsed": 150,
     "status": "ok",
     "timestamp": 1635460309783,
     "user": {
      "displayName": "Murat Guner",
      "photoUrl": "https://lh3.googleusercontent.com/a/default-user=s64",
      "userId": "07219518426737849646"
     },
     "user_tz": 240
    },
    "id": "GfHj_xil-G1D"
   },
   "outputs": [
    {
     "data": {
      "text/plain": [
       "array(['2021-10-28', '2021-10-29', '2021-10-30', '2021-10-31',\n",
       "       '2021-11-01', '2021-11-02', '2021-11-03', '2021-11-04',\n",
       "       '2021-11-05', '2021-11-06', '2021-11-07', '2021-11-08'],\n",
       "      dtype='datetime64[D]')"
      ]
     },
     "execution_count": 35,
     "metadata": {},
     "output_type": "execute_result"
    }
   ],
   "source": [
    "## note that we can easily apply vectorized operations\n",
    "\n",
    "np.arange(12) + date"
   ]
  },
  {
   "cell_type": "markdown",
   "metadata": {
    "id": "cSaxVYZd_n03"
   },
   "source": [
    "Note that numpy automatically choosed 'D' as the unit."
   ]
  },
  {
   "cell_type": "code",
   "execution_count": 36,
   "metadata": {},
   "outputs": [
    {
     "data": {
      "text/plain": [
       "array(['2021-10-28T00:00:00', '2021-10-28T00:00:01',\n",
       "       '2021-10-28T00:00:02', '2021-10-28T00:00:03',\n",
       "       '2021-10-28T00:00:04', '2021-10-28T00:00:05',\n",
       "       '2021-10-28T00:00:06', '2021-10-28T00:00:07',\n",
       "       '2021-10-28T00:00:08', '2021-10-28T00:00:09',\n",
       "       '2021-10-28T00:00:10', '2021-10-28T00:00:11'],\n",
       "      dtype='datetime64[s]')"
      ]
     },
     "execution_count": 36,
     "metadata": {},
     "output_type": "execute_result"
    }
   ],
   "source": [
    "date = np.array(['2021-10-28'], dtype = 'datetime64[s]')\n",
    "date\n",
    "\n",
    "date + np.arange(12)"
   ]
  },
  {
   "cell_type": "markdown",
   "metadata": {
    "id": "zuFYHbq6-Ntu"
   },
   "source": [
    "[All available datetime-units](https://numpy.org/doc/stable/reference/arrays.datetime.html#datetime-units)"
   ]
  },
  {
   "cell_type": "markdown",
   "metadata": {
    "id": "Wwtl5Xuc_hDL"
   },
   "source": [
    "## Date and Times in Pandas"
   ]
  },
  {
   "cell_type": "code",
   "execution_count": 37,
   "metadata": {
    "executionInfo": {
     "elapsed": 159,
     "status": "ok",
     "timestamp": 1635460333889,
     "user": {
      "displayName": "Murat Guner",
      "photoUrl": "https://lh3.googleusercontent.com/a/default-user=s64",
      "userId": "07219518426737849646"
     },
     "user_tz": 240
    },
    "id": "DtUTJ8TFBTU1"
   },
   "outputs": [],
   "source": [
    "## let's import pandas\n",
    "import pandas as pd"
   ]
  },
  {
   "cell_type": "code",
   "execution_count": 38,
   "metadata": {
    "executionInfo": {
     "elapsed": 162,
     "status": "ok",
     "timestamp": 1635460359207,
     "user": {
      "displayName": "Murat Guner",
      "photoUrl": "https://lh3.googleusercontent.com/a/default-user=s64",
      "userId": "07219518426737849646"
     },
     "user_tz": 240
    },
    "id": "j-Y6A2mwBg-M"
   },
   "outputs": [
    {
     "data": {
      "text/plain": [
       "Timestamp('2021-11-08 00:00:00')"
      ]
     },
     "execution_count": 38,
     "metadata": {},
     "output_type": "execute_result"
    }
   ],
   "source": [
    "## the most basic data structure that pandas using is Timestamp\n",
    "pd.Timestamp(year=2021, month=11, day=8)\n"
   ]
  },
  {
   "cell_type": "code",
   "execution_count": 39,
   "metadata": {},
   "outputs": [
    {
     "data": {
      "text/plain": [
       "Timestamp('2021-11-03 00:00:00')"
      ]
     },
     "execution_count": 39,
     "metadata": {},
     "output_type": "execute_result"
    }
   ],
   "source": [
    "## to create it we can use pd.to_datetime\n",
    "pd.to_datetime('Nov 3 2021')"
   ]
  },
  {
   "cell_type": "code",
   "execution_count": 44,
   "metadata": {},
   "outputs": [
    {
     "data": {
      "text/plain": [
       "['__add__',\n",
       " '__array_priority__',\n",
       " '__class__',\n",
       " '__delattr__',\n",
       " '__dict__',\n",
       " '__dir__',\n",
       " '__doc__',\n",
       " '__eq__',\n",
       " '__format__',\n",
       " '__ge__',\n",
       " '__getattribute__',\n",
       " '__gt__',\n",
       " '__hash__',\n",
       " '__init__',\n",
       " '__init_subclass__',\n",
       " '__le__',\n",
       " '__lt__',\n",
       " '__module__',\n",
       " '__ne__',\n",
       " '__new__',\n",
       " '__pyx_vtable__',\n",
       " '__radd__',\n",
       " '__reduce__',\n",
       " '__reduce_cython__',\n",
       " '__reduce_ex__',\n",
       " '__repr__',\n",
       " '__rsub__',\n",
       " '__setattr__',\n",
       " '__setstate__',\n",
       " '__setstate_cython__',\n",
       " '__sizeof__',\n",
       " '__str__',\n",
       " '__sub__',\n",
       " '__subclasshook__',\n",
       " '__weakref__',\n",
       " '_date_repr',\n",
       " '_repr_base',\n",
       " '_round',\n",
       " '_short_repr',\n",
       " '_time_repr',\n",
       " 'asm8',\n",
       " 'astimezone',\n",
       " 'ceil',\n",
       " 'combine',\n",
       " 'ctime',\n",
       " 'date',\n",
       " 'day',\n",
       " 'day_name',\n",
       " 'day_of_week',\n",
       " 'day_of_year',\n",
       " 'dayofweek',\n",
       " 'dayofyear',\n",
       " 'days_in_month',\n",
       " 'daysinmonth',\n",
       " 'dst',\n",
       " 'floor',\n",
       " 'fold',\n",
       " 'freq',\n",
       " 'freqstr',\n",
       " 'fromisocalendar',\n",
       " 'fromisoformat',\n",
       " 'fromordinal',\n",
       " 'fromtimestamp',\n",
       " 'hour',\n",
       " 'is_leap_year',\n",
       " 'is_month_end',\n",
       " 'is_month_start',\n",
       " 'is_quarter_end',\n",
       " 'is_quarter_start',\n",
       " 'is_year_end',\n",
       " 'is_year_start',\n",
       " 'isocalendar',\n",
       " 'isoformat',\n",
       " 'isoweekday',\n",
       " 'max',\n",
       " 'microsecond',\n",
       " 'min',\n",
       " 'minute',\n",
       " 'month',\n",
       " 'month_name',\n",
       " 'nanosecond',\n",
       " 'normalize',\n",
       " 'now',\n",
       " 'quarter',\n",
       " 'replace',\n",
       " 'resolution',\n",
       " 'round',\n",
       " 'second',\n",
       " 'strftime',\n",
       " 'strptime',\n",
       " 'time',\n",
       " 'timestamp',\n",
       " 'timetuple',\n",
       " 'timetz',\n",
       " 'to_datetime64',\n",
       " 'to_julian_date',\n",
       " 'to_numpy',\n",
       " 'to_period',\n",
       " 'to_pydatetime',\n",
       " 'today',\n",
       " 'toordinal',\n",
       " 'tz',\n",
       " 'tz_convert',\n",
       " 'tz_localize',\n",
       " 'tzinfo',\n",
       " 'tzname',\n",
       " 'utcfromtimestamp',\n",
       " 'utcnow',\n",
       " 'utcoffset',\n",
       " 'utctimetuple',\n",
       " 'value',\n",
       " 'week',\n",
       " 'weekday',\n",
       " 'weekofyear',\n",
       " 'year']"
      ]
     },
     "execution_count": 44,
     "metadata": {},
     "output_type": "execute_result"
    }
   ],
   "source": [
    "t = pd.to_datetime('Nov 3 2021')\n",
    "\n",
    "dir(t)"
   ]
  },
  {
   "cell_type": "markdown",
   "metadata": {
    "id": "_gsiia-fjcpr"
   },
   "source": [
    "[pd.to_datetime](https://pandas.pydata.org/pandas-docs/stable/reference/api/pandas.to_datetime.html)\n",
    "\n",
    "[Pandas Timestamp Documentation](https://pandas.pydata.org/pandas-docs/stable/reference/api/pandas.Timestamp.html)"
   ]
  },
  {
   "cell_type": "code",
   "execution_count": null,
   "metadata": {
    "executionInfo": {
     "elapsed": 224,
     "status": "ok",
     "timestamp": 1635460413489,
     "user": {
      "displayName": "Murat Guner",
      "photoUrl": "https://lh3.googleusercontent.com/a/default-user=s64",
      "userId": "07219518426737849646"
     },
     "user_tz": 240
    },
    "id": "LoEvJuENEYL0"
   },
   "outputs": [],
   "source": [
    "## note that pandas uses both datetime module and numpy.datetime64 data dtype\n",
    "## so we can use some of the methods used in these modules. "
   ]
  },
  {
   "cell_type": "code",
   "execution_count": 43,
   "metadata": {},
   "outputs": [
    {
     "data": {
      "text/plain": [
       "'Wednesday'"
      ]
     },
     "execution_count": 43,
     "metadata": {},
     "output_type": "execute_result"
    }
   ],
   "source": [
    "t.day_name()"
   ]
  },
  {
   "cell_type": "code",
   "execution_count": 45,
   "metadata": {},
   "outputs": [
    {
     "data": {
      "text/plain": [
       "'November'"
      ]
     },
     "execution_count": 45,
     "metadata": {},
     "output_type": "execute_result"
    }
   ],
   "source": [
    "t.month_name()"
   ]
  },
  {
   "cell_type": "code",
   "execution_count": 46,
   "metadata": {
    "executionInfo": {
     "elapsed": 187,
     "status": "ok",
     "timestamp": 1635460417616,
     "user": {
      "displayName": "Murat Guner",
      "photoUrl": "https://lh3.googleusercontent.com/a/default-user=s64",
      "userId": "07219518426737849646"
     },
     "user_tz": 240
    },
    "id": "taB5F-62hXFv"
   },
   "outputs": [
    {
     "data": {
      "text/plain": [
       "numpy.datetime64('2021-11-03T00:00:00.000000000')"
      ]
     },
     "execution_count": 46,
     "metadata": {},
     "output_type": "execute_result"
    }
   ],
   "source": [
    "## there are also some additional methods that are very hadny when you analyze data.\n",
    "# help(t)\n",
    "# dir(t)\n",
    "t.to_datetime64()"
   ]
  },
  {
   "cell_type": "code",
   "execution_count": 47,
   "metadata": {
    "executionInfo": {
     "elapsed": 496,
     "status": "ok",
     "timestamp": 1635460418838,
     "user": {
      "displayName": "Murat Guner",
      "photoUrl": "https://lh3.googleusercontent.com/a/default-user=s64",
      "userId": "07219518426737849646"
     },
     "user_tz": 240
    },
    "id": "NqGh_qg5jMyu"
   },
   "outputs": [],
   "source": [
    "## let's consider the following example\n",
    "\n",
    "data_url ='https://raw.githubusercontent.com/msaricaumbc/DS_data/master/ETH-1.csv'\n",
    "df = pd.read_csv(data_url)"
   ]
  },
  {
   "cell_type": "markdown",
   "metadata": {
    "id": "rYjvGDr7CgaM"
   },
   "source": [
    "[What is Ethereum](https://ethereum.org/en/eth/)"
   ]
  },
  {
   "cell_type": "code",
   "execution_count": 48,
   "metadata": {
    "colab": {
     "base_uri": "https://localhost:8080/",
     "height": 206
    },
    "executionInfo": {
     "elapsed": 225,
     "status": "ok",
     "timestamp": 1635460478165,
     "user": {
      "displayName": "Murat Guner",
      "photoUrl": "https://lh3.googleusercontent.com/a/default-user=s64",
      "userId": "07219518426737849646"
     },
     "user_tz": 240
    },
    "id": "yr0r-jRmjWmR",
    "outputId": "7f478a31-4f2a-431f-9177-fedd34188a40"
   },
   "outputs": [
    {
     "data": {
      "text/html": [
       "<div>\n",
       "<style scoped>\n",
       "    .dataframe tbody tr th:only-of-type {\n",
       "        vertical-align: middle;\n",
       "    }\n",
       "\n",
       "    .dataframe tbody tr th {\n",
       "        vertical-align: top;\n",
       "    }\n",
       "\n",
       "    .dataframe thead th {\n",
       "        text-align: right;\n",
       "    }\n",
       "</style>\n",
       "<table border=\"1\" class=\"dataframe\">\n",
       "  <thead>\n",
       "    <tr style=\"text-align: right;\">\n",
       "      <th></th>\n",
       "      <th>Date</th>\n",
       "      <th>Symbol</th>\n",
       "      <th>Open</th>\n",
       "      <th>High</th>\n",
       "      <th>Low</th>\n",
       "      <th>Close</th>\n",
       "      <th>Volume</th>\n",
       "    </tr>\n",
       "  </thead>\n",
       "  <tbody>\n",
       "    <tr>\n",
       "      <th>0</th>\n",
       "      <td>2020-03-13 08-PM</td>\n",
       "      <td>ETHUSD</td>\n",
       "      <td>129.94</td>\n",
       "      <td>131.82</td>\n",
       "      <td>126.87</td>\n",
       "      <td>128.71</td>\n",
       "      <td>1940673.93</td>\n",
       "    </tr>\n",
       "    <tr>\n",
       "      <th>1</th>\n",
       "      <td>2020-03-13 07-PM</td>\n",
       "      <td>ETHUSD</td>\n",
       "      <td>119.51</td>\n",
       "      <td>132.02</td>\n",
       "      <td>117.10</td>\n",
       "      <td>129.94</td>\n",
       "      <td>7579741.09</td>\n",
       "    </tr>\n",
       "    <tr>\n",
       "      <th>2</th>\n",
       "      <td>2020-03-13 06-PM</td>\n",
       "      <td>ETHUSD</td>\n",
       "      <td>124.47</td>\n",
       "      <td>124.85</td>\n",
       "      <td>115.50</td>\n",
       "      <td>119.51</td>\n",
       "      <td>4898735.81</td>\n",
       "    </tr>\n",
       "    <tr>\n",
       "      <th>3</th>\n",
       "      <td>2020-03-13 05-PM</td>\n",
       "      <td>ETHUSD</td>\n",
       "      <td>124.08</td>\n",
       "      <td>127.42</td>\n",
       "      <td>121.63</td>\n",
       "      <td>124.47</td>\n",
       "      <td>2753450.92</td>\n",
       "    </tr>\n",
       "    <tr>\n",
       "      <th>4</th>\n",
       "      <td>2020-03-13 04-PM</td>\n",
       "      <td>ETHUSD</td>\n",
       "      <td>124.85</td>\n",
       "      <td>129.51</td>\n",
       "      <td>120.17</td>\n",
       "      <td>124.08</td>\n",
       "      <td>4461424.71</td>\n",
       "    </tr>\n",
       "  </tbody>\n",
       "</table>\n",
       "</div>"
      ],
      "text/plain": [
       "               Date  Symbol    Open    High     Low   Close      Volume\n",
       "0  2020-03-13 08-PM  ETHUSD  129.94  131.82  126.87  128.71  1940673.93\n",
       "1  2020-03-13 07-PM  ETHUSD  119.51  132.02  117.10  129.94  7579741.09\n",
       "2  2020-03-13 06-PM  ETHUSD  124.47  124.85  115.50  119.51  4898735.81\n",
       "3  2020-03-13 05-PM  ETHUSD  124.08  127.42  121.63  124.47  2753450.92\n",
       "4  2020-03-13 04-PM  ETHUSD  124.85  129.51  120.17  124.08  4461424.71"
      ]
     },
     "execution_count": 48,
     "metadata": {},
     "output_type": "execute_result"
    }
   ],
   "source": [
    "## check the head\n",
    "\n",
    "df.head()"
   ]
  },
  {
   "cell_type": "code",
   "execution_count": 49,
   "metadata": {},
   "outputs": [
    {
     "data": {
      "text/plain": [
       "Date       object\n",
       "Symbol     object\n",
       "Open      float64\n",
       "High      float64\n",
       "Low       float64\n",
       "Close     float64\n",
       "Volume    float64\n",
       "dtype: object"
      ]
     },
     "execution_count": 49,
     "metadata": {},
     "output_type": "execute_result"
    }
   ],
   "source": [
    "df.dtypes"
   ]
  },
  {
   "cell_type": "code",
   "execution_count": 50,
   "metadata": {
    "executionInfo": {
     "elapsed": 189,
     "status": "ok",
     "timestamp": 1635460502790,
     "user": {
      "displayName": "Murat Guner",
      "photoUrl": "https://lh3.googleusercontent.com/a/default-user=s64",
      "userId": "07219518426737849646"
     },
     "user_tz": 240
    },
    "id": "8zv8it1-jpuv"
   },
   "outputs": [
    {
     "ename": "ParserError",
     "evalue": "Unknown string format: 2020-03-13 08-PM",
     "output_type": "error",
     "traceback": [
      "\u001b[0;31m---------------------------------------------------------------------------\u001b[0m",
      "\u001b[0;31mTypeError\u001b[0m                                 Traceback (most recent call last)",
      "\u001b[0;32m~/opt/anaconda3/lib/python3.8/site-packages/pandas/core/arrays/datetimes.py\u001b[0m in \u001b[0;36mobjects_to_datetime64ns\u001b[0;34m(data, dayfirst, yearfirst, utc, errors, require_iso8601, allow_object)\u001b[0m\n\u001b[1;32m   2084\u001b[0m         \u001b[0;32mtry\u001b[0m\u001b[0;34m:\u001b[0m\u001b[0;34m\u001b[0m\u001b[0;34m\u001b[0m\u001b[0m\n\u001b[0;32m-> 2085\u001b[0;31m             \u001b[0mvalues\u001b[0m\u001b[0;34m,\u001b[0m \u001b[0mtz_parsed\u001b[0m \u001b[0;34m=\u001b[0m \u001b[0mconversion\u001b[0m\u001b[0;34m.\u001b[0m\u001b[0mdatetime_to_datetime64\u001b[0m\u001b[0;34m(\u001b[0m\u001b[0mdata\u001b[0m\u001b[0;34m)\u001b[0m\u001b[0;34m\u001b[0m\u001b[0;34m\u001b[0m\u001b[0m\n\u001b[0m\u001b[1;32m   2086\u001b[0m             \u001b[0;31m# If tzaware, these values represent unix timestamps, so we\u001b[0m\u001b[0;34m\u001b[0m\u001b[0;34m\u001b[0m\u001b[0;34m\u001b[0m\u001b[0m\n",
      "\u001b[0;32mpandas/_libs/tslibs/conversion.pyx\u001b[0m in \u001b[0;36mpandas._libs.tslibs.conversion.datetime_to_datetime64\u001b[0;34m()\u001b[0m\n",
      "\u001b[0;31mTypeError\u001b[0m: Unrecognized value type: <class 'str'>",
      "\nDuring handling of the above exception, another exception occurred:\n",
      "\u001b[0;31mParserError\u001b[0m                               Traceback (most recent call last)",
      "\u001b[0;32m<ipython-input-50-e02c53f7b219>\u001b[0m in \u001b[0;36m<module>\u001b[0;34m\u001b[0m\n\u001b[1;32m      3\u001b[0m \u001b[0;34m\u001b[0m\u001b[0m\n\u001b[1;32m      4\u001b[0m \u001b[0;31m## let's try pd.to_datetime\u001b[0m\u001b[0;34m\u001b[0m\u001b[0;34m\u001b[0m\u001b[0;34m\u001b[0m\u001b[0m\n\u001b[0;32m----> 5\u001b[0;31m \u001b[0mpd\u001b[0m\u001b[0;34m.\u001b[0m\u001b[0mto_datetime\u001b[0m\u001b[0;34m(\u001b[0m\u001b[0mdf\u001b[0m\u001b[0;34m.\u001b[0m\u001b[0mDate\u001b[0m\u001b[0;34m)\u001b[0m\u001b[0;34m\u001b[0m\u001b[0;34m\u001b[0m\u001b[0m\n\u001b[0m",
      "\u001b[0;32m~/opt/anaconda3/lib/python3.8/site-packages/pandas/core/tools/datetimes.py\u001b[0m in \u001b[0;36mto_datetime\u001b[0;34m(arg, errors, dayfirst, yearfirst, utc, format, exact, unit, infer_datetime_format, origin, cache)\u001b[0m\n\u001b[1;32m    803\u001b[0m             \u001b[0mresult\u001b[0m \u001b[0;34m=\u001b[0m \u001b[0marg\u001b[0m\u001b[0;34m.\u001b[0m\u001b[0mmap\u001b[0m\u001b[0;34m(\u001b[0m\u001b[0mcache_array\u001b[0m\u001b[0;34m)\u001b[0m\u001b[0;34m\u001b[0m\u001b[0;34m\u001b[0m\u001b[0m\n\u001b[1;32m    804\u001b[0m         \u001b[0;32melse\u001b[0m\u001b[0;34m:\u001b[0m\u001b[0;34m\u001b[0m\u001b[0;34m\u001b[0m\u001b[0m\n\u001b[0;32m--> 805\u001b[0;31m             \u001b[0mvalues\u001b[0m \u001b[0;34m=\u001b[0m \u001b[0mconvert_listlike\u001b[0m\u001b[0;34m(\u001b[0m\u001b[0marg\u001b[0m\u001b[0;34m.\u001b[0m\u001b[0m_values\u001b[0m\u001b[0;34m,\u001b[0m \u001b[0mformat\u001b[0m\u001b[0;34m)\u001b[0m\u001b[0;34m\u001b[0m\u001b[0;34m\u001b[0m\u001b[0m\n\u001b[0m\u001b[1;32m    806\u001b[0m             \u001b[0mresult\u001b[0m \u001b[0;34m=\u001b[0m \u001b[0marg\u001b[0m\u001b[0;34m.\u001b[0m\u001b[0m_constructor\u001b[0m\u001b[0;34m(\u001b[0m\u001b[0mvalues\u001b[0m\u001b[0;34m,\u001b[0m \u001b[0mindex\u001b[0m\u001b[0;34m=\u001b[0m\u001b[0marg\u001b[0m\u001b[0;34m.\u001b[0m\u001b[0mindex\u001b[0m\u001b[0;34m,\u001b[0m \u001b[0mname\u001b[0m\u001b[0;34m=\u001b[0m\u001b[0marg\u001b[0m\u001b[0;34m.\u001b[0m\u001b[0mname\u001b[0m\u001b[0;34m)\u001b[0m\u001b[0;34m\u001b[0m\u001b[0;34m\u001b[0m\u001b[0m\n\u001b[1;32m    807\u001b[0m     \u001b[0;32melif\u001b[0m \u001b[0misinstance\u001b[0m\u001b[0;34m(\u001b[0m\u001b[0marg\u001b[0m\u001b[0;34m,\u001b[0m \u001b[0;34m(\u001b[0m\u001b[0mABCDataFrame\u001b[0m\u001b[0;34m,\u001b[0m \u001b[0mabc\u001b[0m\u001b[0;34m.\u001b[0m\u001b[0mMutableMapping\u001b[0m\u001b[0;34m)\u001b[0m\u001b[0;34m)\u001b[0m\u001b[0;34m:\u001b[0m\u001b[0;34m\u001b[0m\u001b[0;34m\u001b[0m\u001b[0m\n",
      "\u001b[0;32m~/opt/anaconda3/lib/python3.8/site-packages/pandas/core/tools/datetimes.py\u001b[0m in \u001b[0;36m_convert_listlike_datetimes\u001b[0;34m(arg, format, name, tz, unit, errors, infer_datetime_format, dayfirst, yearfirst, exact)\u001b[0m\n\u001b[1;32m    463\u001b[0m         \u001b[0;32massert\u001b[0m \u001b[0mformat\u001b[0m \u001b[0;32mis\u001b[0m \u001b[0;32mNone\u001b[0m \u001b[0;32mor\u001b[0m \u001b[0minfer_datetime_format\u001b[0m\u001b[0;34m\u001b[0m\u001b[0;34m\u001b[0m\u001b[0m\n\u001b[1;32m    464\u001b[0m         \u001b[0mutc\u001b[0m \u001b[0;34m=\u001b[0m \u001b[0mtz\u001b[0m \u001b[0;34m==\u001b[0m \u001b[0;34m\"utc\"\u001b[0m\u001b[0;34m\u001b[0m\u001b[0;34m\u001b[0m\u001b[0m\n\u001b[0;32m--> 465\u001b[0;31m         result, tz_parsed = objects_to_datetime64ns(\n\u001b[0m\u001b[1;32m    466\u001b[0m             \u001b[0marg\u001b[0m\u001b[0;34m,\u001b[0m\u001b[0;34m\u001b[0m\u001b[0;34m\u001b[0m\u001b[0m\n\u001b[1;32m    467\u001b[0m             \u001b[0mdayfirst\u001b[0m\u001b[0;34m=\u001b[0m\u001b[0mdayfirst\u001b[0m\u001b[0;34m,\u001b[0m\u001b[0;34m\u001b[0m\u001b[0;34m\u001b[0m\u001b[0m\n",
      "\u001b[0;32m~/opt/anaconda3/lib/python3.8/site-packages/pandas/core/arrays/datetimes.py\u001b[0m in \u001b[0;36mobjects_to_datetime64ns\u001b[0;34m(data, dayfirst, yearfirst, utc, errors, require_iso8601, allow_object)\u001b[0m\n\u001b[1;32m   2088\u001b[0m             \u001b[0;32mreturn\u001b[0m \u001b[0mvalues\u001b[0m\u001b[0;34m.\u001b[0m\u001b[0mview\u001b[0m\u001b[0;34m(\u001b[0m\u001b[0;34m\"i8\"\u001b[0m\u001b[0;34m)\u001b[0m\u001b[0;34m,\u001b[0m \u001b[0mtz_parsed\u001b[0m\u001b[0;34m\u001b[0m\u001b[0;34m\u001b[0m\u001b[0m\n\u001b[1;32m   2089\u001b[0m         \u001b[0;32mexcept\u001b[0m \u001b[0;34m(\u001b[0m\u001b[0mValueError\u001b[0m\u001b[0;34m,\u001b[0m \u001b[0mTypeError\u001b[0m\u001b[0;34m)\u001b[0m\u001b[0;34m:\u001b[0m\u001b[0;34m\u001b[0m\u001b[0;34m\u001b[0m\u001b[0m\n\u001b[0;32m-> 2090\u001b[0;31m             \u001b[0;32mraise\u001b[0m \u001b[0me\u001b[0m\u001b[0;34m\u001b[0m\u001b[0;34m\u001b[0m\u001b[0m\n\u001b[0m\u001b[1;32m   2091\u001b[0m \u001b[0;34m\u001b[0m\u001b[0m\n\u001b[1;32m   2092\u001b[0m     \u001b[0;32mif\u001b[0m \u001b[0mtz_parsed\u001b[0m \u001b[0;32mis\u001b[0m \u001b[0;32mnot\u001b[0m \u001b[0;32mNone\u001b[0m\u001b[0;34m:\u001b[0m\u001b[0;34m\u001b[0m\u001b[0;34m\u001b[0m\u001b[0m\n",
      "\u001b[0;32m~/opt/anaconda3/lib/python3.8/site-packages/pandas/core/arrays/datetimes.py\u001b[0m in \u001b[0;36mobjects_to_datetime64ns\u001b[0;34m(data, dayfirst, yearfirst, utc, errors, require_iso8601, allow_object)\u001b[0m\n\u001b[1;32m   2073\u001b[0m \u001b[0;34m\u001b[0m\u001b[0m\n\u001b[1;32m   2074\u001b[0m     \u001b[0;32mtry\u001b[0m\u001b[0;34m:\u001b[0m\u001b[0;34m\u001b[0m\u001b[0;34m\u001b[0m\u001b[0m\n\u001b[0;32m-> 2075\u001b[0;31m         result, tz_parsed = tslib.array_to_datetime(\n\u001b[0m\u001b[1;32m   2076\u001b[0m             \u001b[0mdata\u001b[0m\u001b[0;34m,\u001b[0m\u001b[0;34m\u001b[0m\u001b[0;34m\u001b[0m\u001b[0m\n\u001b[1;32m   2077\u001b[0m             \u001b[0merrors\u001b[0m\u001b[0;34m=\u001b[0m\u001b[0merrors\u001b[0m\u001b[0;34m,\u001b[0m\u001b[0;34m\u001b[0m\u001b[0;34m\u001b[0m\u001b[0m\n",
      "\u001b[0;32mpandas/_libs/tslib.pyx\u001b[0m in \u001b[0;36mpandas._libs.tslib.array_to_datetime\u001b[0;34m()\u001b[0m\n",
      "\u001b[0;32mpandas/_libs/tslib.pyx\u001b[0m in \u001b[0;36mpandas._libs.tslib.array_to_datetime\u001b[0;34m()\u001b[0m\n",
      "\u001b[0;32mpandas/_libs/tslib.pyx\u001b[0m in \u001b[0;36mpandas._libs.tslib.array_to_datetime_object\u001b[0;34m()\u001b[0m\n",
      "\u001b[0;32mpandas/_libs/tslib.pyx\u001b[0m in \u001b[0;36mpandas._libs.tslib.array_to_datetime_object\u001b[0;34m()\u001b[0m\n",
      "\u001b[0;32mpandas/_libs/tslibs/parsing.pyx\u001b[0m in \u001b[0;36mpandas._libs.tslibs.parsing.parse_datetime_string\u001b[0;34m()\u001b[0m\n",
      "\u001b[0;32m~/opt/anaconda3/lib/python3.8/site-packages/dateutil/parser/_parser.py\u001b[0m in \u001b[0;36mparse\u001b[0;34m(timestr, parserinfo, **kwargs)\u001b[0m\n\u001b[1;32m   1372\u001b[0m         \u001b[0;32mreturn\u001b[0m \u001b[0mparser\u001b[0m\u001b[0;34m(\u001b[0m\u001b[0mparserinfo\u001b[0m\u001b[0;34m)\u001b[0m\u001b[0;34m.\u001b[0m\u001b[0mparse\u001b[0m\u001b[0;34m(\u001b[0m\u001b[0mtimestr\u001b[0m\u001b[0;34m,\u001b[0m \u001b[0;34m**\u001b[0m\u001b[0mkwargs\u001b[0m\u001b[0;34m)\u001b[0m\u001b[0;34m\u001b[0m\u001b[0;34m\u001b[0m\u001b[0m\n\u001b[1;32m   1373\u001b[0m     \u001b[0;32melse\u001b[0m\u001b[0;34m:\u001b[0m\u001b[0;34m\u001b[0m\u001b[0;34m\u001b[0m\u001b[0m\n\u001b[0;32m-> 1374\u001b[0;31m         \u001b[0;32mreturn\u001b[0m \u001b[0mDEFAULTPARSER\u001b[0m\u001b[0;34m.\u001b[0m\u001b[0mparse\u001b[0m\u001b[0;34m(\u001b[0m\u001b[0mtimestr\u001b[0m\u001b[0;34m,\u001b[0m \u001b[0;34m**\u001b[0m\u001b[0mkwargs\u001b[0m\u001b[0;34m)\u001b[0m\u001b[0;34m\u001b[0m\u001b[0;34m\u001b[0m\u001b[0m\n\u001b[0m\u001b[1;32m   1375\u001b[0m \u001b[0;34m\u001b[0m\u001b[0m\n\u001b[1;32m   1376\u001b[0m \u001b[0;34m\u001b[0m\u001b[0m\n",
      "\u001b[0;32m~/opt/anaconda3/lib/python3.8/site-packages/dateutil/parser/_parser.py\u001b[0m in \u001b[0;36mparse\u001b[0;34m(self, timestr, default, ignoretz, tzinfos, **kwargs)\u001b[0m\n\u001b[1;32m    647\u001b[0m \u001b[0;34m\u001b[0m\u001b[0m\n\u001b[1;32m    648\u001b[0m         \u001b[0;32mif\u001b[0m \u001b[0mres\u001b[0m \u001b[0;32mis\u001b[0m \u001b[0;32mNone\u001b[0m\u001b[0;34m:\u001b[0m\u001b[0;34m\u001b[0m\u001b[0;34m\u001b[0m\u001b[0m\n\u001b[0;32m--> 649\u001b[0;31m             \u001b[0;32mraise\u001b[0m \u001b[0mParserError\u001b[0m\u001b[0;34m(\u001b[0m\u001b[0;34m\"Unknown string format: %s\"\u001b[0m\u001b[0;34m,\u001b[0m \u001b[0mtimestr\u001b[0m\u001b[0;34m)\u001b[0m\u001b[0;34m\u001b[0m\u001b[0;34m\u001b[0m\u001b[0m\n\u001b[0m\u001b[1;32m    650\u001b[0m \u001b[0;34m\u001b[0m\u001b[0m\n\u001b[1;32m    651\u001b[0m         \u001b[0;32mif\u001b[0m \u001b[0mlen\u001b[0m\u001b[0;34m(\u001b[0m\u001b[0mres\u001b[0m\u001b[0;34m)\u001b[0m \u001b[0;34m==\u001b[0m \u001b[0;36m0\u001b[0m\u001b[0;34m:\u001b[0m\u001b[0;34m\u001b[0m\u001b[0;34m\u001b[0m\u001b[0m\n",
      "\u001b[0;31mParserError\u001b[0m: Unknown string format: 2020-03-13 08-PM"
     ]
    }
   ],
   "source": [
    "## note that in this case \n",
    "## it is not straightforward to convert strings to datetime\n",
    "\n",
    "## let's try pd.to_datetime\n",
    "pd.to_datetime(df.Date)"
   ]
  },
  {
   "cell_type": "code",
   "execution_count": 53,
   "metadata": {},
   "outputs": [
    {
     "ename": "ParserError",
     "evalue": "Unknown string format: 2020-03-13 08-PM",
     "output_type": "error",
     "traceback": [
      "\u001b[0;31m---------------------------------------------------------------------------\u001b[0m",
      "\u001b[0;31mParserError\u001b[0m                               Traceback (most recent call last)",
      "\u001b[0;32m<ipython-input-53-e0c8ae0fed4f>\u001b[0m in \u001b[0;36m<module>\u001b[0;34m\u001b[0m\n\u001b[0;32m----> 1\u001b[0;31m \u001b[0mparser\u001b[0m\u001b[0;34m.\u001b[0m\u001b[0mparse\u001b[0m\u001b[0;34m(\u001b[0m\u001b[0;34m'2020-03-13 08-PM'\u001b[0m\u001b[0;34m)\u001b[0m\u001b[0;34m\u001b[0m\u001b[0;34m\u001b[0m\u001b[0m\n\u001b[0m",
      "\u001b[0;32m~/opt/anaconda3/lib/python3.8/site-packages/dateutil/parser/_parser.py\u001b[0m in \u001b[0;36mparse\u001b[0;34m(timestr, parserinfo, **kwargs)\u001b[0m\n\u001b[1;32m   1372\u001b[0m         \u001b[0;32mreturn\u001b[0m \u001b[0mparser\u001b[0m\u001b[0;34m(\u001b[0m\u001b[0mparserinfo\u001b[0m\u001b[0;34m)\u001b[0m\u001b[0;34m.\u001b[0m\u001b[0mparse\u001b[0m\u001b[0;34m(\u001b[0m\u001b[0mtimestr\u001b[0m\u001b[0;34m,\u001b[0m \u001b[0;34m**\u001b[0m\u001b[0mkwargs\u001b[0m\u001b[0;34m)\u001b[0m\u001b[0;34m\u001b[0m\u001b[0;34m\u001b[0m\u001b[0m\n\u001b[1;32m   1373\u001b[0m     \u001b[0;32melse\u001b[0m\u001b[0;34m:\u001b[0m\u001b[0;34m\u001b[0m\u001b[0;34m\u001b[0m\u001b[0m\n\u001b[0;32m-> 1374\u001b[0;31m         \u001b[0;32mreturn\u001b[0m \u001b[0mDEFAULTPARSER\u001b[0m\u001b[0;34m.\u001b[0m\u001b[0mparse\u001b[0m\u001b[0;34m(\u001b[0m\u001b[0mtimestr\u001b[0m\u001b[0;34m,\u001b[0m \u001b[0;34m**\u001b[0m\u001b[0mkwargs\u001b[0m\u001b[0;34m)\u001b[0m\u001b[0;34m\u001b[0m\u001b[0;34m\u001b[0m\u001b[0m\n\u001b[0m\u001b[1;32m   1375\u001b[0m \u001b[0;34m\u001b[0m\u001b[0m\n\u001b[1;32m   1376\u001b[0m \u001b[0;34m\u001b[0m\u001b[0m\n",
      "\u001b[0;32m~/opt/anaconda3/lib/python3.8/site-packages/dateutil/parser/_parser.py\u001b[0m in \u001b[0;36mparse\u001b[0;34m(self, timestr, default, ignoretz, tzinfos, **kwargs)\u001b[0m\n\u001b[1;32m    647\u001b[0m \u001b[0;34m\u001b[0m\u001b[0m\n\u001b[1;32m    648\u001b[0m         \u001b[0;32mif\u001b[0m \u001b[0mres\u001b[0m \u001b[0;32mis\u001b[0m \u001b[0;32mNone\u001b[0m\u001b[0;34m:\u001b[0m\u001b[0;34m\u001b[0m\u001b[0;34m\u001b[0m\u001b[0m\n\u001b[0;32m--> 649\u001b[0;31m             \u001b[0;32mraise\u001b[0m \u001b[0mParserError\u001b[0m\u001b[0;34m(\u001b[0m\u001b[0;34m\"Unknown string format: %s\"\u001b[0m\u001b[0;34m,\u001b[0m \u001b[0mtimestr\u001b[0m\u001b[0;34m)\u001b[0m\u001b[0;34m\u001b[0m\u001b[0;34m\u001b[0m\u001b[0m\n\u001b[0m\u001b[1;32m    650\u001b[0m \u001b[0;34m\u001b[0m\u001b[0m\n\u001b[1;32m    651\u001b[0m         \u001b[0;32mif\u001b[0m \u001b[0mlen\u001b[0m\u001b[0;34m(\u001b[0m\u001b[0mres\u001b[0m\u001b[0;34m)\u001b[0m \u001b[0;34m==\u001b[0m \u001b[0;36m0\u001b[0m\u001b[0;34m:\u001b[0m\u001b[0;34m\u001b[0m\u001b[0;34m\u001b[0m\u001b[0m\n",
      "\u001b[0;31mParserError\u001b[0m: Unknown string format: 2020-03-13 08-PM"
     ]
    }
   ],
   "source": [
    "parser.parse('2020-03-13 08-PM')"
   ]
  },
  {
   "cell_type": "code",
   "execution_count": 54,
   "metadata": {},
   "outputs": [
    {
     "data": {
      "text/html": [
       "<div>\n",
       "<style scoped>\n",
       "    .dataframe tbody tr th:only-of-type {\n",
       "        vertical-align: middle;\n",
       "    }\n",
       "\n",
       "    .dataframe tbody tr th {\n",
       "        vertical-align: top;\n",
       "    }\n",
       "\n",
       "    .dataframe thead th {\n",
       "        text-align: right;\n",
       "    }\n",
       "</style>\n",
       "<table border=\"1\" class=\"dataframe\">\n",
       "  <thead>\n",
       "    <tr style=\"text-align: right;\">\n",
       "      <th></th>\n",
       "      <th>Date</th>\n",
       "      <th>Symbol</th>\n",
       "      <th>Open</th>\n",
       "      <th>High</th>\n",
       "      <th>Low</th>\n",
       "      <th>Close</th>\n",
       "      <th>Volume</th>\n",
       "    </tr>\n",
       "  </thead>\n",
       "  <tbody>\n",
       "    <tr>\n",
       "      <th>0</th>\n",
       "      <td>2020-03-13 08-PM</td>\n",
       "      <td>ETHUSD</td>\n",
       "      <td>129.94</td>\n",
       "      <td>131.82</td>\n",
       "      <td>126.87</td>\n",
       "      <td>128.71</td>\n",
       "      <td>1940673.93</td>\n",
       "    </tr>\n",
       "    <tr>\n",
       "      <th>1</th>\n",
       "      <td>2020-03-13 07-PM</td>\n",
       "      <td>ETHUSD</td>\n",
       "      <td>119.51</td>\n",
       "      <td>132.02</td>\n",
       "      <td>117.10</td>\n",
       "      <td>129.94</td>\n",
       "      <td>7579741.09</td>\n",
       "    </tr>\n",
       "    <tr>\n",
       "      <th>2</th>\n",
       "      <td>2020-03-13 06-PM</td>\n",
       "      <td>ETHUSD</td>\n",
       "      <td>124.47</td>\n",
       "      <td>124.85</td>\n",
       "      <td>115.50</td>\n",
       "      <td>119.51</td>\n",
       "      <td>4898735.81</td>\n",
       "    </tr>\n",
       "    <tr>\n",
       "      <th>3</th>\n",
       "      <td>2020-03-13 05-PM</td>\n",
       "      <td>ETHUSD</td>\n",
       "      <td>124.08</td>\n",
       "      <td>127.42</td>\n",
       "      <td>121.63</td>\n",
       "      <td>124.47</td>\n",
       "      <td>2753450.92</td>\n",
       "    </tr>\n",
       "    <tr>\n",
       "      <th>4</th>\n",
       "      <td>2020-03-13 04-PM</td>\n",
       "      <td>ETHUSD</td>\n",
       "      <td>124.85</td>\n",
       "      <td>129.51</td>\n",
       "      <td>120.17</td>\n",
       "      <td>124.08</td>\n",
       "      <td>4461424.71</td>\n",
       "    </tr>\n",
       "  </tbody>\n",
       "</table>\n",
       "</div>"
      ],
      "text/plain": [
       "               Date  Symbol    Open    High     Low   Close      Volume\n",
       "0  2020-03-13 08-PM  ETHUSD  129.94  131.82  126.87  128.71  1940673.93\n",
       "1  2020-03-13 07-PM  ETHUSD  119.51  132.02  117.10  129.94  7579741.09\n",
       "2  2020-03-13 06-PM  ETHUSD  124.47  124.85  115.50  119.51  4898735.81\n",
       "3  2020-03-13 05-PM  ETHUSD  124.08  127.42  121.63  124.47  2753450.92\n",
       "4  2020-03-13 04-PM  ETHUSD  124.85  129.51  120.17  124.08  4461424.71"
      ]
     },
     "execution_count": 54,
     "metadata": {},
     "output_type": "execute_result"
    }
   ],
   "source": [
    "df.head()"
   ]
  },
  {
   "cell_type": "code",
   "execution_count": 55,
   "metadata": {
    "executionInfo": {
     "elapsed": 151,
     "status": "ok",
     "timestamp": 1635460545088,
     "user": {
      "displayName": "Murat Guner",
      "photoUrl": "https://lh3.googleusercontent.com/a/default-user=s64",
      "userId": "07219518426737849646"
     },
     "user_tz": 240
    },
    "id": "KA7--SWTj7D7"
   },
   "outputs": [
    {
     "data": {
      "text/plain": [
       "0       2020-03-13 20:00:00\n",
       "1       2020-03-13 19:00:00\n",
       "2       2020-03-13 18:00:00\n",
       "3       2020-03-13 17:00:00\n",
       "4       2020-03-13 16:00:00\n",
       "                ...        \n",
       "23669   2017-07-01 15:00:00\n",
       "23670   2017-07-01 14:00:00\n",
       "23671   2017-07-01 13:00:00\n",
       "23672   2017-07-01 12:00:00\n",
       "23673   2017-07-01 11:00:00\n",
       "Name: Date, Length: 23674, dtype: datetime64[ns]"
      ]
     },
     "execution_count": 55,
     "metadata": {},
     "output_type": "execute_result"
    }
   ],
   "source": [
    "## We can use the format parameter to give the format of the string\n",
    "\n",
    "pd.to_datetime(df.Date, format = '%Y-%m-%d %I-%p')"
   ]
  },
  {
   "cell_type": "markdown",
   "metadata": {
    "id": "3TiObd62kWsg"
   },
   "source": [
    "[pd.to_datetime](https://pandas.pydata.org/pandas-docs/stable/reference/api/pandas.to_datetime.html)\n",
    "\n",
    "[strftime - strptime](https://docs.python.org/3/library/datetime.html#strftime-and-strptime-behavior)"
   ]
  },
  {
   "cell_type": "code",
   "execution_count": 56,
   "metadata": {
    "executionInfo": {
     "elapsed": 179,
     "status": "ok",
     "timestamp": 1635460601278,
     "user": {
      "displayName": "Murat Guner",
      "photoUrl": "https://lh3.googleusercontent.com/a/default-user=s64",
      "userId": "07219518426737849646"
     },
     "user_tz": 240
    },
    "id": "NTsZH199lgqA"
   },
   "outputs": [
    {
     "data": {
      "text/plain": [
       "Date       object\n",
       "Symbol     object\n",
       "Open      float64\n",
       "High      float64\n",
       "Low       float64\n",
       "Close     float64\n",
       "Volume    float64\n",
       "dtype: object"
      ]
     },
     "execution_count": 56,
     "metadata": {},
     "output_type": "execute_result"
    }
   ],
   "source": [
    "## we could also directly load the data and parse the date as datetime\n",
    "\n",
    "## for some cases it is very easy to do!\n",
    "## use parse_dates and infer_datetime_format in pd.read_csv\n",
    "df1 = pd.read_csv(data_url , parse_dates= ['Date'],infer_datetime_format= True)\n",
    "\n",
    "## but this example is not one of those!\n",
    "df1.dtypes"
   ]
  },
  {
   "cell_type": "code",
   "execution_count": null,
   "metadata": {},
   "outputs": [],
   "source": [
    "df1.Date[0]"
   ]
  },
  {
   "cell_type": "code",
   "execution_count": null,
   "metadata": {
    "executionInfo": {
     "elapsed": 180,
     "status": "ok",
     "timestamp": 1635460713006,
     "user": {
      "displayName": "Murat Guner",
      "photoUrl": "https://lh3.googleusercontent.com/a/default-user=s64",
      "userId": "07219518426737849646"
     },
     "user_tz": 240
    },
    "id": "1UPIlVWcmT3S"
   },
   "outputs": [],
   "source": [
    "## in this case we need to pass a parser to date_parser argument\n",
    "\n",
    "## define my_time_parser\n",
    "## this takes a string and return pd.to_datetime \n",
    "def my_time_parser(date):\n",
    "    return\n",
    "\n",
    "## or we could use datetime.strptime mehtod\n",
    "\n",
    "## again use read_csv but this time pass my_time_parser to date_parser argument\n",
    "\n"
   ]
  },
  {
   "cell_type": "code",
   "execution_count": 60,
   "metadata": {},
   "outputs": [
    {
     "data": {
      "text/plain": [
       "0       2020-03-13 20:00:00\n",
       "1       2020-03-13 19:00:00\n",
       "2       2020-03-13 18:00:00\n",
       "3       2020-03-13 17:00:00\n",
       "4       2020-03-13 16:00:00\n",
       "                ...        \n",
       "23669   2017-07-01 15:00:00\n",
       "23670   2017-07-01 14:00:00\n",
       "23671   2017-07-01 13:00:00\n",
       "23672   2017-07-01 12:00:00\n",
       "23673   2017-07-01 11:00:00\n",
       "Name: Date, Length: 23674, dtype: datetime64[ns]"
      ]
     },
     "execution_count": 60,
     "metadata": {},
     "output_type": "execute_result"
    }
   ],
   "source": [
    "## in this case we need to pass a parser to date_parser argument\n",
    "def my_time_parser(date):\n",
    "    return pd.to_datetime(date, format =  '%Y-%m-%d %I-%p' ) ## or we could use datetime.strptime mehtod\n",
    "\n",
    "df1 = pd.read_csv(data_url, \n",
    "                  parse_dates= ['Date'], \n",
    "                  date_parser = my_time_parser)\n",
    "\n",
    "df1.Date"
   ]
  },
  {
   "cell_type": "code",
   "execution_count": 59,
   "metadata": {
    "colab": {
     "base_uri": "https://localhost:8080/"
    },
    "executionInfo": {
     "elapsed": 423,
     "status": "ok",
     "timestamp": 1635459054593,
     "user": {
      "displayName": "Murat Guner",
      "photoUrl": "https://lh3.googleusercontent.com/a/default-user=s64",
      "userId": "07219518426737849646"
     },
     "user_tz": 240
    },
    "id": "xRekeUTrnn7z",
    "outputId": "527270b7-e88e-4684-d36c-c8db105cf7f9"
   },
   "outputs": [
    {
     "data": {
      "text/plain": [
       "0       2020-03-13 20:00:00\n",
       "1       2020-03-13 19:00:00\n",
       "2       2020-03-13 18:00:00\n",
       "3       2020-03-13 17:00:00\n",
       "4       2020-03-13 16:00:00\n",
       "                ...        \n",
       "23669   2017-07-01 15:00:00\n",
       "23670   2017-07-01 14:00:00\n",
       "23671   2017-07-01 13:00:00\n",
       "23672   2017-07-01 12:00:00\n",
       "23673   2017-07-01 11:00:00\n",
       "Name: Date, Length: 23674, dtype: datetime64[ns]"
      ]
     },
     "execution_count": 59,
     "metadata": {},
     "output_type": "execute_result"
    }
   ],
   "source": [
    "## note that we could directly pass a lambda function too.\n",
    "\n",
    "df1 = pd.read_csv(data_url, \n",
    "                  parse_dates= ['Date'], \n",
    "                  date_parser = lambda x: datetime.strptime(x, '%Y-%m-%d %I-%p')\n",
    "#                   date_parser = lambda x: pd.to_datetime(x, format =  '%Y-%m-%d %I-%p' )\n",
    "                 )\n",
    "\n",
    "df1.Date"
   ]
  },
  {
   "cell_type": "code",
   "execution_count": 61,
   "metadata": {},
   "outputs": [
    {
     "data": {
      "text/plain": [
       "Timestamp('2020-03-13 20:00:00')"
      ]
     },
     "execution_count": 61,
     "metadata": {},
     "output_type": "execute_result"
    }
   ],
   "source": [
    "## note that each entry is an timestamp\n",
    "\n",
    "df1.Date[0]"
   ]
  },
  {
   "cell_type": "code",
   "execution_count": 62,
   "metadata": {},
   "outputs": [
    {
     "data": {
      "text/plain": [
       "11"
      ]
     },
     "execution_count": 62,
     "metadata": {},
     "output_type": "execute_result"
    }
   ],
   "source": [
    "## so we can use the timestamp methods\n",
    "\n",
    "df1.Date[0].week"
   ]
  },
  {
   "cell_type": "code",
   "execution_count": 64,
   "metadata": {},
   "outputs": [
    {
     "ename": "AttributeError",
     "evalue": "'Series' object has no attribute 'day_name'",
     "output_type": "error",
     "traceback": [
      "\u001b[0;31m---------------------------------------------------------------------------\u001b[0m",
      "\u001b[0;31mAttributeError\u001b[0m                            Traceback (most recent call last)",
      "\u001b[0;32m<ipython-input-64-7fd5f57afd2a>\u001b[0m in \u001b[0;36m<module>\u001b[0;34m\u001b[0m\n\u001b[1;32m      1\u001b[0m \u001b[0;31m## but if we try to use these methods on all of the series this might not work\u001b[0m\u001b[0;34m\u001b[0m\u001b[0;34m\u001b[0m\u001b[0;34m\u001b[0m\u001b[0m\n\u001b[1;32m      2\u001b[0m \u001b[0;34m\u001b[0m\u001b[0m\n\u001b[0;32m----> 3\u001b[0;31m \u001b[0mdf1\u001b[0m\u001b[0;34m.\u001b[0m\u001b[0mDate\u001b[0m\u001b[0;34m.\u001b[0m\u001b[0mday_name\u001b[0m\u001b[0;34m(\u001b[0m\u001b[0;34m)\u001b[0m\u001b[0;34m\u001b[0m\u001b[0;34m\u001b[0m\u001b[0m\n\u001b[0m",
      "\u001b[0;32m~/opt/anaconda3/lib/python3.8/site-packages/pandas/core/generic.py\u001b[0m in \u001b[0;36m__getattr__\u001b[0;34m(self, name)\u001b[0m\n\u001b[1;32m   5463\u001b[0m             \u001b[0;32mif\u001b[0m \u001b[0mself\u001b[0m\u001b[0;34m.\u001b[0m\u001b[0m_info_axis\u001b[0m\u001b[0;34m.\u001b[0m\u001b[0m_can_hold_identifiers_and_holds_name\u001b[0m\u001b[0;34m(\u001b[0m\u001b[0mname\u001b[0m\u001b[0;34m)\u001b[0m\u001b[0;34m:\u001b[0m\u001b[0;34m\u001b[0m\u001b[0;34m\u001b[0m\u001b[0m\n\u001b[1;32m   5464\u001b[0m                 \u001b[0;32mreturn\u001b[0m \u001b[0mself\u001b[0m\u001b[0;34m[\u001b[0m\u001b[0mname\u001b[0m\u001b[0;34m]\u001b[0m\u001b[0;34m\u001b[0m\u001b[0;34m\u001b[0m\u001b[0m\n\u001b[0;32m-> 5465\u001b[0;31m             \u001b[0;32mreturn\u001b[0m \u001b[0mobject\u001b[0m\u001b[0;34m.\u001b[0m\u001b[0m__getattribute__\u001b[0m\u001b[0;34m(\u001b[0m\u001b[0mself\u001b[0m\u001b[0;34m,\u001b[0m \u001b[0mname\u001b[0m\u001b[0;34m)\u001b[0m\u001b[0;34m\u001b[0m\u001b[0;34m\u001b[0m\u001b[0m\n\u001b[0m\u001b[1;32m   5466\u001b[0m \u001b[0;34m\u001b[0m\u001b[0m\n\u001b[1;32m   5467\u001b[0m     \u001b[0;32mdef\u001b[0m \u001b[0m__setattr__\u001b[0m\u001b[0;34m(\u001b[0m\u001b[0mself\u001b[0m\u001b[0;34m,\u001b[0m \u001b[0mname\u001b[0m\u001b[0;34m:\u001b[0m \u001b[0mstr\u001b[0m\u001b[0;34m,\u001b[0m \u001b[0mvalue\u001b[0m\u001b[0;34m)\u001b[0m \u001b[0;34m->\u001b[0m \u001b[0;32mNone\u001b[0m\u001b[0;34m:\u001b[0m\u001b[0;34m\u001b[0m\u001b[0;34m\u001b[0m\u001b[0m\n",
      "\u001b[0;31mAttributeError\u001b[0m: 'Series' object has no attribute 'day_name'"
     ]
    }
   ],
   "source": [
    "## but if we try to use these methods on all of the series this might not work\n",
    "\n",
    "df1.Date.day_name()"
   ]
  },
  {
   "cell_type": "code",
   "execution_count": 65,
   "metadata": {
    "executionInfo": {
     "elapsed": 227,
     "status": "ok",
     "timestamp": 1635460749078,
     "user": {
      "displayName": "Murat Guner",
      "photoUrl": "https://lh3.googleusercontent.com/a/default-user=s64",
      "userId": "07219518426737849646"
     },
     "user_tz": 240
    },
    "id": "0jVMUrTToElt"
   },
   "outputs": [
    {
     "data": {
      "text/plain": [
       "0          Friday\n",
       "1          Friday\n",
       "2          Friday\n",
       "3          Friday\n",
       "4          Friday\n",
       "           ...   \n",
       "23669    Saturday\n",
       "23670    Saturday\n",
       "23671    Saturday\n",
       "23672    Saturday\n",
       "23673    Saturday\n",
       "Name: Date, Length: 23674, dtype: object"
      ]
     },
     "execution_count": 65,
     "metadata": {},
     "output_type": "execute_result"
    }
   ],
   "source": [
    "## Instead we should use .dt class to be able to access datetime methods.\n",
    "\n",
    "df1.Date.dt.day_name()"
   ]
  },
  {
   "cell_type": "code",
   "execution_count": 68,
   "metadata": {},
   "outputs": [
    {
     "data": {
      "text/plain": [
       "Timestamp('2017-07-01 11:00:00')"
      ]
     },
     "execution_count": 68,
     "metadata": {},
     "output_type": "execute_result"
    }
   ],
   "source": [
    "## check min of date\n",
    "\n",
    "df1.Date.min()"
   ]
  },
  {
   "cell_type": "code",
   "execution_count": null,
   "metadata": {},
   "outputs": [],
   "source": [
    "## check max of date\n",
    "\n",
    "df1.Date.max()"
   ]
  },
  {
   "cell_type": "code",
   "execution_count": 76,
   "metadata": {},
   "outputs": [
    {
     "data": {
      "text/plain": [
       "Timestamp('2017-07-01 11:00:00')"
      ]
     },
     "execution_count": 76,
     "metadata": {},
     "output_type": "execute_result"
    }
   ],
   "source": [
    "# df1.Date.dt.month_name()\n",
    "df1.Date.min()"
   ]
  },
  {
   "cell_type": "code",
   "execution_count": 78,
   "metadata": {
    "executionInfo": {
     "elapsed": 164,
     "status": "ok",
     "timestamp": 1635460769479,
     "user": {
      "displayName": "Murat Guner",
      "photoUrl": "https://lh3.googleusercontent.com/a/default-user=s64",
      "userId": "07219518426737849646"
     },
     "user_tz": 240
    },
    "id": "FSaxukFHo0A3"
   },
   "outputs": [
    {
     "data": {
      "text/plain": [
       "Timedelta('986 days 09:00:00')"
      ]
     },
     "execution_count": 78,
     "metadata": {},
     "output_type": "execute_result"
    }
   ],
   "source": [
    "## note that the result is timedelta type\n",
    "\n",
    "dt = df1.Date.max() - df1.Date.min()\n",
    "# dir(dt)\n",
    "dt"
   ]
  },
  {
   "cell_type": "code",
   "execution_count": 79,
   "metadata": {},
   "outputs": [
    {
     "data": {
      "text/plain": [
       "986"
      ]
     },
     "execution_count": 79,
     "metadata": {},
     "output_type": "execute_result"
    }
   ],
   "source": [
    "dt.days"
   ]
  },
  {
   "cell_type": "markdown",
   "metadata": {
    "id": "45zS_s5oBmjT"
   },
   "source": [
    "\n",
    "__TimeDeltas__"
   ]
  },
  {
   "cell_type": "code",
   "execution_count": 85,
   "metadata": {
    "executionInfo": {
     "elapsed": 172,
     "status": "ok",
     "timestamp": 1635460780557,
     "user": {
      "displayName": "Murat Guner",
      "photoUrl": "https://lh3.googleusercontent.com/a/default-user=s64",
      "userId": "07219518426737849646"
     },
     "user_tz": 240
    },
    "id": "RD64rS-rDJ_F"
   },
   "outputs": [
    {
     "data": {
      "text/plain": [
       "DatetimeIndex(['2022-11-03 20:19:28.117431', '2022-11-04 20:19:28.117431',\n",
       "               '2022-11-05 20:19:28.117431', '2022-11-06 20:19:28.117431',\n",
       "               '2022-11-07 20:19:28.117431', '2022-11-08 20:19:28.117431',\n",
       "               '2022-11-09 20:19:28.117431', '2022-11-10 20:19:28.117431',\n",
       "               '2022-11-11 20:19:28.117431', '2022-11-12 20:19:28.117431'],\n",
       "              dtype='datetime64[ns]', freq=None)"
      ]
     },
     "execution_count": 85,
     "metadata": {},
     "output_type": "execute_result"
    }
   ],
   "source": [
    "## note that we can still use vectorized operations\n",
    "\n",
    "today = datetime.now()\n",
    "# today\n",
    "today + pd.to_timedelta(np.arange(10), unit='D')"
   ]
  },
  {
   "cell_type": "code",
   "execution_count": null,
   "metadata": {
    "executionInfo": {
     "elapsed": 141,
     "status": "ok",
     "timestamp": 1635460785584,
     "user": {
      "displayName": "Murat Guner",
      "photoUrl": "https://lh3.googleusercontent.com/a/default-user=s64",
      "userId": "07219518426737849646"
     },
     "user_tz": 240
    },
    "id": "8475p8FjEKAf"
   },
   "outputs": [],
   "source": []
  },
  {
   "cell_type": "code",
   "execution_count": 86,
   "metadata": {
    "executionInfo": {
     "elapsed": 175,
     "status": "ok",
     "timestamp": 1635460797306,
     "user": {
      "displayName": "Murat Guner",
      "photoUrl": "https://lh3.googleusercontent.com/a/default-user=s64",
      "userId": "07219518426737849646"
     },
     "user_tz": 240
    },
    "id": "ooCN1icwg3yf"
   },
   "outputs": [
    {
     "data": {
      "text/plain": [
       "0       986 days 09:00:00\n",
       "1       986 days 08:00:00\n",
       "2       986 days 07:00:00\n",
       "3       986 days 06:00:00\n",
       "4       986 days 05:00:00\n",
       "               ...       \n",
       "23669     0 days 04:00:00\n",
       "23670     0 days 03:00:00\n",
       "23671     0 days 02:00:00\n",
       "23672     0 days 01:00:00\n",
       "23673     0 days 00:00:00\n",
       "Name: Date, Length: 23674, dtype: timedelta64[ns]"
      ]
     },
     "execution_count": 86,
     "metadata": {},
     "output_type": "execute_result"
    }
   ],
   "source": [
    "## note again that we get timedelta objects when we check the difference of two timestamps\n",
    "delta = df1.Date - df1.Date.min()\n",
    "delta"
   ]
  },
  {
   "cell_type": "code",
   "execution_count": 88,
   "metadata": {},
   "outputs": [],
   "source": [
    "# help(delta[0])\n",
    "# delta[0].seconds"
   ]
  },
  {
   "cell_type": "markdown",
   "metadata": {
    "id": "HObBts9ADWm-"
   },
   "source": [
    "### Indexing by time"
   ]
  },
  {
   "cell_type": "markdown",
   "metadata": {
    "id": "37fkykn7rL_o"
   },
   "source": [
    "When you are working with time data it is generally good idea to index your dataframe with the time."
   ]
  },
  {
   "cell_type": "code",
   "execution_count": 93,
   "metadata": {},
   "outputs": [
    {
     "data": {
      "text/html": [
       "<div>\n",
       "<style scoped>\n",
       "    .dataframe tbody tr th:only-of-type {\n",
       "        vertical-align: middle;\n",
       "    }\n",
       "\n",
       "    .dataframe tbody tr th {\n",
       "        vertical-align: top;\n",
       "    }\n",
       "\n",
       "    .dataframe thead th {\n",
       "        text-align: right;\n",
       "    }\n",
       "</style>\n",
       "<table border=\"1\" class=\"dataframe\">\n",
       "  <thead>\n",
       "    <tr style=\"text-align: right;\">\n",
       "      <th></th>\n",
       "      <th>Date</th>\n",
       "      <th>Symbol</th>\n",
       "      <th>Open</th>\n",
       "      <th>High</th>\n",
       "      <th>Low</th>\n",
       "      <th>Close</th>\n",
       "      <th>Volume</th>\n",
       "    </tr>\n",
       "  </thead>\n",
       "  <tbody>\n",
       "    <tr>\n",
       "      <th>0</th>\n",
       "      <td>2020-03-13 20:00:00</td>\n",
       "      <td>ETHUSD</td>\n",
       "      <td>129.94</td>\n",
       "      <td>131.82</td>\n",
       "      <td>126.87</td>\n",
       "      <td>128.71</td>\n",
       "      <td>1940673.93</td>\n",
       "    </tr>\n",
       "    <tr>\n",
       "      <th>1</th>\n",
       "      <td>2020-03-13 19:00:00</td>\n",
       "      <td>ETHUSD</td>\n",
       "      <td>119.51</td>\n",
       "      <td>132.02</td>\n",
       "      <td>117.10</td>\n",
       "      <td>129.94</td>\n",
       "      <td>7579741.09</td>\n",
       "    </tr>\n",
       "    <tr>\n",
       "      <th>2</th>\n",
       "      <td>2020-03-13 18:00:00</td>\n",
       "      <td>ETHUSD</td>\n",
       "      <td>124.47</td>\n",
       "      <td>124.85</td>\n",
       "      <td>115.50</td>\n",
       "      <td>119.51</td>\n",
       "      <td>4898735.81</td>\n",
       "    </tr>\n",
       "    <tr>\n",
       "      <th>3</th>\n",
       "      <td>2020-03-13 17:00:00</td>\n",
       "      <td>ETHUSD</td>\n",
       "      <td>124.08</td>\n",
       "      <td>127.42</td>\n",
       "      <td>121.63</td>\n",
       "      <td>124.47</td>\n",
       "      <td>2753450.92</td>\n",
       "    </tr>\n",
       "    <tr>\n",
       "      <th>4</th>\n",
       "      <td>2020-03-13 16:00:00</td>\n",
       "      <td>ETHUSD</td>\n",
       "      <td>124.85</td>\n",
       "      <td>129.51</td>\n",
       "      <td>120.17</td>\n",
       "      <td>124.08</td>\n",
       "      <td>4461424.71</td>\n",
       "    </tr>\n",
       "  </tbody>\n",
       "</table>\n",
       "</div>"
      ],
      "text/plain": [
       "                 Date  Symbol    Open    High     Low   Close      Volume\n",
       "0 2020-03-13 20:00:00  ETHUSD  129.94  131.82  126.87  128.71  1940673.93\n",
       "1 2020-03-13 19:00:00  ETHUSD  119.51  132.02  117.10  129.94  7579741.09\n",
       "2 2020-03-13 18:00:00  ETHUSD  124.47  124.85  115.50  119.51  4898735.81\n",
       "3 2020-03-13 17:00:00  ETHUSD  124.08  127.42  121.63  124.47  2753450.92\n",
       "4 2020-03-13 16:00:00  ETHUSD  124.85  129.51  120.17  124.08  4461424.71"
      ]
     },
     "execution_count": 93,
     "metadata": {},
     "output_type": "execute_result"
    }
   ],
   "source": [
    "df1.head()"
   ]
  },
  {
   "cell_type": "code",
   "execution_count": 92,
   "metadata": {},
   "outputs": [
    {
     "data": {
      "text/plain": [
       "Date      datetime64[ns]\n",
       "Symbol            object\n",
       "Open             float64\n",
       "High             float64\n",
       "Low              float64\n",
       "Close            float64\n",
       "Volume           float64\n",
       "dtype: object"
      ]
     },
     "execution_count": 92,
     "metadata": {},
     "output_type": "execute_result"
    }
   ],
   "source": [
    "df1.dtypes"
   ]
  },
  {
   "cell_type": "code",
   "execution_count": 94,
   "metadata": {
    "executionInfo": {
     "elapsed": 183,
     "status": "ok",
     "timestamp": 1635460812748,
     "user": {
      "displayName": "Murat Guner",
      "photoUrl": "https://lh3.googleusercontent.com/a/default-user=s64",
      "userId": "07219518426737849646"
     },
     "user_tz": 240
    },
    "id": "dvznxc8JEhKE"
   },
   "outputs": [],
   "source": [
    "## let's set the index key as 'Date' column\n",
    "\n",
    "df1.set_index(keys='Date', inplace=True)"
   ]
  },
  {
   "cell_type": "code",
   "execution_count": 95,
   "metadata": {},
   "outputs": [
    {
     "data": {
      "text/plain": [
       "Symbol     object\n",
       "Open      float64\n",
       "High      float64\n",
       "Low       float64\n",
       "Close     float64\n",
       "Volume    float64\n",
       "dtype: object"
      ]
     },
     "execution_count": 95,
     "metadata": {},
     "output_type": "execute_result"
    }
   ],
   "source": [
    "df1.dtypes"
   ]
  },
  {
   "cell_type": "code",
   "execution_count": 96,
   "metadata": {},
   "outputs": [
    {
     "data": {
      "text/html": [
       "<div>\n",
       "<style scoped>\n",
       "    .dataframe tbody tr th:only-of-type {\n",
       "        vertical-align: middle;\n",
       "    }\n",
       "\n",
       "    .dataframe tbody tr th {\n",
       "        vertical-align: top;\n",
       "    }\n",
       "\n",
       "    .dataframe thead th {\n",
       "        text-align: right;\n",
       "    }\n",
       "</style>\n",
       "<table border=\"1\" class=\"dataframe\">\n",
       "  <thead>\n",
       "    <tr style=\"text-align: right;\">\n",
       "      <th></th>\n",
       "      <th>Symbol</th>\n",
       "      <th>Open</th>\n",
       "      <th>High</th>\n",
       "      <th>Low</th>\n",
       "      <th>Close</th>\n",
       "      <th>Volume</th>\n",
       "    </tr>\n",
       "    <tr>\n",
       "      <th>Date</th>\n",
       "      <th></th>\n",
       "      <th></th>\n",
       "      <th></th>\n",
       "      <th></th>\n",
       "      <th></th>\n",
       "      <th></th>\n",
       "    </tr>\n",
       "  </thead>\n",
       "  <tbody>\n",
       "    <tr>\n",
       "      <th>2020-03-13 20:00:00</th>\n",
       "      <td>ETHUSD</td>\n",
       "      <td>129.94</td>\n",
       "      <td>131.82</td>\n",
       "      <td>126.87</td>\n",
       "      <td>128.71</td>\n",
       "      <td>1940673.93</td>\n",
       "    </tr>\n",
       "    <tr>\n",
       "      <th>2020-03-13 19:00:00</th>\n",
       "      <td>ETHUSD</td>\n",
       "      <td>119.51</td>\n",
       "      <td>132.02</td>\n",
       "      <td>117.10</td>\n",
       "      <td>129.94</td>\n",
       "      <td>7579741.09</td>\n",
       "    </tr>\n",
       "    <tr>\n",
       "      <th>2020-03-13 18:00:00</th>\n",
       "      <td>ETHUSD</td>\n",
       "      <td>124.47</td>\n",
       "      <td>124.85</td>\n",
       "      <td>115.50</td>\n",
       "      <td>119.51</td>\n",
       "      <td>4898735.81</td>\n",
       "    </tr>\n",
       "    <tr>\n",
       "      <th>2020-03-13 17:00:00</th>\n",
       "      <td>ETHUSD</td>\n",
       "      <td>124.08</td>\n",
       "      <td>127.42</td>\n",
       "      <td>121.63</td>\n",
       "      <td>124.47</td>\n",
       "      <td>2753450.92</td>\n",
       "    </tr>\n",
       "    <tr>\n",
       "      <th>2020-03-13 16:00:00</th>\n",
       "      <td>ETHUSD</td>\n",
       "      <td>124.85</td>\n",
       "      <td>129.51</td>\n",
       "      <td>120.17</td>\n",
       "      <td>124.08</td>\n",
       "      <td>4461424.71</td>\n",
       "    </tr>\n",
       "  </tbody>\n",
       "</table>\n",
       "</div>"
      ],
      "text/plain": [
       "                     Symbol    Open    High     Low   Close      Volume\n",
       "Date                                                                   \n",
       "2020-03-13 20:00:00  ETHUSD  129.94  131.82  126.87  128.71  1940673.93\n",
       "2020-03-13 19:00:00  ETHUSD  119.51  132.02  117.10  129.94  7579741.09\n",
       "2020-03-13 18:00:00  ETHUSD  124.47  124.85  115.50  119.51  4898735.81\n",
       "2020-03-13 17:00:00  ETHUSD  124.08  127.42  121.63  124.47  2753450.92\n",
       "2020-03-13 16:00:00  ETHUSD  124.85  129.51  120.17  124.08  4461424.71"
      ]
     },
     "execution_count": 96,
     "metadata": {},
     "output_type": "execute_result"
    }
   ],
   "source": [
    "df1.head()\n",
    "\n",
    "# type(df1.index) "
   ]
  },
  {
   "cell_type": "code",
   "execution_count": 97,
   "metadata": {},
   "outputs": [
    {
     "data": {
      "text/plain": [
       "DatetimeIndex(['2020-03-13 20:00:00', '2020-03-13 19:00:00',\n",
       "               '2020-03-13 18:00:00', '2020-03-13 17:00:00',\n",
       "               '2020-03-13 16:00:00'],\n",
       "              dtype='datetime64[ns]', name='Date', freq=None)"
      ]
     },
     "execution_count": 97,
     "metadata": {},
     "output_type": "execute_result"
    }
   ],
   "source": [
    "df1.index[:5]"
   ]
  },
  {
   "cell_type": "code",
   "execution_count": 101,
   "metadata": {
    "colab": {
     "base_uri": "https://localhost:8080/"
    },
    "executionInfo": {
     "elapsed": 190,
     "status": "ok",
     "timestamp": 1635460817302,
     "user": {
      "displayName": "Murat Guner",
      "photoUrl": "https://lh3.googleusercontent.com/a/default-user=s64",
      "userId": "07219518426737849646"
     },
     "user_tz": 240
    },
    "id": "OEjNRNKUE0Tr",
    "outputId": "45dcb69c-e9da-4dde-d829-653e62520477"
   },
   "outputs": [],
   "source": [
    "# ## another way of indexing a dataframe with DatetimeIndex is \n",
    "# ## when you create the dataframe\n",
    "# index = pd.DatetimeIndex(['2018-11-24', '2019-9-25', '2020-10-21', '2021-10-27', '2021-10-28'])\n",
    "\n",
    "# data = pd.Series([2,3,5,7,11], index= index)\n",
    "\n",
    "# data"
   ]
  },
  {
   "cell_type": "code",
   "execution_count": 102,
   "metadata": {},
   "outputs": [],
   "source": [
    "df1.sort_index(inplace=True)"
   ]
  },
  {
   "cell_type": "code",
   "execution_count": 108,
   "metadata": {
    "executionInfo": {
     "elapsed": 145,
     "status": "ok",
     "timestamp": 1635460825410,
     "user": {
      "displayName": "Murat Guner",
      "photoUrl": "https://lh3.googleusercontent.com/a/default-user=s64",
      "userId": "07219518426737849646"
     },
     "user_tz": 240
    },
    "id": "MTuH_IoPFFsB"
   },
   "outputs": [
    {
     "data": {
      "text/html": [
       "<div>\n",
       "<style scoped>\n",
       "    .dataframe tbody tr th:only-of-type {\n",
       "        vertical-align: middle;\n",
       "    }\n",
       "\n",
       "    .dataframe tbody tr th {\n",
       "        vertical-align: top;\n",
       "    }\n",
       "\n",
       "    .dataframe thead th {\n",
       "        text-align: right;\n",
       "    }\n",
       "</style>\n",
       "<table border=\"1\" class=\"dataframe\">\n",
       "  <thead>\n",
       "    <tr style=\"text-align: right;\">\n",
       "      <th></th>\n",
       "      <th>Symbol</th>\n",
       "      <th>Open</th>\n",
       "      <th>High</th>\n",
       "      <th>Low</th>\n",
       "      <th>Close</th>\n",
       "      <th>Volume</th>\n",
       "    </tr>\n",
       "    <tr>\n",
       "      <th>Date</th>\n",
       "      <th></th>\n",
       "      <th></th>\n",
       "      <th></th>\n",
       "      <th></th>\n",
       "      <th></th>\n",
       "      <th></th>\n",
       "    </tr>\n",
       "  </thead>\n",
       "  <tbody>\n",
       "    <tr>\n",
       "      <th>2020-01-01 00:00:00</th>\n",
       "      <td>ETHUSD</td>\n",
       "      <td>128.54</td>\n",
       "      <td>128.54</td>\n",
       "      <td>128.12</td>\n",
       "      <td>128.34</td>\n",
       "      <td>245119.91</td>\n",
       "    </tr>\n",
       "    <tr>\n",
       "      <th>2020-01-01 01:00:00</th>\n",
       "      <td>ETHUSD</td>\n",
       "      <td>128.34</td>\n",
       "      <td>130.14</td>\n",
       "      <td>128.32</td>\n",
       "      <td>130.14</td>\n",
       "      <td>635419.40</td>\n",
       "    </tr>\n",
       "    <tr>\n",
       "      <th>2020-01-01 02:00:00</th>\n",
       "      <td>ETHUSD</td>\n",
       "      <td>130.14</td>\n",
       "      <td>130.50</td>\n",
       "      <td>129.91</td>\n",
       "      <td>130.37</td>\n",
       "      <td>396315.72</td>\n",
       "    </tr>\n",
       "    <tr>\n",
       "      <th>2020-01-01 03:00:00</th>\n",
       "      <td>ETHUSD</td>\n",
       "      <td>130.37</td>\n",
       "      <td>130.44</td>\n",
       "      <td>129.38</td>\n",
       "      <td>129.57</td>\n",
       "      <td>496704.23</td>\n",
       "    </tr>\n",
       "    <tr>\n",
       "      <th>2020-01-01 04:00:00</th>\n",
       "      <td>ETHUSD</td>\n",
       "      <td>129.57</td>\n",
       "      <td>130.00</td>\n",
       "      <td>129.50</td>\n",
       "      <td>129.56</td>\n",
       "      <td>702786.82</td>\n",
       "    </tr>\n",
       "    <tr>\n",
       "      <th>2020-01-01 05:00:00</th>\n",
       "      <td>ETHUSD</td>\n",
       "      <td>129.56</td>\n",
       "      <td>129.94</td>\n",
       "      <td>129.47</td>\n",
       "      <td>129.83</td>\n",
       "      <td>232163.70</td>\n",
       "    </tr>\n",
       "    <tr>\n",
       "      <th>2020-01-01 06:00:00</th>\n",
       "      <td>ETHUSD</td>\n",
       "      <td>129.83</td>\n",
       "      <td>130.25</td>\n",
       "      <td>129.82</td>\n",
       "      <td>130.00</td>\n",
       "      <td>118328.64</td>\n",
       "    </tr>\n",
       "    <tr>\n",
       "      <th>2020-01-01 07:00:00</th>\n",
       "      <td>ETHUSD</td>\n",
       "      <td>130.00</td>\n",
       "      <td>130.25</td>\n",
       "      <td>129.80</td>\n",
       "      <td>129.87</td>\n",
       "      <td>112620.14</td>\n",
       "    </tr>\n",
       "    <tr>\n",
       "      <th>2020-01-01 08:00:00</th>\n",
       "      <td>ETHUSD</td>\n",
       "      <td>129.87</td>\n",
       "      <td>130.01</td>\n",
       "      <td>129.61</td>\n",
       "      <td>130.01</td>\n",
       "      <td>134231.17</td>\n",
       "    </tr>\n",
       "    <tr>\n",
       "      <th>2020-01-01 09:00:00</th>\n",
       "      <td>ETHUSD</td>\n",
       "      <td>130.01</td>\n",
       "      <td>130.22</td>\n",
       "      <td>129.96</td>\n",
       "      <td>129.98</td>\n",
       "      <td>108011.54</td>\n",
       "    </tr>\n",
       "    <tr>\n",
       "      <th>2020-01-01 10:00:00</th>\n",
       "      <td>ETHUSD</td>\n",
       "      <td>129.98</td>\n",
       "      <td>130.33</td>\n",
       "      <td>129.88</td>\n",
       "      <td>130.33</td>\n",
       "      <td>73422.13</td>\n",
       "    </tr>\n",
       "    <tr>\n",
       "      <th>2020-01-01 11:00:00</th>\n",
       "      <td>ETHUSD</td>\n",
       "      <td>130.33</td>\n",
       "      <td>131.42</td>\n",
       "      <td>130.23</td>\n",
       "      <td>130.36</td>\n",
       "      <td>243130.52</td>\n",
       "    </tr>\n",
       "    <tr>\n",
       "      <th>2020-01-01 12:00:00</th>\n",
       "      <td>ETHUSD</td>\n",
       "      <td>130.36</td>\n",
       "      <td>131.31</td>\n",
       "      <td>130.36</td>\n",
       "      <td>131.28</td>\n",
       "      <td>221073.63</td>\n",
       "    </tr>\n",
       "    <tr>\n",
       "      <th>2020-01-01 13:00:00</th>\n",
       "      <td>ETHUSD</td>\n",
       "      <td>131.28</td>\n",
       "      <td>132.08</td>\n",
       "      <td>131.04</td>\n",
       "      <td>131.41</td>\n",
       "      <td>569499.97</td>\n",
       "    </tr>\n",
       "    <tr>\n",
       "      <th>2020-01-01 14:00:00</th>\n",
       "      <td>ETHUSD</td>\n",
       "      <td>131.41</td>\n",
       "      <td>132.05</td>\n",
       "      <td>130.93</td>\n",
       "      <td>131.66</td>\n",
       "      <td>143192.12</td>\n",
       "    </tr>\n",
       "    <tr>\n",
       "      <th>2020-01-01 15:00:00</th>\n",
       "      <td>ETHUSD</td>\n",
       "      <td>131.66</td>\n",
       "      <td>132.15</td>\n",
       "      <td>131.29</td>\n",
       "      <td>131.75</td>\n",
       "      <td>168230.71</td>\n",
       "    </tr>\n",
       "    <tr>\n",
       "      <th>2020-01-01 16:00:00</th>\n",
       "      <td>ETHUSD</td>\n",
       "      <td>131.75</td>\n",
       "      <td>132.56</td>\n",
       "      <td>131.51</td>\n",
       "      <td>132.55</td>\n",
       "      <td>270425.94</td>\n",
       "    </tr>\n",
       "    <tr>\n",
       "      <th>2020-01-01 17:00:00</th>\n",
       "      <td>ETHUSD</td>\n",
       "      <td>132.55</td>\n",
       "      <td>132.68</td>\n",
       "      <td>131.94</td>\n",
       "      <td>131.97</td>\n",
       "      <td>244271.72</td>\n",
       "    </tr>\n",
       "    <tr>\n",
       "      <th>2020-01-01 18:00:00</th>\n",
       "      <td>ETHUSD</td>\n",
       "      <td>131.97</td>\n",
       "      <td>132.14</td>\n",
       "      <td>131.24</td>\n",
       "      <td>131.64</td>\n",
       "      <td>266693.21</td>\n",
       "    </tr>\n",
       "    <tr>\n",
       "      <th>2020-01-01 19:00:00</th>\n",
       "      <td>ETHUSD</td>\n",
       "      <td>131.64</td>\n",
       "      <td>131.72</td>\n",
       "      <td>131.15</td>\n",
       "      <td>131.34</td>\n",
       "      <td>167992.84</td>\n",
       "    </tr>\n",
       "    <tr>\n",
       "      <th>2020-01-01 20:00:00</th>\n",
       "      <td>ETHUSD</td>\n",
       "      <td>131.34</td>\n",
       "      <td>131.87</td>\n",
       "      <td>131.23</td>\n",
       "      <td>131.73</td>\n",
       "      <td>162346.84</td>\n",
       "    </tr>\n",
       "    <tr>\n",
       "      <th>2020-01-01 21:00:00</th>\n",
       "      <td>ETHUSD</td>\n",
       "      <td>131.73</td>\n",
       "      <td>131.99</td>\n",
       "      <td>130.97</td>\n",
       "      <td>131.41</td>\n",
       "      <td>1168999.08</td>\n",
       "    </tr>\n",
       "    <tr>\n",
       "      <th>2020-01-01 22:00:00</th>\n",
       "      <td>ETHUSD</td>\n",
       "      <td>131.41</td>\n",
       "      <td>131.41</td>\n",
       "      <td>129.36</td>\n",
       "      <td>129.77</td>\n",
       "      <td>411940.73</td>\n",
       "    </tr>\n",
       "    <tr>\n",
       "      <th>2020-01-01 23:00:00</th>\n",
       "      <td>ETHUSD</td>\n",
       "      <td>129.77</td>\n",
       "      <td>130.27</td>\n",
       "      <td>129.24</td>\n",
       "      <td>130.19</td>\n",
       "      <td>215362.64</td>\n",
       "    </tr>\n",
       "    <tr>\n",
       "      <th>2020-01-02 00:00:00</th>\n",
       "      <td>ETHUSD</td>\n",
       "      <td>130.19</td>\n",
       "      <td>130.19</td>\n",
       "      <td>129.67</td>\n",
       "      <td>130.00</td>\n",
       "      <td>300068.67</td>\n",
       "    </tr>\n",
       "    <tr>\n",
       "      <th>2020-01-02 01:00:00</th>\n",
       "      <td>ETHUSD</td>\n",
       "      <td>130.00</td>\n",
       "      <td>130.00</td>\n",
       "      <td>129.69</td>\n",
       "      <td>129.76</td>\n",
       "      <td>106453.64</td>\n",
       "    </tr>\n",
       "    <tr>\n",
       "      <th>2020-01-02 02:00:00</th>\n",
       "      <td>ETHUSD</td>\n",
       "      <td>129.76</td>\n",
       "      <td>129.76</td>\n",
       "      <td>128.28</td>\n",
       "      <td>129.21</td>\n",
       "      <td>318139.90</td>\n",
       "    </tr>\n",
       "    <tr>\n",
       "      <th>2020-01-02 03:00:00</th>\n",
       "      <td>ETHUSD</td>\n",
       "      <td>129.21</td>\n",
       "      <td>129.21</td>\n",
       "      <td>128.36</td>\n",
       "      <td>128.56</td>\n",
       "      <td>158474.20</td>\n",
       "    </tr>\n",
       "    <tr>\n",
       "      <th>2020-01-02 04:00:00</th>\n",
       "      <td>ETHUSD</td>\n",
       "      <td>128.56</td>\n",
       "      <td>129.25</td>\n",
       "      <td>128.21</td>\n",
       "      <td>129.12</td>\n",
       "      <td>154903.92</td>\n",
       "    </tr>\n",
       "    <tr>\n",
       "      <th>2020-01-02 05:00:00</th>\n",
       "      <td>ETHUSD</td>\n",
       "      <td>129.12</td>\n",
       "      <td>129.19</td>\n",
       "      <td>128.78</td>\n",
       "      <td>129.08</td>\n",
       "      <td>85945.18</td>\n",
       "    </tr>\n",
       "    <tr>\n",
       "      <th>2020-01-02 06:00:00</th>\n",
       "      <td>ETHUSD</td>\n",
       "      <td>129.08</td>\n",
       "      <td>129.44</td>\n",
       "      <td>128.59</td>\n",
       "      <td>128.78</td>\n",
       "      <td>89164.04</td>\n",
       "    </tr>\n",
       "    <tr>\n",
       "      <th>2020-01-02 07:00:00</th>\n",
       "      <td>ETHUSD</td>\n",
       "      <td>128.78</td>\n",
       "      <td>129.07</td>\n",
       "      <td>128.41</td>\n",
       "      <td>128.65</td>\n",
       "      <td>67719.88</td>\n",
       "    </tr>\n",
       "    <tr>\n",
       "      <th>2020-01-02 08:00:00</th>\n",
       "      <td>ETHUSD</td>\n",
       "      <td>128.65</td>\n",
       "      <td>129.70</td>\n",
       "      <td>128.61</td>\n",
       "      <td>129.68</td>\n",
       "      <td>162965.26</td>\n",
       "    </tr>\n",
       "    <tr>\n",
       "      <th>2020-01-02 09:00:00</th>\n",
       "      <td>ETHUSD</td>\n",
       "      <td>129.68</td>\n",
       "      <td>129.68</td>\n",
       "      <td>129.07</td>\n",
       "      <td>129.46</td>\n",
       "      <td>52318.24</td>\n",
       "    </tr>\n",
       "    <tr>\n",
       "      <th>2020-01-02 10:00:00</th>\n",
       "      <td>ETHUSD</td>\n",
       "      <td>129.46</td>\n",
       "      <td>129.70</td>\n",
       "      <td>129.28</td>\n",
       "      <td>129.39</td>\n",
       "      <td>133789.86</td>\n",
       "    </tr>\n",
       "    <tr>\n",
       "      <th>2020-01-02 11:00:00</th>\n",
       "      <td>ETHUSD</td>\n",
       "      <td>129.39</td>\n",
       "      <td>129.43</td>\n",
       "      <td>128.97</td>\n",
       "      <td>129.16</td>\n",
       "      <td>74915.26</td>\n",
       "    </tr>\n",
       "    <tr>\n",
       "      <th>2020-01-02 12:00:00</th>\n",
       "      <td>ETHUSD</td>\n",
       "      <td>129.16</td>\n",
       "      <td>129.52</td>\n",
       "      <td>129.06</td>\n",
       "      <td>129.49</td>\n",
       "      <td>90129.50</td>\n",
       "    </tr>\n",
       "    <tr>\n",
       "      <th>2020-01-02 13:00:00</th>\n",
       "      <td>ETHUSD</td>\n",
       "      <td>129.49</td>\n",
       "      <td>129.53</td>\n",
       "      <td>128.45</td>\n",
       "      <td>128.97</td>\n",
       "      <td>167598.12</td>\n",
       "    </tr>\n",
       "    <tr>\n",
       "      <th>2020-01-02 14:00:00</th>\n",
       "      <td>ETHUSD</td>\n",
       "      <td>128.97</td>\n",
       "      <td>129.45</td>\n",
       "      <td>128.81</td>\n",
       "      <td>129.03</td>\n",
       "      <td>187305.65</td>\n",
       "    </tr>\n",
       "    <tr>\n",
       "      <th>2020-01-02 15:00:00</th>\n",
       "      <td>ETHUSD</td>\n",
       "      <td>129.03</td>\n",
       "      <td>129.41</td>\n",
       "      <td>128.96</td>\n",
       "      <td>129.26</td>\n",
       "      <td>121606.10</td>\n",
       "    </tr>\n",
       "    <tr>\n",
       "      <th>2020-01-02 16:00:00</th>\n",
       "      <td>ETHUSD</td>\n",
       "      <td>129.26</td>\n",
       "      <td>129.36</td>\n",
       "      <td>126.40</td>\n",
       "      <td>127.22</td>\n",
       "      <td>1405269.58</td>\n",
       "    </tr>\n",
       "    <tr>\n",
       "      <th>2020-01-02 17:00:00</th>\n",
       "      <td>ETHUSD</td>\n",
       "      <td>127.22</td>\n",
       "      <td>127.22</td>\n",
       "      <td>125.83</td>\n",
       "      <td>126.91</td>\n",
       "      <td>995801.05</td>\n",
       "    </tr>\n",
       "    <tr>\n",
       "      <th>2020-01-02 18:00:00</th>\n",
       "      <td>ETHUSD</td>\n",
       "      <td>126.91</td>\n",
       "      <td>127.33</td>\n",
       "      <td>126.66</td>\n",
       "      <td>127.12</td>\n",
       "      <td>239388.89</td>\n",
       "    </tr>\n",
       "    <tr>\n",
       "      <th>2020-01-02 19:00:00</th>\n",
       "      <td>ETHUSD</td>\n",
       "      <td>127.12</td>\n",
       "      <td>127.32</td>\n",
       "      <td>126.68</td>\n",
       "      <td>127.25</td>\n",
       "      <td>240768.51</td>\n",
       "    </tr>\n",
       "    <tr>\n",
       "      <th>2020-01-02 20:00:00</th>\n",
       "      <td>ETHUSD</td>\n",
       "      <td>127.25</td>\n",
       "      <td>127.29</td>\n",
       "      <td>126.51</td>\n",
       "      <td>126.82</td>\n",
       "      <td>393839.56</td>\n",
       "    </tr>\n",
       "    <tr>\n",
       "      <th>2020-01-02 21:00:00</th>\n",
       "      <td>ETHUSD</td>\n",
       "      <td>126.82</td>\n",
       "      <td>127.51</td>\n",
       "      <td>126.75</td>\n",
       "      <td>127.39</td>\n",
       "      <td>303914.28</td>\n",
       "    </tr>\n",
       "    <tr>\n",
       "      <th>2020-01-02 22:00:00</th>\n",
       "      <td>ETHUSD</td>\n",
       "      <td>127.39</td>\n",
       "      <td>127.39</td>\n",
       "      <td>126.84</td>\n",
       "      <td>127.01</td>\n",
       "      <td>249491.76</td>\n",
       "    </tr>\n",
       "    <tr>\n",
       "      <th>2020-01-02 23:00:00</th>\n",
       "      <td>ETHUSD</td>\n",
       "      <td>127.01</td>\n",
       "      <td>127.01</td>\n",
       "      <td>126.59</td>\n",
       "      <td>126.81</td>\n",
       "      <td>115568.25</td>\n",
       "    </tr>\n",
       "  </tbody>\n",
       "</table>\n",
       "</div>"
      ],
      "text/plain": [
       "                     Symbol    Open    High     Low   Close      Volume\n",
       "Date                                                                   \n",
       "2020-01-01 00:00:00  ETHUSD  128.54  128.54  128.12  128.34   245119.91\n",
       "2020-01-01 01:00:00  ETHUSD  128.34  130.14  128.32  130.14   635419.40\n",
       "2020-01-01 02:00:00  ETHUSD  130.14  130.50  129.91  130.37   396315.72\n",
       "2020-01-01 03:00:00  ETHUSD  130.37  130.44  129.38  129.57   496704.23\n",
       "2020-01-01 04:00:00  ETHUSD  129.57  130.00  129.50  129.56   702786.82\n",
       "2020-01-01 05:00:00  ETHUSD  129.56  129.94  129.47  129.83   232163.70\n",
       "2020-01-01 06:00:00  ETHUSD  129.83  130.25  129.82  130.00   118328.64\n",
       "2020-01-01 07:00:00  ETHUSD  130.00  130.25  129.80  129.87   112620.14\n",
       "2020-01-01 08:00:00  ETHUSD  129.87  130.01  129.61  130.01   134231.17\n",
       "2020-01-01 09:00:00  ETHUSD  130.01  130.22  129.96  129.98   108011.54\n",
       "2020-01-01 10:00:00  ETHUSD  129.98  130.33  129.88  130.33    73422.13\n",
       "2020-01-01 11:00:00  ETHUSD  130.33  131.42  130.23  130.36   243130.52\n",
       "2020-01-01 12:00:00  ETHUSD  130.36  131.31  130.36  131.28   221073.63\n",
       "2020-01-01 13:00:00  ETHUSD  131.28  132.08  131.04  131.41   569499.97\n",
       "2020-01-01 14:00:00  ETHUSD  131.41  132.05  130.93  131.66   143192.12\n",
       "2020-01-01 15:00:00  ETHUSD  131.66  132.15  131.29  131.75   168230.71\n",
       "2020-01-01 16:00:00  ETHUSD  131.75  132.56  131.51  132.55   270425.94\n",
       "2020-01-01 17:00:00  ETHUSD  132.55  132.68  131.94  131.97   244271.72\n",
       "2020-01-01 18:00:00  ETHUSD  131.97  132.14  131.24  131.64   266693.21\n",
       "2020-01-01 19:00:00  ETHUSD  131.64  131.72  131.15  131.34   167992.84\n",
       "2020-01-01 20:00:00  ETHUSD  131.34  131.87  131.23  131.73   162346.84\n",
       "2020-01-01 21:00:00  ETHUSD  131.73  131.99  130.97  131.41  1168999.08\n",
       "2020-01-01 22:00:00  ETHUSD  131.41  131.41  129.36  129.77   411940.73\n",
       "2020-01-01 23:00:00  ETHUSD  129.77  130.27  129.24  130.19   215362.64\n",
       "2020-01-02 00:00:00  ETHUSD  130.19  130.19  129.67  130.00   300068.67\n",
       "2020-01-02 01:00:00  ETHUSD  130.00  130.00  129.69  129.76   106453.64\n",
       "2020-01-02 02:00:00  ETHUSD  129.76  129.76  128.28  129.21   318139.90\n",
       "2020-01-02 03:00:00  ETHUSD  129.21  129.21  128.36  128.56   158474.20\n",
       "2020-01-02 04:00:00  ETHUSD  128.56  129.25  128.21  129.12   154903.92\n",
       "2020-01-02 05:00:00  ETHUSD  129.12  129.19  128.78  129.08    85945.18\n",
       "2020-01-02 06:00:00  ETHUSD  129.08  129.44  128.59  128.78    89164.04\n",
       "2020-01-02 07:00:00  ETHUSD  128.78  129.07  128.41  128.65    67719.88\n",
       "2020-01-02 08:00:00  ETHUSD  128.65  129.70  128.61  129.68   162965.26\n",
       "2020-01-02 09:00:00  ETHUSD  129.68  129.68  129.07  129.46    52318.24\n",
       "2020-01-02 10:00:00  ETHUSD  129.46  129.70  129.28  129.39   133789.86\n",
       "2020-01-02 11:00:00  ETHUSD  129.39  129.43  128.97  129.16    74915.26\n",
       "2020-01-02 12:00:00  ETHUSD  129.16  129.52  129.06  129.49    90129.50\n",
       "2020-01-02 13:00:00  ETHUSD  129.49  129.53  128.45  128.97   167598.12\n",
       "2020-01-02 14:00:00  ETHUSD  128.97  129.45  128.81  129.03   187305.65\n",
       "2020-01-02 15:00:00  ETHUSD  129.03  129.41  128.96  129.26   121606.10\n",
       "2020-01-02 16:00:00  ETHUSD  129.26  129.36  126.40  127.22  1405269.58\n",
       "2020-01-02 17:00:00  ETHUSD  127.22  127.22  125.83  126.91   995801.05\n",
       "2020-01-02 18:00:00  ETHUSD  126.91  127.33  126.66  127.12   239388.89\n",
       "2020-01-02 19:00:00  ETHUSD  127.12  127.32  126.68  127.25   240768.51\n",
       "2020-01-02 20:00:00  ETHUSD  127.25  127.29  126.51  126.82   393839.56\n",
       "2020-01-02 21:00:00  ETHUSD  126.82  127.51  126.75  127.39   303914.28\n",
       "2020-01-02 22:00:00  ETHUSD  127.39  127.39  126.84  127.01   249491.76\n",
       "2020-01-02 23:00:00  ETHUSD  127.01  127.01  126.59  126.81   115568.25"
      ]
     },
     "execution_count": 108,
     "metadata": {},
     "output_type": "execute_result"
    }
   ],
   "source": [
    "## Advantage of working with a dataframe index with DatetimeIndex\n",
    "df1.head()\n",
    "## now we can slice our data very easily\n",
    "## let's get all the rows from 2020-01\n",
    "\n",
    "df1['2020-01-01': '2020-01-02']"
   ]
  },
  {
   "cell_type": "markdown",
   "metadata": {
    "id": "qd39egCvfW2e"
   },
   "source": [
    "## Resampling"
   ]
  },
  {
   "cell_type": "markdown",
   "metadata": {
    "id": "nS4Gt_CNximY"
   },
   "source": [
    "### Resample vs Asfreq"
   ]
  },
  {
   "cell_type": "code",
   "execution_count": 109,
   "metadata": {
    "executionInfo": {
     "elapsed": 854,
     "status": "ok",
     "timestamp": 1635460848506,
     "user": {
      "displayName": "Murat Guner",
      "photoUrl": "https://lh3.googleusercontent.com/a/default-user=s64",
      "userId": "07219518426737849646"
     },
     "user_tz": 240
    },
    "id": "bXIWjnMcxANy"
   },
   "outputs": [],
   "source": [
    "%matplotlib inline\n",
    "import matplotlib.pyplot as plt\n",
    "import seaborn"
   ]
  },
  {
   "cell_type": "code",
   "execution_count": 110,
   "metadata": {
    "executionInfo": {
     "elapsed": 174,
     "status": "ok",
     "timestamp": 1635460912103,
     "user": {
      "displayName": "Murat Guner",
      "photoUrl": "https://lh3.googleusercontent.com/a/default-user=s64",
      "userId": "07219518426737849646"
     },
     "user_tz": 240
    },
    "id": "vT5vgZxXxVq2"
   },
   "outputs": [
    {
     "data": {
      "text/plain": [
       "Date\n",
       "2017-07-01 11:00:00    279.98\n",
       "2017-07-01 12:00:00    275.01\n",
       "2017-07-01 13:00:00    274.83\n",
       "2017-07-01 14:00:00    268.79\n",
       "2017-07-01 15:00:00    265.74\n",
       "                        ...  \n",
       "2020-03-13 16:00:00    124.85\n",
       "2020-03-13 17:00:00    124.08\n",
       "2020-03-13 18:00:00    124.47\n",
       "2020-03-13 19:00:00    119.51\n",
       "2020-03-13 20:00:00    129.94\n",
       "Name: Open, Length: 23674, dtype: float64"
      ]
     },
     "execution_count": 110,
     "metadata": {},
     "output_type": "execute_result"
    }
   ],
   "source": [
    "## first make sure that you sort your index \n",
    "df1.sort_index(inplace=True)\n",
    "\n",
    "## let's create a variable open for the opening values of the Ethereum\n",
    "\n",
    "open_val = df1.Open\n",
    "\n",
    "open_val"
   ]
  },
  {
   "cell_type": "markdown",
   "metadata": {
    "id": "1KC1_cYe8A3S"
   },
   "source": [
    "[Date Offsets](https://pandas.pydata.org/pandas-docs/stable/user_guide/timeseries.html#dateoffset-objects)"
   ]
  },
  {
   "cell_type": "code",
   "execution_count": 112,
   "metadata": {
    "executionInfo": {
     "elapsed": 150,
     "status": "ok",
     "timestamp": 1635460937823,
     "user": {
      "displayName": "Murat Guner",
      "photoUrl": "https://lh3.googleusercontent.com/a/default-user=s64",
      "userId": "07219518426737849646"
     },
     "user_tz": 240
    },
    "id": "YZhm4diiET70"
   },
   "outputs": [
    {
     "data": {
      "text/plain": [
       "Date\n",
       "2017-12-29    345.722109\n",
       "2018-12-31    483.887252\n",
       "2019-12-31    180.763469\n",
       "2020-12-31    196.696462\n",
       "Freq: BA-DEC, Name: Open, dtype: float64"
      ]
     },
     "execution_count": 112,
     "metadata": {},
     "output_type": "execute_result"
    }
   ],
   "source": [
    "## here use resample with 'BA' offset\n",
    "open_val.resample('BA').mean()"
   ]
  },
  {
   "cell_type": "code",
   "execution_count": 118,
   "metadata": {},
   "outputs": [
    {
     "data": {
      "text/plain": [
       "Date\n",
       "2017-01-02    351.863442\n",
       "2018-01-01    481.001922\n",
       "2019-01-01    180.752257\n",
       "2020-01-01    197.568662\n",
       "Freq: BAS-JAN, Name: Open, dtype: float64"
      ]
     },
     "execution_count": 118,
     "metadata": {},
     "output_type": "execute_result"
    }
   ],
   "source": [
    "## here use resample with 'BA' offset\n",
    "open_val.resample('BAS').mean()"
   ]
  },
  {
   "cell_type": "code",
   "execution_count": 119,
   "metadata": {
    "executionInfo": {
     "elapsed": 224,
     "status": "ok",
     "timestamp": 1635460962294,
     "user": {
      "displayName": "Murat Guner",
      "photoUrl": "https://lh3.googleusercontent.com/a/default-user=s64",
      "userId": "07219518426737849646"
     },
     "user_tz": 240
    },
    "id": "6qIhrEALEYFP"
   },
   "outputs": [
    {
     "data": {
      "text/plain": [
       "Date\n",
       "2017-12-29 11:00:00    715.00\n",
       "2018-12-31 11:00:00    135.51\n",
       "2019-12-31 11:00:00    131.32\n",
       "Freq: BA-DEC, Name: Open, dtype: float64"
      ]
     },
     "execution_count": 119,
     "metadata": {},
     "output_type": "execute_result"
    }
   ],
   "source": [
    "## here use asfreq method with 'BA' offset and compare\n",
    "\n",
    "open_val.asfreq('BA')"
   ]
  },
  {
   "cell_type": "code",
   "execution_count": 120,
   "metadata": {
    "colab": {
     "base_uri": "https://localhost:8080/",
     "height": 225
    },
    "executionInfo": {
     "elapsed": 170,
     "status": "error",
     "timestamp": 1635460976242,
     "user": {
      "displayName": "Murat Guner",
      "photoUrl": "https://lh3.googleusercontent.com/a/default-user=s64",
      "userId": "07219518426737849646"
     },
     "user_tz": 240
    },
    "id": "Ly0kp0lnxaoQ",
    "outputId": "28b8a6e7-6503-4b16-b458-f049a723e9b4"
   },
   "outputs": [
    {
     "data": {
      "image/png": "[encoded data removed]",
      "text/plain": [
       "<Figure size 432x288 with 1 Axes>"
      ]
     },
     "metadata": {
      "needs_background": "light"
     },
     "output_type": "display_data"
    }
   ],
   "source": [
    "## Plot them in the same plot\n",
    "plt.plot(open_val.resample('BA').mean())\n",
    "plt.plot(open_val.asfreq('BA'))\n",
    "plt.xticks(rotation =45)\n",
    "plt.show()"
   ]
  },
  {
   "cell_type": "code",
   "execution_count": 121,
   "metadata": {},
   "outputs": [],
   "source": [
    "from matplotlib import dates\n",
    "\n",
    "# Locators and formatters"
   ]
  },
  {
   "cell_type": "code",
   "execution_count": 130,
   "metadata": {},
   "outputs": [
    {
     "data": {
      "image/png": "[encoded data removed]",
      "text/plain": [
       "<Figure size 432x288 with 1 Axes>"
      ]
     },
     "metadata": {
      "needs_background": "light"
     },
     "output_type": "display_data"
    }
   ],
   "source": [
    "plt.plot(open_val.resample('BA').mean())\n",
    "plt.plot(open_val.asfreq('BA'))\n",
    "plt.xticks(rotation =45)\n",
    "\n",
    "ax = plt.gca()\n",
    "ax.xaxis.set_major_locator(dates.YearLocator())\n",
    "ax.xaxis.set_major_formatter(dates.DateFormatter('%Y %B'))\n",
    "\n",
    "ax.xaxis.set_minor_locator(dates.MonthLocator())\n",
    "# ax.xaxis.set_minor_formatter(dates.DateFormatter('%d'))\n",
    "\n",
    "\n",
    "plt.show()"
   ]
  },
  {
   "cell_type": "code",
   "execution_count": 131,
   "metadata": {},
   "outputs": [
    {
     "data": {
      "image/png": "[encoded data removed]",
      "text/plain": [
       "<Figure size 432x288 with 1 Axes>"
      ]
     },
     "metadata": {
      "needs_background": "light"
     },
     "output_type": "display_data"
    }
   ],
   "source": [
    "df3 = df1['2020-01': '2020-02']\n",
    "\n",
    "ax = df3.Open.plot()\n",
    "ax.xaxis.set_major_locator(dates.WeekdayLocator(byweekday=(0), interval=7))\n",
    "\n",
    "plt.show()"
   ]
  },
  {
   "cell_type": "markdown",
   "metadata": {
    "id": "eE9C-hdlx77H"
   },
   "source": [
    "### Rolling Windows"
   ]
  },
  {
   "cell_type": "markdown",
   "metadata": {
    "id": "JE2kdt-bE8hy"
   },
   "source": [
    "[Moving Average](https://towardsdatascience.com/dont-miss-out-on-rolling-window-functions-in-pandas-850b817131db)"
   ]
  },
  {
   "cell_type": "code",
   "execution_count": 132,
   "metadata": {
    "colab": {
     "base_uri": "https://localhost:8080/",
     "height": 454
    },
    "executionInfo": {
     "elapsed": 1053,
     "status": "ok",
     "timestamp": 1635459659487,
     "user": {
      "displayName": "Murat Guner",
      "photoUrl": "https://lh3.googleusercontent.com/a/default-user=s64",
      "userId": "07219518426737849646"
     },
     "user_tz": 240
    },
    "id": "o9yXYY5I6m4T",
    "outputId": "5e94fc57-bf2d-45b3-e5e8-6244710eb5c4",
    "scrolled": false
   },
   "outputs": [
    {
     "data": {
      "image/png": "[encoded data removed]",
      "text/plain": [
       "<Figure size 1080x504 with 1 Axes>"
      ]
     },
     "metadata": {
      "needs_background": "light"
     },
     "output_type": "display_data"
    }
   ],
   "source": [
    "rolling = open_val.rolling(365, center =False)\n",
    "\n",
    "data = pd.DataFrame({'input': open_val,\n",
    "                     'one-year rolling_mean': rolling.mean(),\n",
    "                     'one-year rolling_std': rolling.std()})\n",
    "# data\n",
    "\n",
    "ax = data.plot(style=['-', '--', ':'], figsize = (15,7))\n",
    "ax.lines[0].set_alpha(0.3)"
   ]
  },
  {
   "cell_type": "code",
   "execution_count": null,
   "metadata": {},
   "outputs": [],
   "source": []
  },
  {
   "cell_type": "markdown",
   "metadata": {
    "id": "q81hw4GJ-B9K"
   },
   "source": [
    "https://pandas.pydata.org/pandas-docs/stable/reference/api/pandas.DataFrame.rolling.html\n"
   ]
  },
  {
   "cell_type": "markdown",
   "metadata": {
    "id": "uh28I7Is_0fZ"
   },
   "source": [
    "# Lab"
   ]
  },
  {
   "cell_type": "markdown",
   "metadata": {
    "id": "qbjN0TpG_4eN"
   },
   "source": [
    "[Follow this tutorial to replicate the results](https://jakevdp.github.io/PythonDataScienceHandbook/03.11-working-with-time-series.html#Example:-Visualizing-Seattle-Bicycle-Counts)\n",
    "\n",
    "[Read this blog](https://jakevdp.github.io/blog/2014/06/10/is-seattle-really-seeing-an-uptick-in-cycling/)"
   ]
  },
  {
   "cell_type": "code",
   "execution_count": null,
   "metadata": {
    "id": "f3un8ITtAPvh"
   },
   "outputs": [],
   "source": []
  }
 ],
 "metadata": {
  "colab": {
   "authorship_tag": "ABX9TyNjQlt1fDmhafVHjxNX2uw1",
   "collapsed_sections": [],
   "name": "Copy of Fall21-W9-WorkingWithTimeDate-StudentCopy-Before.ipynb",
   "provenance": []
  },
  "kernelspec": {
   "display_name": "Python 3",
   "language": "python",
   "name": "python3"
  },
  "language_info": {
   "codemirror_mode": {
    "name": "ipython",
    "version": 3
   },
   "file_extension": ".py",
   "mimetype": "text/x-python",
   "name": "python",
   "nbconvert_exporter": "python",
   "pygments_lexer": "ipython3",
   "version": "3.8.8"
  },
  "toc": {
   "base_numbering": 1,
   "nav_menu": {},
   "number_sections": false,
   "sideBar": true,
   "skip_h1_title": false,
   "title_cell": "Table of Contents",
   "title_sidebar": "Contents",
   "toc_cell": false,
   "toc_position": {
    "height": "calc(100% - 180px)",
    "left": "10px",
    "top": "150px",
    "width": "164.571px"
   },
   "toc_section_display": true,
   "toc_window_display": false
  }
 },
 "nbformat": 4,
 "nbformat_minor": 1
}
