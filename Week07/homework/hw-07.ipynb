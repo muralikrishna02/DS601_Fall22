{
 "cells": [
  {
   "cell_type": "markdown",
   "metadata": {},
   "source": [
    "# Homework 7\n"
   ]
  },
  {
   "cell_type": "markdown",
   "metadata": {},
   "source": [
    "You are waiting on some datasets from different teams but the approval process may take some time. \n",
    "\n",
    "You have no intention to wait! You will generate some fake data to get started. \n",
    "\n",
    "Here are some info you expect from the management:\n",
    "* Employees dataset contains employee id, name, lastname, phone, state (~ 10K records) (Use states of US east coast only) \n",
    "* Salary dataset contains employee id, department id, yearly salary\n",
    "* Department dataset contains department id, department name (5-10 departments) \n",
    "\n",
    "Here are the questions expected to be answered:\n",
    "\n",
    "1. Visualize the average salary of each department\n",
    "1. Visualize the total number of employees living in each state for each department\n",
    "1. Visualize salary distribution of different states\n",
    "1. Visualize salary distribution of different departments\n",
    "\n",
    "You can use faker library (but you don't have to): https://faker.readthedocs.io/en/master/\n",
    "\n",
    "`Optional:` \n",
    "\n",
    "Try to make dataframes realistic. \n",
    "* Salary distribution as normal distribution\n",
    "* Salary of different states can be higher for 5-10K compared to other states\n"
   ]
  },
  {
   "cell_type": "code",
   "execution_count": null,
   "metadata": {},
   "outputs": [],
   "source": []
  }
 ],
 "metadata": {
  "kernelspec": {
   "display_name": "Python 3",
   "language": "python",
   "name": "python3"
  },
  "language_info": {
   "codemirror_mode": {
    "name": "ipython",
    "version": 3
   },
   "file_extension": ".py",
   "mimetype": "text/x-python",
   "name": "python",
   "nbconvert_exporter": "python",
   "pygments_lexer": "ipython3",
   "version": "3.8.8"
  },
  "toc": {
   "base_numbering": 1,
   "nav_menu": {},
   "number_sections": false,
   "sideBar": true,
   "skip_h1_title": false,
   "title_cell": "Table of Contents",
   "title_sidebar": "Contents",
   "toc_cell": false,
   "toc_position": {},
   "toc_section_display": true,
   "toc_window_display": false
  },
  "varInspector": {
   "cols": {
    "lenName": 16,
    "lenType": 16,
    "lenVar": 40
   },
   "kernels_config": {
    "python": {
     "delete_cmd_postfix": "",
     "delete_cmd_prefix": "del ",
     "library": "var_list.py",
     "varRefreshCmd": "print(var_dic_list())"
    },
    "r": {
     "delete_cmd_postfix": ") ",
     "delete_cmd_prefix": "rm(",
     "library": "var_list.r",
     "varRefreshCmd": "cat(var_dic_list()) "
    }
   },
   "types_to_exclude": [
    "module",
    "function",
    "builtin_function_or_method",
    "instance",
    "_Feature"
   ],
   "window_display": false
  },
  "vscode": {
   "interpreter": {
    "hash": "397704579725e15f5c7cb49fe5f0341eb7531c82d19f2c29d197e8b64ab5776b"
   }
  }
 },
 "nbformat": 4,
 "nbformat_minor": 2
}
