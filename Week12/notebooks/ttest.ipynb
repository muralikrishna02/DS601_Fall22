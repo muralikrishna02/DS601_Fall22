{
 "cells": [
  {
   "cell_type": "code",
   "execution_count": 1,
   "metadata": {},
   "outputs": [],
   "source": [
    "import pandas as pd\n",
    "\n",
    "from scipy.stats import ttest_ind, norm\n",
    "from matplotlib import pyplot as plt"
   ]
  },
  {
   "cell_type": "code",
   "execution_count": 2,
   "metadata": {},
   "outputs": [
    {
     "data": {
      "text/plain": [
       "array([ 10.14537992,  30.50466377,   6.04103055,  -6.52868651,\n",
       "       -11.39665328,   4.59671453,   5.64264353,   0.92902305,\n",
       "        25.69594755,   4.59562423,   3.30756495,   6.35164266,\n",
       "        12.79320433,  -2.53181461,   5.38401404,   1.86752212,\n",
       "         1.67853366,   7.7135551 ,  12.99745825,  25.26944731,\n",
       "         4.75244909,   5.4149889 ,  -9.31791546,  31.66330047,\n",
       "        -6.98262643,  -3.34461137,   5.73342468,  -5.70844504,\n",
       "         6.60909648,  -7.05814862,  -2.04981802,  10.21277001,\n",
       "       -20.25739017,  -7.39208471,   8.62208848,  13.94897664,\n",
       "        24.66152455,  14.8032944 ,  -1.74512216,   5.28682435,\n",
       "        -1.65851933,  30.87446808,  -0.45941859,   4.49537263,\n",
       "        -8.08606591,   0.735265  ,  23.72564149,   3.36439338,\n",
       "        15.90223577,   9.14129386,  11.81309939,   8.71020582,\n",
       "         9.71046076,  -3.33400694,  -7.12209728,  -4.12675125,\n",
       "        -0.77320189, -14.39464928,   5.85169661,  14.95265278,\n",
       "         9.56050832,  27.80877751,   3.02973422,  -2.69511126,\n",
       "         7.06412961,  -4.83433672,   6.93158982,  13.24546863,\n",
       "        19.38231281,   2.75102128,  16.16692873,   4.83896222,\n",
       "       -12.71887165,  -1.42454916,   7.34470693,  -3.45483998,\n",
       "        -2.03263612,  -2.04214829,   1.39305579,  -1.67225884,\n",
       "        18.45248215,  14.70058102,   1.4437674 ,  -3.0033672 ,\n",
       "         4.54515508,  10.98977448,   7.89466873,  24.66562145,\n",
       "         5.53845273,  26.82623566,  15.79805238,   6.036076  ,\n",
       "         1.96296868,   9.69671449,  10.61557096,   3.63867357,\n",
       "         6.14026319,  23.66360048,   6.92501734,   5.83693128,\n",
       "         0.73098506,  10.68810736,  12.02202616,  -5.31602363,\n",
       "         6.02483178,   5.46636674,  -6.15054327,  -8.07273006,\n",
       "        -2.87173347,  16.09694579,  -2.92355979,   2.10135207,\n",
       "        15.072189  ,   2.08177627,   6.75460247,  -1.17922379,\n",
       "        14.03189031,  11.10017048,  12.62864014, -14.07559075,\n",
       "         5.18691828,  14.65335406,   9.38425787, -10.78117637,\n",
       "        -9.43828623,  -3.26776438, -12.03763809,   1.21527283,\n",
       "       -15.64836613,   4.84655886,   2.86414412,   2.4273706 ,\n",
       "        14.23201927,  -3.33339996,  14.4995946 ,  11.63206316,\n",
       "        -4.75638775, -12.46828238,  -2.85139815,   3.94802841,\n",
       "         2.10190181,   0.5002299 ,  17.68300323,   6.5671622 ,\n",
       "         0.27146821,   5.19541002,   3.25095694,  -3.48974225,\n",
       "         5.10178819,  -1.5719968 ,   3.88559109,  11.89854837,\n",
       "        16.39807768,  -2.61368321,  -3.67759215,   1.58947938,\n",
       "        -2.65626996, -13.58430304,  12.93957017,   9.2015705 ,\n",
       "         5.25186713,  -5.81710272,  -1.95676941, -11.25117749,\n",
       "         5.18892152,  -0.8818367 ,  13.92378336,  25.68422737,\n",
       "        -5.86812132,  12.49896532,  14.50908498,  27.32708214,\n",
       "         5.83411765,  -2.7243475 ,  -8.01557335,  18.98511603,\n",
       "        18.2003712 ,  14.7192866 ,  -0.96762254,  15.65027006,\n",
       "        16.99907618,  -0.66754985,   6.59300772,  11.59631741,\n",
       "        -6.05327164,  -4.16880119,  10.15397752,   7.63016429,\n",
       "        15.27071108, -12.84465503,  15.36298121, -12.91230278,\n",
       "         7.43147805,  13.71270663,   7.19441091,   6.16079844,\n",
       "        20.56475916, -10.9415127 ,  -4.14343184,   3.8182294 ,\n",
       "         6.80187762,   1.03462634, -18.36456691,   5.54769386,\n",
       "         9.72664884,  20.60109839,   7.26085623,   0.81057747,\n",
       "         1.32556519,  -0.23994977,   2.87736106, -21.175078  ,\n",
       "        18.01650303,   6.14902055,  11.53147102,  13.54694004,\n",
       "         4.36541173,   3.0778469 ,  15.31917136,  -6.95338733,\n",
       "        11.07697353,   3.11588325,  12.98623896,  -1.31981231,\n",
       "        21.74079712,  -3.53646639,   3.12554357,  -4.73730542,\n",
       "       -24.01851049,   3.74400406,   5.94602639,   5.50462542,\n",
       "         7.89163468,  14.62724607,  13.82774755,  13.25164042,\n",
       "        12.72002491,   3.94712368,  -6.30227392,  -4.51893704,\n",
       "        25.06042262,  -0.69837626,  -5.82405178,  -2.4336697 ,\n",
       "        10.41799699,  11.36401535,  -6.09864866,  12.84813715,\n",
       "        16.8596907 ,   0.62739098,  14.62764759,  -3.66252428,\n",
       "        11.97617448,  -1.55662636,  18.63339322,   8.33937237,\n",
       "        -5.44042119,   2.78143943,   7.69953283,  -8.67222476,\n",
       "         0.65036295,  12.52984041,  15.99033943,  -9.50680389,\n",
       "        -3.92836068,  -3.59935508,  27.9108049 ,  -0.73359562,\n",
       "        -1.25873887,  19.13018883,  -9.55212471,  -7.61281103,\n",
       "        17.7504248 ,  20.11056253,   9.64993851,   3.67643478,\n",
       "        -6.73534931, -15.10273086,  -1.17484777,  14.80685745,\n",
       "         1.34176092,   8.17553066,  12.21905893,  -4.69758357,\n",
       "        -6.05031148,   8.42483075,   8.03189532,   9.21092151,\n",
       "        -0.9597221 ,  19.26760473,   2.18252893,  21.57580659,\n",
       "        -3.69152503,   2.21034637,   4.66616016,  11.43870535,\n",
       "         1.83350431,  11.64929629,  11.23081034,  -6.40666138,\n",
       "        14.88398445,  13.84106028,   7.0818276 ,  30.74365266,\n",
       "        20.48870277,   7.41373098,  -2.49425539,  20.38481781,\n",
       "         9.04675815,   3.7009529 ,   5.89657006, -11.58386178,\n",
       "       -12.3050201 , -11.84675064,  10.52587166,  11.40288699,\n",
       "         4.01143817,  -6.5411592 ,   0.51362257, -10.15994813,\n",
       "        23.48607204,  -0.95712147,   7.50850146,  16.97518563,\n",
       "        11.39738013,   6.38059012,  12.04681185,  -7.21841803,\n",
       "        -0.84518219,  17.72447654,  -6.38498497,  -3.65338346,\n",
       "         5.75965713,  14.03070832, -18.81725921,  -3.68194447,\n",
       "        -6.7576149 ,   9.51613491,  -4.0825131 ,  -0.85519948,\n",
       "         4.49749744,   8.06429641,  -9.7597017 ,  -0.73634414,\n",
       "       -10.88588228,   3.30730096,  11.29638546,  10.51972622,\n",
       "        13.09622567,  16.5020275 ,   5.33924545,  10.1179275 ,\n",
       "         9.95068873,  -7.85395983,  19.07702105,  -0.72247415,\n",
       "        11.41076364,  17.91330171,  -2.34738408,  -3.43089757,\n",
       "        -4.61069422,  -1.8399868 ,  18.15643278,  15.45302751,\n",
       "         6.49443524,   2.16721867,  -5.05542432,  18.94774633,\n",
       "         5.49582918,   3.10676455,   3.60576215,  -4.41853257,\n",
       "         4.42274712,   1.17612243,   6.89567588, -10.93202292,\n",
       "        22.29694596,  -0.10556381,   1.72597767,  10.17597625,\n",
       "        -8.19912848,  -6.5600851 ,   5.67569324, -11.71729881,\n",
       "        -4.50669721,  -6.65441101,   5.10468636,  -2.59027611,\n",
       "       -10.98503275,   3.92795017,   3.81080022,   5.90106324,\n",
       "       -10.36661841,  -9.21161641,   2.63417997,  16.44585198,\n",
       "        13.18111366,  10.8491255 ,  12.30601682,  10.76174369,\n",
       "         9.53008634,  -2.84686853,   2.2102421 ,   8.58528761,\n",
       "         4.51905304,  13.11908329,   9.5549566 ,  18.25595145,\n",
       "         5.71360433,  12.70288956,   3.16795267,  27.92014356,\n",
       "         0.67001647,  31.20393191,   5.93487039,  -1.86809081,\n",
       "         3.58144109,   9.83475198,   1.41357867,  23.0908156 ,\n",
       "        26.05550963,  10.50476823,   1.39082148,   3.46577181,\n",
       "        -3.70448442, -13.73627228,  23.06338044, -11.01509906,\n",
       "         5.79678884, -11.26608279,   4.43766483,  10.68582597,\n",
       "         1.91031709,  14.24972517,  16.10698332,  10.62657726,\n",
       "        -1.91710471,   4.48548981,   6.89934781,  -8.61978962,\n",
       "        -1.13845424, -10.13528828,   9.49968043,  -1.46578512,\n",
       "        -1.84528099,  -1.15299719,   5.26247839,   4.96410053,\n",
       "        14.87249717,  -1.75059916,   5.1704576 ,  -2.12964383,\n",
       "        14.58821893,  12.03591981,  17.37258759,   8.27605161,\n",
       "         4.33150213,   0.81086456,   8.25873816,   1.66664174,\n",
       "       -10.83585096,  22.90019139,  -2.39880379,   9.08013032,\n",
       "         1.02680029,   1.46226359,  15.4756263 ,  -5.9522863 ,\n",
       "         9.90545497,   5.88411655,   2.4763337 ,   5.50046219,\n",
       "        15.46259625,  -0.31062728,  -6.68411598,  15.3473415 ,\n",
       "         1.98295446,   6.23846002,  -1.76388363,   0.79682053,\n",
       "         3.41468748,  -0.95346143,  -8.91373493,   3.65499935,\n",
       "        26.62813747,  -0.07761053,  24.54223555,  14.05046551,\n",
       "        -2.72036787,   7.65146332,   5.73927105, -10.6060971 ,\n",
       "        -6.24538303,  10.43057376,   8.90014958,   1.46019662,\n",
       "         8.24338588,  10.66797613,   4.14821137,   4.87852394])"
      ]
     },
     "execution_count": 2,
     "metadata": {},
     "output_type": "execute_result"
    }
   ],
   "source": [
    "rvs1 =  norm.rvs(loc=5,scale=10,size=500)\n",
    "rvs1"
   ]
  },
  {
   "cell_type": "code",
   "execution_count": 4,
   "metadata": {},
   "outputs": [],
   "source": [
    "rvs2 =  norm.rvs(loc=5,scale=10,size=1000)"
   ]
  },
  {
   "cell_type": "code",
   "execution_count": 5,
   "metadata": {},
   "outputs": [
    {
     "data": {
      "text/plain": [
       "(array([  1.,   6.,  46., 160., 285., 298., 150.,  49.,   3.,   2.]),\n",
       " array([-34.76477307, -26.80135137, -18.83792967, -10.87450797,\n",
       "         -2.91108627,   5.05233543,  13.01575712,  20.97917882,\n",
       "         28.94260052,  36.90602222,  44.86944392]),\n",
       " <BarContainer object of 10 artists>)"
      ]
     },
     "execution_count": 5,
     "metadata": {},
     "output_type": "execute_result"
    },
    {
     "data": {
      "image/png": "[encoded data removed]",
      "text/plain": [
       "<Figure size 432x288 with 1 Axes>"
      ]
     },
     "metadata": {
      "needs_background": "light"
     },
     "output_type": "display_data"
    }
   ],
   "source": [
    "plt.hist(rvs1)\n",
    "plt.hist(rvs2, alpha=0.2)"
   ]
  },
  {
   "cell_type": "code",
   "execution_count": 6,
   "metadata": {},
   "outputs": [
    {
     "data": {
      "text/plain": [
       "Ttest_indResult(statistic=-0.21897023448180075, pvalue=0.8267030638864434)"
      ]
     },
     "execution_count": 6,
     "metadata": {},
     "output_type": "execute_result"
    }
   ],
   "source": [
    "ttest_ind(rvs1, rvs2)"
   ]
  },
  {
   "cell_type": "code",
   "execution_count": 7,
   "metadata": {},
   "outputs": [],
   "source": [
    "df = pd.read_csv('https://raw.githubusercontent.com/msaricaumbc/DS_data/master/Part1_Crime_2017_to_2018.csv')"
   ]
  },
  {
   "cell_type": "code",
   "execution_count": 8,
   "metadata": {},
   "outputs": [
    {
     "data": {
      "text/plain": [
       "(100677, 19)"
      ]
     },
     "execution_count": 8,
     "metadata": {},
     "output_type": "execute_result"
    }
   ],
   "source": [
    "df.shape"
   ]
  },
  {
   "cell_type": "code",
   "execution_count": 9,
   "metadata": {},
   "outputs": [
    {
     "data": {
      "text/plain": [
       "objectid             int64\n",
       "rowid_               int64\n",
       "crimedatetime       object\n",
       "crimetime           object\n",
       "crimecode           object\n",
       "location            object\n",
       "description         object\n",
       "inside_outside      object\n",
       "weapon              object\n",
       "post               float64\n",
       "district            object\n",
       "neighborhood        object\n",
       "latitude           float64\n",
       "longitude          float64\n",
       "geolocation         object\n",
       "premise             object\n",
       "vriname             object\n",
       "total_incidents      int64\n",
       "hashedrecord        object\n",
       "dtype: object"
      ]
     },
     "execution_count": 9,
     "metadata": {},
     "output_type": "execute_result"
    }
   ],
   "source": [
    "df.dtypes"
   ]
  },
  {
   "cell_type": "code",
   "execution_count": 10,
   "metadata": {},
   "outputs": [],
   "source": [
    "df['crimedatetime'] = pd.to_datetime(df['crimedatetime'])"
   ]
  },
  {
   "cell_type": "code",
   "execution_count": 11,
   "metadata": {},
   "outputs": [
    {
     "data": {
      "text/html": [
       "<div>\n",
       "<style scoped>\n",
       "    .dataframe tbody tr th:only-of-type {\n",
       "        vertical-align: middle;\n",
       "    }\n",
       "\n",
       "    .dataframe tbody tr th {\n",
       "        vertical-align: top;\n",
       "    }\n",
       "\n",
       "    .dataframe thead th {\n",
       "        text-align: right;\n",
       "    }\n",
       "</style>\n",
       "<table border=\"1\" class=\"dataframe\">\n",
       "  <thead>\n",
       "    <tr style=\"text-align: right;\">\n",
       "      <th></th>\n",
       "      <th>0</th>\n",
       "      <th>1</th>\n",
       "      <th>2</th>\n",
       "    </tr>\n",
       "  </thead>\n",
       "  <tbody>\n",
       "    <tr>\n",
       "      <th>objectid</th>\n",
       "      <td>1</td>\n",
       "      <td>2</td>\n",
       "      <td>3</td>\n",
       "    </tr>\n",
       "    <tr>\n",
       "      <th>rowid_</th>\n",
       "      <td>82567</td>\n",
       "      <td>82568</td>\n",
       "      <td>82569</td>\n",
       "    </tr>\n",
       "    <tr>\n",
       "      <th>crimedatetime</th>\n",
       "      <td>2018-12-31 04:36:00</td>\n",
       "      <td>2018-12-31 17:30:00</td>\n",
       "      <td>2018-12-31 11:10:00</td>\n",
       "    </tr>\n",
       "    <tr>\n",
       "      <th>crimetime</th>\n",
       "      <td>4:36:00</td>\n",
       "      <td>17:30:00</td>\n",
       "      <td>11:10:00</td>\n",
       "    </tr>\n",
       "    <tr>\n",
       "      <th>crimecode</th>\n",
       "      <td>6G</td>\n",
       "      <td>6D</td>\n",
       "      <td>4E</td>\n",
       "    </tr>\n",
       "    <tr>\n",
       "      <th>location</th>\n",
       "      <td>400 W LEXINGTON ST</td>\n",
       "      <td>400 E 25TH ST</td>\n",
       "      <td>4200 FAIRFAX RD</td>\n",
       "    </tr>\n",
       "    <tr>\n",
       "      <th>description</th>\n",
       "      <td>LARCENY</td>\n",
       "      <td>LARCENY FROM AUTO</td>\n",
       "      <td>COMMON ASSAULT</td>\n",
       "    </tr>\n",
       "    <tr>\n",
       "      <th>inside_outside</th>\n",
       "      <td>I</td>\n",
       "      <td>O</td>\n",
       "      <td>I</td>\n",
       "    </tr>\n",
       "    <tr>\n",
       "      <th>weapon</th>\n",
       "      <td>NaN</td>\n",
       "      <td>NaN</td>\n",
       "      <td>NaN</td>\n",
       "    </tr>\n",
       "    <tr>\n",
       "      <th>post</th>\n",
       "      <td>114.0</td>\n",
       "      <td>513.0</td>\n",
       "      <td>624.0</td>\n",
       "    </tr>\n",
       "    <tr>\n",
       "      <th>district</th>\n",
       "      <td>CENTRAL</td>\n",
       "      <td>NORTHERN</td>\n",
       "      <td>NORTHWEST</td>\n",
       "    </tr>\n",
       "    <tr>\n",
       "      <th>neighborhood</th>\n",
       "      <td>DOWNTOWN</td>\n",
       "      <td>HARWOOD</td>\n",
       "      <td>WEST FOREST PARK</td>\n",
       "    </tr>\n",
       "    <tr>\n",
       "      <th>latitude</th>\n",
       "      <td>39.2916</td>\n",
       "      <td>39.3181</td>\n",
       "      <td>39.3204</td>\n",
       "    </tr>\n",
       "    <tr>\n",
       "      <th>longitude</th>\n",
       "      <td>-76.6211</td>\n",
       "      <td>-76.611</td>\n",
       "      <td>-76.6877</td>\n",
       "    </tr>\n",
       "    <tr>\n",
       "      <th>geolocation</th>\n",
       "      <td>(39.2916,-76.6211)</td>\n",
       "      <td>(39.3181,-76.611)</td>\n",
       "      <td>(39.3204,-76.6877)</td>\n",
       "    </tr>\n",
       "    <tr>\n",
       "      <th>premise</th>\n",
       "      <td>SPECIALTY STORE</td>\n",
       "      <td>STREET</td>\n",
       "      <td>APT/CONDO - OCCUPIED</td>\n",
       "    </tr>\n",
       "    <tr>\n",
       "      <th>vriname</th>\n",
       "      <td>NaN</td>\n",
       "      <td>NaN</td>\n",
       "      <td>NaN</td>\n",
       "    </tr>\n",
       "    <tr>\n",
       "      <th>total_incidents</th>\n",
       "      <td>1</td>\n",
       "      <td>1</td>\n",
       "      <td>1</td>\n",
       "    </tr>\n",
       "    <tr>\n",
       "      <th>hashedrecord</th>\n",
       "      <td>0xC961940C8A250EDAFFBB5E3D0E48727AC79817AE9EA6...</td>\n",
       "      <td>0x46FADA38EAC4E24AA9CCD81259651137A8073440F5F2...</td>\n",
       "      <td>0xFE7A5EDB382D00C6265CB48762D75AB7D2BC374871E8...</td>\n",
       "    </tr>\n",
       "  </tbody>\n",
       "</table>\n",
       "</div>"
      ],
      "text/plain": [
       "                                                                 0  \\\n",
       "objectid                                                         1   \n",
       "rowid_                                                       82567   \n",
       "crimedatetime                                  2018-12-31 04:36:00   \n",
       "crimetime                                                  4:36:00   \n",
       "crimecode                                                       6G   \n",
       "location                                        400 W LEXINGTON ST   \n",
       "description                                                LARCENY   \n",
       "inside_outside                                                   I   \n",
       "weapon                                                         NaN   \n",
       "post                                                         114.0   \n",
       "district                                                   CENTRAL   \n",
       "neighborhood                                              DOWNTOWN   \n",
       "latitude                                                   39.2916   \n",
       "longitude                                                 -76.6211   \n",
       "geolocation                                     (39.2916,-76.6211)   \n",
       "premise                                       SPECIALTY STORE        \n",
       "vriname                                                        NaN   \n",
       "total_incidents                                                  1   \n",
       "hashedrecord     0xC961940C8A250EDAFFBB5E3D0E48727AC79817AE9EA6...   \n",
       "\n",
       "                                                                 1  \\\n",
       "objectid                                                         2   \n",
       "rowid_                                                       82568   \n",
       "crimedatetime                                  2018-12-31 17:30:00   \n",
       "crimetime                                                 17:30:00   \n",
       "crimecode                                                       6D   \n",
       "location                                             400 E 25TH ST   \n",
       "description                                      LARCENY FROM AUTO   \n",
       "inside_outside                                                   O   \n",
       "weapon                                                         NaN   \n",
       "post                                                         513.0   \n",
       "district                                                  NORTHERN   \n",
       "neighborhood                                               HARWOOD   \n",
       "latitude                                                   39.3181   \n",
       "longitude                                                  -76.611   \n",
       "geolocation                                      (39.3181,-76.611)   \n",
       "premise                                       STREET                 \n",
       "vriname                                                        NaN   \n",
       "total_incidents                                                  1   \n",
       "hashedrecord     0x46FADA38EAC4E24AA9CCD81259651137A8073440F5F2...   \n",
       "\n",
       "                                                                 2  \n",
       "objectid                                                         3  \n",
       "rowid_                                                       82569  \n",
       "crimedatetime                                  2018-12-31 11:10:00  \n",
       "crimetime                                                 11:10:00  \n",
       "crimecode                                                       4E  \n",
       "location                                           4200 FAIRFAX RD  \n",
       "description                                         COMMON ASSAULT  \n",
       "inside_outside                                                   I  \n",
       "weapon                                                         NaN  \n",
       "post                                                         624.0  \n",
       "district                                                 NORTHWEST  \n",
       "neighborhood                                      WEST FOREST PARK  \n",
       "latitude                                                   39.3204  \n",
       "longitude                                                 -76.6877  \n",
       "geolocation                                     (39.3204,-76.6877)  \n",
       "premise                                       APT/CONDO - OCCUPIED  \n",
       "vriname                                                        NaN  \n",
       "total_incidents                                                  1  \n",
       "hashedrecord     0xFE7A5EDB382D00C6265CB48762D75AB7D2BC374871E8...  "
      ]
     },
     "execution_count": 11,
     "metadata": {},
     "output_type": "execute_result"
    }
   ],
   "source": [
    "df.head(3).T"
   ]
  },
  {
   "cell_type": "markdown",
   "metadata": {},
   "source": [
    "Hypothesis: There is no significant difference between crimes inside and outsides"
   ]
  },
  {
   "cell_type": "code",
   "execution_count": 12,
   "metadata": {},
   "outputs": [
    {
     "data": {
      "text/plain": [
       "O          40115\n",
       "I          38355\n",
       "Outside     1854\n",
       "Inside       176\n",
       "Name: inside_outside, dtype: int64"
      ]
     },
     "execution_count": 12,
     "metadata": {},
     "output_type": "execute_result"
    }
   ],
   "source": [
    "df['inside_outside'].value_counts()"
   ]
  },
  {
   "cell_type": "code",
   "execution_count": 13,
   "metadata": {},
   "outputs": [],
   "source": [
    "df['inside_outside'] = df['inside_outside'].replace({\n",
    "    'O': 'Outside', \n",
    "    'I':'Inside'\n",
    "})"
   ]
  },
  {
   "cell_type": "code",
   "execution_count": 14,
   "metadata": {},
   "outputs": [
    {
     "data": {
      "text/plain": [
       "Outside    41969\n",
       "Inside     38531\n",
       "Name: inside_outside, dtype: int64"
      ]
     },
     "execution_count": 14,
     "metadata": {},
     "output_type": "execute_result"
    }
   ],
   "source": [
    "df['inside_outside'].value_counts()"
   ]
  },
  {
   "cell_type": "code",
   "execution_count": null,
   "metadata": {},
   "outputs": [],
   "source": []
  },
  {
   "cell_type": "code",
   "execution_count": 15,
   "metadata": {},
   "outputs": [],
   "source": [
    "df['inside'] =  [1 if i=='Inside' else 0 for i in df['inside_outside']]\n",
    "df['outside'] = [1 if i=='Outside' else 0 for i in df['inside_outside']]"
   ]
  },
  {
   "cell_type": "code",
   "execution_count": 16,
   "metadata": {},
   "outputs": [
    {
     "data": {
      "text/html": [
       "<div>\n",
       "<style scoped>\n",
       "    .dataframe tbody tr th:only-of-type {\n",
       "        vertical-align: middle;\n",
       "    }\n",
       "\n",
       "    .dataframe tbody tr th {\n",
       "        vertical-align: top;\n",
       "    }\n",
       "\n",
       "    .dataframe thead th {\n",
       "        text-align: right;\n",
       "    }\n",
       "</style>\n",
       "<table border=\"1\" class=\"dataframe\">\n",
       "  <thead>\n",
       "    <tr style=\"text-align: right;\">\n",
       "      <th></th>\n",
       "      <th>objectid</th>\n",
       "      <th>rowid_</th>\n",
       "      <th>crimedatetime</th>\n",
       "      <th>crimetime</th>\n",
       "      <th>crimecode</th>\n",
       "      <th>location</th>\n",
       "      <th>description</th>\n",
       "      <th>inside_outside</th>\n",
       "      <th>weapon</th>\n",
       "      <th>post</th>\n",
       "      <th>...</th>\n",
       "      <th>neighborhood</th>\n",
       "      <th>latitude</th>\n",
       "      <th>longitude</th>\n",
       "      <th>geolocation</th>\n",
       "      <th>premise</th>\n",
       "      <th>vriname</th>\n",
       "      <th>total_incidents</th>\n",
       "      <th>hashedrecord</th>\n",
       "      <th>inside</th>\n",
       "      <th>outside</th>\n",
       "    </tr>\n",
       "  </thead>\n",
       "  <tbody>\n",
       "    <tr>\n",
       "      <th>0</th>\n",
       "      <td>1</td>\n",
       "      <td>82567</td>\n",
       "      <td>2018-12-31 04:36:00</td>\n",
       "      <td>4:36:00</td>\n",
       "      <td>6G</td>\n",
       "      <td>400 W LEXINGTON ST</td>\n",
       "      <td>LARCENY</td>\n",
       "      <td>Inside</td>\n",
       "      <td>NaN</td>\n",
       "      <td>114.0</td>\n",
       "      <td>...</td>\n",
       "      <td>DOWNTOWN</td>\n",
       "      <td>39.2916</td>\n",
       "      <td>-76.6211</td>\n",
       "      <td>(39.2916,-76.6211)</td>\n",
       "      <td>SPECIALTY STORE</td>\n",
       "      <td>NaN</td>\n",
       "      <td>1</td>\n",
       "      <td>0xC961940C8A250EDAFFBB5E3D0E48727AC79817AE9EA6...</td>\n",
       "      <td>1</td>\n",
       "      <td>0</td>\n",
       "    </tr>\n",
       "    <tr>\n",
       "      <th>1</th>\n",
       "      <td>2</td>\n",
       "      <td>82568</td>\n",
       "      <td>2018-12-31 17:30:00</td>\n",
       "      <td>17:30:00</td>\n",
       "      <td>6D</td>\n",
       "      <td>400 E 25TH ST</td>\n",
       "      <td>LARCENY FROM AUTO</td>\n",
       "      <td>Outside</td>\n",
       "      <td>NaN</td>\n",
       "      <td>513.0</td>\n",
       "      <td>...</td>\n",
       "      <td>HARWOOD</td>\n",
       "      <td>39.3181</td>\n",
       "      <td>-76.6110</td>\n",
       "      <td>(39.3181,-76.611)</td>\n",
       "      <td>STREET</td>\n",
       "      <td>NaN</td>\n",
       "      <td>1</td>\n",
       "      <td>0x46FADA38EAC4E24AA9CCD81259651137A8073440F5F2...</td>\n",
       "      <td>0</td>\n",
       "      <td>1</td>\n",
       "    </tr>\n",
       "    <tr>\n",
       "      <th>2</th>\n",
       "      <td>3</td>\n",
       "      <td>82569</td>\n",
       "      <td>2018-12-31 11:10:00</td>\n",
       "      <td>11:10:00</td>\n",
       "      <td>4E</td>\n",
       "      <td>4200 FAIRFAX RD</td>\n",
       "      <td>COMMON ASSAULT</td>\n",
       "      <td>Inside</td>\n",
       "      <td>NaN</td>\n",
       "      <td>624.0</td>\n",
       "      <td>...</td>\n",
       "      <td>WEST FOREST PARK</td>\n",
       "      <td>39.3204</td>\n",
       "      <td>-76.6877</td>\n",
       "      <td>(39.3204,-76.6877)</td>\n",
       "      <td>APT/CONDO - OCCUPIED</td>\n",
       "      <td>NaN</td>\n",
       "      <td>1</td>\n",
       "      <td>0xFE7A5EDB382D00C6265CB48762D75AB7D2BC374871E8...</td>\n",
       "      <td>1</td>\n",
       "      <td>0</td>\n",
       "    </tr>\n",
       "    <tr>\n",
       "      <th>3</th>\n",
       "      <td>4</td>\n",
       "      <td>82570</td>\n",
       "      <td>2018-12-31 19:45:00</td>\n",
       "      <td>19:45:00</td>\n",
       "      <td>4E</td>\n",
       "      <td>6500 SAINT HELENA AVE</td>\n",
       "      <td>COMMON ASSAULT</td>\n",
       "      <td>Inside</td>\n",
       "      <td>NaN</td>\n",
       "      <td>234.0</td>\n",
       "      <td>...</td>\n",
       "      <td>SAINT HELENA</td>\n",
       "      <td>39.2600</td>\n",
       "      <td>-76.5311</td>\n",
       "      <td>(39.26,-76.5311)</td>\n",
       "      <td>ROW/TOWNHOUSE-OCC</td>\n",
       "      <td>NaN</td>\n",
       "      <td>1</td>\n",
       "      <td>0xD60C2FB5283D72C29328A7DF528251D4B0F3EF0D9474...</td>\n",
       "      <td>1</td>\n",
       "      <td>0</td>\n",
       "    </tr>\n",
       "    <tr>\n",
       "      <th>4</th>\n",
       "      <td>5</td>\n",
       "      <td>82571</td>\n",
       "      <td>2018-12-31 22:43:00</td>\n",
       "      <td>22:43:00</td>\n",
       "      <td>4A</td>\n",
       "      <td>2400 W BELVEDERE AVE</td>\n",
       "      <td>AGG. ASSAULT</td>\n",
       "      <td>Inside</td>\n",
       "      <td>FIREARM</td>\n",
       "      <td>532.0</td>\n",
       "      <td>...</td>\n",
       "      <td>LEVINDALE</td>\n",
       "      <td>39.3545</td>\n",
       "      <td>-76.6623</td>\n",
       "      <td>(39.3545,-76.6623)</td>\n",
       "      <td>HOSP/NURS. HOME</td>\n",
       "      <td>NaN</td>\n",
       "      <td>1</td>\n",
       "      <td>0x3D27E5CF73522B733BA7EA512013FE1D8BE621801CC8...</td>\n",
       "      <td>1</td>\n",
       "      <td>0</td>\n",
       "    </tr>\n",
       "  </tbody>\n",
       "</table>\n",
       "<p>5 rows × 21 columns</p>\n",
       "</div>"
      ],
      "text/plain": [
       "   objectid  rowid_       crimedatetime crimetime crimecode  \\\n",
       "0         1   82567 2018-12-31 04:36:00   4:36:00        6G   \n",
       "1         2   82568 2018-12-31 17:30:00  17:30:00        6D   \n",
       "2         3   82569 2018-12-31 11:10:00  11:10:00        4E   \n",
       "3         4   82570 2018-12-31 19:45:00  19:45:00        4E   \n",
       "4         5   82571 2018-12-31 22:43:00  22:43:00        4A   \n",
       "\n",
       "                location        description inside_outside   weapon   post  \\\n",
       "0     400 W LEXINGTON ST            LARCENY         Inside      NaN  114.0   \n",
       "1          400 E 25TH ST  LARCENY FROM AUTO        Outside      NaN  513.0   \n",
       "2        4200 FAIRFAX RD     COMMON ASSAULT         Inside      NaN  624.0   \n",
       "3  6500 SAINT HELENA AVE     COMMON ASSAULT         Inside      NaN  234.0   \n",
       "4   2400 W BELVEDERE AVE       AGG. ASSAULT         Inside  FIREARM  532.0   \n",
       "\n",
       "   ...      neighborhood latitude  longitude         geolocation  \\\n",
       "0  ...          DOWNTOWN  39.2916   -76.6211  (39.2916,-76.6211)   \n",
       "1  ...           HARWOOD  39.3181   -76.6110   (39.3181,-76.611)   \n",
       "2  ...  WEST FOREST PARK  39.3204   -76.6877  (39.3204,-76.6877)   \n",
       "3  ...      SAINT HELENA  39.2600   -76.5311    (39.26,-76.5311)   \n",
       "4  ...         LEVINDALE  39.3545   -76.6623  (39.3545,-76.6623)   \n",
       "\n",
       "                premise vriname total_incidents  \\\n",
       "0  SPECIALTY STORE          NaN               1   \n",
       "1  STREET                   NaN               1   \n",
       "2  APT/CONDO - OCCUPIED     NaN               1   \n",
       "3     ROW/TOWNHOUSE-OCC     NaN               1   \n",
       "4       HOSP/NURS. HOME     NaN               1   \n",
       "\n",
       "                                        hashedrecord inside  outside  \n",
       "0  0xC961940C8A250EDAFFBB5E3D0E48727AC79817AE9EA6...      1        0  \n",
       "1  0x46FADA38EAC4E24AA9CCD81259651137A8073440F5F2...      0        1  \n",
       "2  0xFE7A5EDB382D00C6265CB48762D75AB7D2BC374871E8...      1        0  \n",
       "3  0xD60C2FB5283D72C29328A7DF528251D4B0F3EF0D9474...      1        0  \n",
       "4  0x3D27E5CF73522B733BA7EA512013FE1D8BE621801CC8...      1        0  \n",
       "\n",
       "[5 rows x 21 columns]"
      ]
     },
     "execution_count": 16,
     "metadata": {},
     "output_type": "execute_result"
    }
   ],
   "source": [
    "df.head()"
   ]
  },
  {
   "cell_type": "code",
   "execution_count": 17,
   "metadata": {},
   "outputs": [
    {
     "data": {
      "text/html": [
       "<div>\n",
       "<style scoped>\n",
       "    .dataframe tbody tr th:only-of-type {\n",
       "        vertical-align: middle;\n",
       "    }\n",
       "\n",
       "    .dataframe tbody tr th {\n",
       "        vertical-align: top;\n",
       "    }\n",
       "\n",
       "    .dataframe thead th {\n",
       "        text-align: right;\n",
       "    }\n",
       "</style>\n",
       "<table border=\"1\" class=\"dataframe\">\n",
       "  <thead>\n",
       "    <tr style=\"text-align: right;\">\n",
       "      <th></th>\n",
       "      <th>inside</th>\n",
       "      <th>outside</th>\n",
       "    </tr>\n",
       "    <tr>\n",
       "      <th>crimedatetime</th>\n",
       "      <th></th>\n",
       "      <th></th>\n",
       "    </tr>\n",
       "  </thead>\n",
       "  <tbody>\n",
       "    <tr>\n",
       "      <th>2017-01-01</th>\n",
       "      <td>66</td>\n",
       "      <td>62</td>\n",
       "    </tr>\n",
       "    <tr>\n",
       "      <th>2017-01-02</th>\n",
       "      <td>51</td>\n",
       "      <td>67</td>\n",
       "    </tr>\n",
       "    <tr>\n",
       "      <th>2017-01-03</th>\n",
       "      <td>40</td>\n",
       "      <td>38</td>\n",
       "    </tr>\n",
       "    <tr>\n",
       "      <th>2017-01-04</th>\n",
       "      <td>19</td>\n",
       "      <td>15</td>\n",
       "    </tr>\n",
       "    <tr>\n",
       "      <th>2017-01-05</th>\n",
       "      <td>17</td>\n",
       "      <td>21</td>\n",
       "    </tr>\n",
       "    <tr>\n",
       "      <th>...</th>\n",
       "      <td>...</td>\n",
       "      <td>...</td>\n",
       "    </tr>\n",
       "    <tr>\n",
       "      <th>2018-12-27</th>\n",
       "      <td>44</td>\n",
       "      <td>57</td>\n",
       "    </tr>\n",
       "    <tr>\n",
       "      <th>2018-12-28</th>\n",
       "      <td>57</td>\n",
       "      <td>65</td>\n",
       "    </tr>\n",
       "    <tr>\n",
       "      <th>2018-12-29</th>\n",
       "      <td>47</td>\n",
       "      <td>62</td>\n",
       "    </tr>\n",
       "    <tr>\n",
       "      <th>2018-12-30</th>\n",
       "      <td>48</td>\n",
       "      <td>59</td>\n",
       "    </tr>\n",
       "    <tr>\n",
       "      <th>2018-12-31</th>\n",
       "      <td>50</td>\n",
       "      <td>74</td>\n",
       "    </tr>\n",
       "  </tbody>\n",
       "</table>\n",
       "<p>730 rows × 2 columns</p>\n",
       "</div>"
      ],
      "text/plain": [
       "               inside  outside\n",
       "crimedatetime                 \n",
       "2017-01-01         66       62\n",
       "2017-01-02         51       67\n",
       "2017-01-03         40       38\n",
       "2017-01-04         19       15\n",
       "2017-01-05         17       21\n",
       "...               ...      ...\n",
       "2018-12-27         44       57\n",
       "2018-12-28         57       65\n",
       "2018-12-29         47       62\n",
       "2018-12-30         48       59\n",
       "2018-12-31         50       74\n",
       "\n",
       "[730 rows x 2 columns]"
      ]
     },
     "execution_count": 17,
     "metadata": {},
     "output_type": "execute_result"
    }
   ],
   "source": [
    "df_io = df[['inside', 'outside']].groupby(df['crimedatetime'].dt.date).sum() # this may be count if you are counting\n",
    "df_io"
   ]
  },
  {
   "cell_type": "code",
   "execution_count": null,
   "metadata": {},
   "outputs": [],
   "source": []
  },
  {
   "cell_type": "code",
   "execution_count": 18,
   "metadata": {},
   "outputs": [
    {
     "data": {
      "text/plain": [
       "Ttest_indResult(statistic=-6.703280799283819, pvalue=2.9271019609461777e-11)"
      ]
     },
     "execution_count": 18,
     "metadata": {},
     "output_type": "execute_result"
    }
   ],
   "source": [
    "inside = df_io['inside']\n",
    "outside = df_io['outside']  \n",
    "ttest_ind(inside, outside , equal_var=False)"
   ]
  },
  {
   "cell_type": "markdown",
   "metadata": {},
   "source": [
    "pvalue is less than 0.05"
   ]
  },
  {
   "cell_type": "markdown",
   "metadata": {},
   "source": [
    "Let's do another example.\n",
    "\n",
    "Null hypothesis: There is no significant difference between Hampden & Canton neighborhood in terms of weapon used crimes."
   ]
  },
  {
   "cell_type": "code",
   "execution_count": 19,
   "metadata": {},
   "outputs": [
    {
     "data": {
      "text/plain": [
       "FIREARM    11006\n",
       "OTHER       6477\n",
       "KNIFE       3346\n",
       "HANDS       1336\n",
       "FIRE         391\n",
       "Name: weapon, dtype: int64"
      ]
     },
     "execution_count": 19,
     "metadata": {},
     "output_type": "execute_result"
    }
   ],
   "source": [
    "df['weapon'].value_counts()"
   ]
  },
  {
   "cell_type": "code",
   "execution_count": 20,
   "metadata": {},
   "outputs": [],
   "source": [
    "df_weapon = df[df['weapon'].isna() == False]"
   ]
  },
  {
   "cell_type": "code",
   "execution_count": 23,
   "metadata": {},
   "outputs": [],
   "source": [
    "hampden = df_weapon[ df_weapon['neighborhood'] == 'HAMPDEN' ]\n",
    "canton = df_weapon[ df_weapon['neighborhood'] == 'CANTON' ]"
   ]
  },
  {
   "cell_type": "code",
   "execution_count": 24,
   "metadata": {},
   "outputs": [
    {
     "data": {
      "text/plain": [
       "crimedatetime\n",
       "2017-01-01    3\n",
       "2017-01-05    1\n",
       "2017-01-08    3\n",
       "2017-01-24    1\n",
       "2017-01-25    1\n",
       "             ..\n",
       "2018-12-12    1\n",
       "2018-12-15    1\n",
       "2018-12-16    1\n",
       "2018-12-18    4\n",
       "2018-12-30    1\n",
       "Name: weapon, Length: 106, dtype: int64"
      ]
     },
     "execution_count": 24,
     "metadata": {},
     "output_type": "execute_result"
    }
   ],
   "source": [
    "hampden_counts = hampden['weapon'].groupby( hampden['crimedatetime'].dt.date ).count()\n",
    "hampden_counts"
   ]
  },
  {
   "cell_type": "code",
   "execution_count": 25,
   "metadata": {},
   "outputs": [
    {
     "data": {
      "text/plain": [
       "crimedatetime\n",
       "2017-01-01    4\n",
       "2017-01-02    2\n",
       "2017-01-07    2\n",
       "2017-01-12    1\n",
       "2017-01-13    1\n",
       "             ..\n",
       "2018-12-18    1\n",
       "2018-12-26    1\n",
       "2018-12-29    1\n",
       "2018-12-30    2\n",
       "2018-12-31    1\n",
       "Name: weapon, Length: 133, dtype: int64"
      ]
     },
     "execution_count": 25,
     "metadata": {},
     "output_type": "execute_result"
    }
   ],
   "source": [
    "canton_counts = canton['weapon'].groupby( canton['crimedatetime'].dt.date ).count()\n",
    "canton_counts"
   ]
  },
  {
   "cell_type": "code",
   "execution_count": 26,
   "metadata": {},
   "outputs": [
    {
     "data": {
      "text/plain": [
       "Ttest_indResult(statistic=0.1379880975095151, pvalue=0.8904029753837779)"
      ]
     },
     "execution_count": 26,
     "metadata": {},
     "output_type": "execute_result"
    }
   ],
   "source": [
    "ttest_ind(hampden_counts, canton_counts, equal_var=False)"
   ]
  },
  {
   "cell_type": "code",
   "execution_count": 27,
   "metadata": {},
   "outputs": [],
   "source": [
    "from random import randint"
   ]
  },
  {
   "cell_type": "code",
   "execution_count": 28,
   "metadata": {},
   "outputs": [
    {
     "data": {
      "text/html": [
       "<div>\n",
       "<style scoped>\n",
       "    .dataframe tbody tr th:only-of-type {\n",
       "        vertical-align: middle;\n",
       "    }\n",
       "\n",
       "    .dataframe tbody tr th {\n",
       "        vertical-align: top;\n",
       "    }\n",
       "\n",
       "    .dataframe thead th {\n",
       "        text-align: right;\n",
       "    }\n",
       "</style>\n",
       "<table border=\"1\" class=\"dataframe\">\n",
       "  <thead>\n",
       "    <tr style=\"text-align: right;\">\n",
       "      <th></th>\n",
       "      <th>a</th>\n",
       "      <th>b</th>\n",
       "    </tr>\n",
       "  </thead>\n",
       "  <tbody>\n",
       "    <tr>\n",
       "      <th>0</th>\n",
       "      <td>-6.418842</td>\n",
       "      <td>7.292738</td>\n",
       "    </tr>\n",
       "    <tr>\n",
       "      <th>1</th>\n",
       "      <td>18.068756</td>\n",
       "      <td>-3.590761</td>\n",
       "    </tr>\n",
       "    <tr>\n",
       "      <th>2</th>\n",
       "      <td>16.425550</td>\n",
       "      <td>9.741475</td>\n",
       "    </tr>\n",
       "    <tr>\n",
       "      <th>3</th>\n",
       "      <td>-6.470231</td>\n",
       "      <td>-3.799431</td>\n",
       "    </tr>\n",
       "    <tr>\n",
       "      <th>4</th>\n",
       "      <td>6.671651</td>\n",
       "      <td>10.859951</td>\n",
       "    </tr>\n",
       "    <tr>\n",
       "      <th>...</th>\n",
       "      <td>...</td>\n",
       "      <td>...</td>\n",
       "    </tr>\n",
       "    <tr>\n",
       "      <th>495</th>\n",
       "      <td>2.765996</td>\n",
       "      <td>14.658878</td>\n",
       "    </tr>\n",
       "    <tr>\n",
       "      <th>496</th>\n",
       "      <td>1.337265</td>\n",
       "      <td>16.839936</td>\n",
       "    </tr>\n",
       "    <tr>\n",
       "      <th>497</th>\n",
       "      <td>3.506746</td>\n",
       "      <td>-4.078494</td>\n",
       "    </tr>\n",
       "    <tr>\n",
       "      <th>498</th>\n",
       "      <td>2.018496</td>\n",
       "      <td>14.765029</td>\n",
       "    </tr>\n",
       "    <tr>\n",
       "      <th>499</th>\n",
       "      <td>14.865219</td>\n",
       "      <td>3.939400</td>\n",
       "    </tr>\n",
       "  </tbody>\n",
       "</table>\n",
       "<p>500 rows × 2 columns</p>\n",
       "</div>"
      ],
      "text/plain": [
       "             a          b\n",
       "0    -6.418842   7.292738\n",
       "1    18.068756  -3.590761\n",
       "2    16.425550   9.741475\n",
       "3    -6.470231  -3.799431\n",
       "4     6.671651  10.859951\n",
       "..         ...        ...\n",
       "495   2.765996  14.658878\n",
       "496   1.337265  16.839936\n",
       "497   3.506746  -4.078494\n",
       "498   2.018496  14.765029\n",
       "499  14.865219   3.939400\n",
       "\n",
       "[500 rows x 2 columns]"
      ]
     },
     "execution_count": 28,
     "metadata": {},
     "output_type": "execute_result"
    }
   ],
   "source": [
    "df = pd.DataFrame()\n",
    "df['a'] = norm.rvs(loc=5,scale=10,size=500) #  [x for x in range(20)]\n",
    "df['b'] = norm.rvs(loc=5,scale=10,size=500)\n",
    "\n",
    "df"
   ]
  },
  {
   "cell_type": "code",
   "execution_count": 29,
   "metadata": {},
   "outputs": [
    {
     "data": {
      "text/html": [
       "<div>\n",
       "<style scoped>\n",
       "    .dataframe tbody tr th:only-of-type {\n",
       "        vertical-align: middle;\n",
       "    }\n",
       "\n",
       "    .dataframe tbody tr th {\n",
       "        vertical-align: top;\n",
       "    }\n",
       "\n",
       "    .dataframe thead th {\n",
       "        text-align: right;\n",
       "    }\n",
       "</style>\n",
       "<table border=\"1\" class=\"dataframe\">\n",
       "  <thead>\n",
       "    <tr style=\"text-align: right;\">\n",
       "      <th></th>\n",
       "      <th>a</th>\n",
       "      <th>b</th>\n",
       "    </tr>\n",
       "  </thead>\n",
       "  <tbody>\n",
       "    <tr>\n",
       "      <th>a</th>\n",
       "      <td>1.00000</td>\n",
       "      <td>0.05758</td>\n",
       "    </tr>\n",
       "    <tr>\n",
       "      <th>b</th>\n",
       "      <td>0.05758</td>\n",
       "      <td>1.00000</td>\n",
       "    </tr>\n",
       "  </tbody>\n",
       "</table>\n",
       "</div>"
      ],
      "text/plain": [
       "         a        b\n",
       "a  1.00000  0.05758\n",
       "b  0.05758  1.00000"
      ]
     },
     "execution_count": 29,
     "metadata": {},
     "output_type": "execute_result"
    }
   ],
   "source": [
    "df[['a','b']].corr()"
   ]
  },
  {
   "cell_type": "code",
   "execution_count": 30,
   "metadata": {},
   "outputs": [
    {
     "data": {
      "text/html": [
       "<div>\n",
       "<style scoped>\n",
       "    .dataframe tbody tr th:only-of-type {\n",
       "        vertical-align: middle;\n",
       "    }\n",
       "\n",
       "    .dataframe tbody tr th {\n",
       "        vertical-align: top;\n",
       "    }\n",
       "\n",
       "    .dataframe thead th {\n",
       "        text-align: right;\n",
       "    }\n",
       "</style>\n",
       "<table border=\"1\" class=\"dataframe\">\n",
       "  <thead>\n",
       "    <tr style=\"text-align: right;\">\n",
       "      <th></th>\n",
       "      <th>a</th>\n",
       "      <th>b</th>\n",
       "    </tr>\n",
       "  </thead>\n",
       "  <tbody>\n",
       "    <tr>\n",
       "      <th>0</th>\n",
       "      <td>0</td>\n",
       "      <td>1</td>\n",
       "    </tr>\n",
       "    <tr>\n",
       "      <th>1</th>\n",
       "      <td>1</td>\n",
       "      <td>-1</td>\n",
       "    </tr>\n",
       "    <tr>\n",
       "      <th>2</th>\n",
       "      <td>2</td>\n",
       "      <td>-4</td>\n",
       "    </tr>\n",
       "    <tr>\n",
       "      <th>3</th>\n",
       "      <td>3</td>\n",
       "      <td>-1</td>\n",
       "    </tr>\n",
       "    <tr>\n",
       "      <th>4</th>\n",
       "      <td>4</td>\n",
       "      <td>-2</td>\n",
       "    </tr>\n",
       "    <tr>\n",
       "      <th>5</th>\n",
       "      <td>5</td>\n",
       "      <td>-3</td>\n",
       "    </tr>\n",
       "    <tr>\n",
       "      <th>6</th>\n",
       "      <td>6</td>\n",
       "      <td>-4</td>\n",
       "    </tr>\n",
       "    <tr>\n",
       "      <th>7</th>\n",
       "      <td>7</td>\n",
       "      <td>-8</td>\n",
       "    </tr>\n",
       "    <tr>\n",
       "      <th>8</th>\n",
       "      <td>8</td>\n",
       "      <td>-5</td>\n",
       "    </tr>\n",
       "    <tr>\n",
       "      <th>9</th>\n",
       "      <td>9</td>\n",
       "      <td>-8</td>\n",
       "    </tr>\n",
       "    <tr>\n",
       "      <th>10</th>\n",
       "      <td>10</td>\n",
       "      <td>-9</td>\n",
       "    </tr>\n",
       "    <tr>\n",
       "      <th>11</th>\n",
       "      <td>11</td>\n",
       "      <td>-11</td>\n",
       "    </tr>\n",
       "    <tr>\n",
       "      <th>12</th>\n",
       "      <td>12</td>\n",
       "      <td>-12</td>\n",
       "    </tr>\n",
       "    <tr>\n",
       "      <th>13</th>\n",
       "      <td>13</td>\n",
       "      <td>-15</td>\n",
       "    </tr>\n",
       "    <tr>\n",
       "      <th>14</th>\n",
       "      <td>14</td>\n",
       "      <td>-16</td>\n",
       "    </tr>\n",
       "    <tr>\n",
       "      <th>15</th>\n",
       "      <td>15</td>\n",
       "      <td>-18</td>\n",
       "    </tr>\n",
       "    <tr>\n",
       "      <th>16</th>\n",
       "      <td>16</td>\n",
       "      <td>-15</td>\n",
       "    </tr>\n",
       "    <tr>\n",
       "      <th>17</th>\n",
       "      <td>17</td>\n",
       "      <td>-19</td>\n",
       "    </tr>\n",
       "    <tr>\n",
       "      <th>18</th>\n",
       "      <td>18</td>\n",
       "      <td>-18</td>\n",
       "    </tr>\n",
       "    <tr>\n",
       "      <th>19</th>\n",
       "      <td>19</td>\n",
       "      <td>-17</td>\n",
       "    </tr>\n",
       "  </tbody>\n",
       "</table>\n",
       "</div>"
      ],
      "text/plain": [
       "     a   b\n",
       "0    0   1\n",
       "1    1  -1\n",
       "2    2  -4\n",
       "3    3  -1\n",
       "4    4  -2\n",
       "5    5  -3\n",
       "6    6  -4\n",
       "7    7  -8\n",
       "8    8  -5\n",
       "9    9  -8\n",
       "10  10  -9\n",
       "11  11 -11\n",
       "12  12 -12\n",
       "13  13 -15\n",
       "14  14 -16\n",
       "15  15 -18\n",
       "16  16 -15\n",
       "17  17 -19\n",
       "18  18 -18\n",
       "19  19 -17"
      ]
     },
     "execution_count": 30,
     "metadata": {},
     "output_type": "execute_result"
    }
   ],
   "source": [
    "df = pd.DataFrame()\n",
    "df['a'] =  [x for x in range(20)]\n",
    "df['b'] = [-(x + randint(-3, 3)) for x in range(20)]\n",
    "df"
   ]
  },
  {
   "cell_type": "code",
   "execution_count": 31,
   "metadata": {},
   "outputs": [
    {
     "data": {
      "text/html": [
       "<div>\n",
       "<style scoped>\n",
       "    .dataframe tbody tr th:only-of-type {\n",
       "        vertical-align: middle;\n",
       "    }\n",
       "\n",
       "    .dataframe tbody tr th {\n",
       "        vertical-align: top;\n",
       "    }\n",
       "\n",
       "    .dataframe thead th {\n",
       "        text-align: right;\n",
       "    }\n",
       "</style>\n",
       "<table border=\"1\" class=\"dataframe\">\n",
       "  <thead>\n",
       "    <tr style=\"text-align: right;\">\n",
       "      <th></th>\n",
       "      <th>a</th>\n",
       "      <th>b</th>\n",
       "    </tr>\n",
       "  </thead>\n",
       "  <tbody>\n",
       "    <tr>\n",
       "      <th>a</th>\n",
       "      <td>1.000000</td>\n",
       "      <td>-0.968172</td>\n",
       "    </tr>\n",
       "    <tr>\n",
       "      <th>b</th>\n",
       "      <td>-0.968172</td>\n",
       "      <td>1.000000</td>\n",
       "    </tr>\n",
       "  </tbody>\n",
       "</table>\n",
       "</div>"
      ],
      "text/plain": [
       "          a         b\n",
       "a  1.000000 -0.968172\n",
       "b -0.968172  1.000000"
      ]
     },
     "execution_count": 31,
     "metadata": {},
     "output_type": "execute_result"
    }
   ],
   "source": [
    "df.corr()"
   ]
  },
  {
   "cell_type": "code",
   "execution_count": null,
   "metadata": {},
   "outputs": [],
   "source": []
  }
 ],
 "metadata": {
  "kernelspec": {
   "display_name": "Python 3",
   "language": "python",
   "name": "python3"
  },
  "language_info": {
   "codemirror_mode": {
    "name": "ipython",
    "version": 3
   },
   "file_extension": ".py",
   "mimetype": "text/x-python",
   "name": "python",
   "nbconvert_exporter": "python",
   "pygments_lexer": "ipython3",
   "version": "3.8.8"
  },
  "toc": {
   "base_numbering": 1,
   "nav_menu": {},
   "number_sections": true,
   "sideBar": true,
   "skip_h1_title": false,
   "title_cell": "Table of Contents",
   "title_sidebar": "Contents",
   "toc_cell": false,
   "toc_position": {},
   "toc_section_display": true,
   "toc_window_display": false
  },
  "varInspector": {
   "cols": {
    "lenName": 16,
    "lenType": 16,
    "lenVar": 40
   },
   "kernels_config": {
    "python": {
     "delete_cmd_postfix": "",
     "delete_cmd_prefix": "del ",
     "library": "var_list.py",
     "varRefreshCmd": "print(var_dic_list())"
    },
    "r": {
     "delete_cmd_postfix": ") ",
     "delete_cmd_prefix": "rm(",
     "library": "var_list.r",
     "varRefreshCmd": "cat(var_dic_list()) "
    }
   },
   "types_to_exclude": [
    "module",
    "function",
    "builtin_function_or_method",
    "instance",
    "_Feature"
   ],
   "window_display": false
  }
 },
 "nbformat": 4,
 "nbformat_minor": 2
}
